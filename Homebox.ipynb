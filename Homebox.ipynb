{
 "cells": [
  {
   "cell_type": "markdown",
   "metadata": {},
   "source": [
    "# Choosing positions for Homebox Storage | Business Proposal | Introduction\n",
    "\n",
    "## Introduction\n",
    "The purpose of this project is to help businessman for choosing position for Box storage business taking in account their environment. We are going to achieve it by study how one major (HOMEBOX) is taking decision. It will help businessman making smart and efficient decision on selecting great place in France. Lots of people are searching new business position in the immovable industries specially on box storage in France. This is the complete study of how big industrial are taking decision in the sector. We show which parameters are relevant when it’s come to choose place for new box storage. This project is for those people who are looking for better way to decision before\n",
    "\n",
    "## Launching new business\n",
    "This Project aim to create an analysis of features for a young businessman to search a best place for business home box. The features include venues, professional and non professional business, area and demographic.\n",
    "It will help people to get basics answers of the area and neighborhood before launching a new storage box business. Choosing a new city, state, place for new business or to start one.\n",
    "\n",
    "## Problem Which Tried to Solve\n",
    "The major purpose of this project, is to suggest a better business position in a France for businessman\n",
    "\n",
    "\n",
    "## The Location\n",
    "France is a popular destination for new business. As a result, it is one of the most diverse and multicultural areas in the word, being home to various religious groups and places of worship. Although business has become a hot topic over the past few years specially with Emmanuel Macron as president.\n",
    "\n",
    "Foursquare API: This project would use Four-square API and scraping data from https://www.homebox.fr/ as its prime data gathering source. Four-square API is a database of millions of places, especially their places API which provides the ability to perform location search, location sharing and details about a business. Work\n",
    "\n",
    "## Flow\n",
    "Using credentials of Foursquare API features of near-by places of the neighborhoods would be mined. Due to http request limitations the number of places per neighborhood parameter would reasonably be set to 50 and the radius parameter would be set to 1500. Clustering Approach: We decided to explore neighborhoods, segment them, and group them into clusters to find similar neighborhoods in a big city like New York and Toronto. To be able to do that, we need to cluster data which is a form of unsupervised machine learning: k-means clustering algorithm Libraries Which are Used to Develope the Project:  \n",
    "Pandas: For creating and manipulating dataframes.  \n",
    "Folium: Python visualization library would be used to visualize the neighborhoods cluster distribution of using interactive leaflet map. Scikit Learn: For importing k-means clustering.  \n",
    "JSON: Library to handle JSON files.  \n",
    "XML: To separate data from presentation and XML stores data in plain text format.  \n",
    "Geocoder: To retrieve Location Data.  \n",
    "Beautiful Soup and Requests: To scrap and library to handle http requests.  \n",
    "Matplotlib: Python Plotting Module  \n"
   ]
  },
  {
   "cell_type": "code",
   "execution_count": 1,
   "metadata": {},
   "outputs": [
    {
     "name": "stdout",
     "output_type": "stream",
     "text": [
      "Requirement already satisfied: pandas in ./.local/lib/python3.7/site-packages (1.0.3)\n",
      "Requirement already satisfied: python-dateutil>=2.6.1 in /usr/lib/python3/dist-packages (from pandas) (2.7.3)\n",
      "Requirement already satisfied: numpy>=1.13.3 in ./.local/lib/python3.7/site-packages (from pandas) (1.18.2)\n",
      "Requirement already satisfied: pytz>=2017.2 in /usr/lib/python3/dist-packages (from pandas) (2018.9)\n",
      "Requirement already satisfied: BeautifulSoup4 in ./.local/lib/python3.7/site-packages (4.8.2)\n",
      "Requirement already satisfied: soupsieve>=1.2 in ./.local/lib/python3.7/site-packages (from BeautifulSoup4) (2.0)\n",
      "Requirement already satisfied: geopy in ./.local/lib/python3.7/site-packages (1.21.0)\n",
      "Requirement already satisfied: geographiclib<2,>=1.49 in ./.local/lib/python3.7/site-packages (from geopy) (1.50)\n",
      "Requirement already satisfied: matplotlib in ./.local/lib/python3.7/site-packages (3.2.1)\n",
      "Requirement already satisfied: pyparsing!=2.0.4,!=2.1.2,!=2.1.6,>=2.0.1 in ./.local/lib/python3.7/site-packages (from matplotlib) (2.4.6)\n",
      "Requirement already satisfied: kiwisolver>=1.0.1 in ./.local/lib/python3.7/site-packages (from matplotlib) (1.1.0)\n",
      "Requirement already satisfied: python-dateutil>=2.1 in /usr/lib/python3/dist-packages (from matplotlib) (2.7.3)\n",
      "Requirement already satisfied: cycler>=0.10 in ./.local/lib/python3.7/site-packages (from matplotlib) (0.10.0)\n",
      "Requirement already satisfied: numpy>=1.11 in ./.local/lib/python3.7/site-packages (from matplotlib) (1.18.2)\n",
      "Requirement already satisfied: setuptools in /usr/lib/python3/dist-packages (from kiwisolver>=1.0.1->matplotlib) (40.8.0)\n",
      "Requirement already satisfied: six in /usr/lib/python3/dist-packages (from cycler>=0.10->matplotlib) (1.12.0)\n",
      "Requirement already satisfied: seaborn in ./.local/lib/python3.7/site-packages (0.10.0)\n",
      "Requirement already satisfied: pandas>=0.22.0 in ./.local/lib/python3.7/site-packages (from seaborn) (1.0.3)\n",
      "Requirement already satisfied: numpy>=1.13.3 in ./.local/lib/python3.7/site-packages (from seaborn) (1.18.2)\n",
      "Requirement already satisfied: scipy>=1.0.1 in ./.local/lib/python3.7/site-packages (from seaborn) (1.4.1)\n",
      "Requirement already satisfied: matplotlib>=2.1.2 in ./.local/lib/python3.7/site-packages (from seaborn) (3.2.1)\n",
      "Requirement already satisfied: python-dateutil>=2.6.1 in /usr/lib/python3/dist-packages (from pandas>=0.22.0->seaborn) (2.7.3)\n",
      "Requirement already satisfied: pytz>=2017.2 in /usr/lib/python3/dist-packages (from pandas>=0.22.0->seaborn) (2018.9)\n",
      "Requirement already satisfied: cycler>=0.10 in ./.local/lib/python3.7/site-packages (from matplotlib>=2.1.2->seaborn) (0.10.0)\n",
      "Requirement already satisfied: kiwisolver>=1.0.1 in ./.local/lib/python3.7/site-packages (from matplotlib>=2.1.2->seaborn) (1.1.0)\n",
      "Requirement already satisfied: pyparsing!=2.0.4,!=2.1.2,!=2.1.6,>=2.0.1 in ./.local/lib/python3.7/site-packages (from matplotlib>=2.1.2->seaborn) (2.4.6)\n",
      "Requirement already satisfied: six in /usr/lib/python3/dist-packages (from cycler>=0.10->matplotlib>=2.1.2->seaborn) (1.12.0)\n",
      "Requirement already satisfied: setuptools in /usr/lib/python3/dist-packages (from kiwisolver>=1.0.1->matplotlib>=2.1.2->seaborn) (40.8.0)\n",
      "Requirement already satisfied: folium in ./.local/lib/python3.7/site-packages (0.10.1)\n",
      "Requirement already satisfied: numpy in ./.local/lib/python3.7/site-packages (from folium) (1.18.2)\n",
      "Requirement already satisfied: jinja2>=2.9 in ./.local/lib/python3.7/site-packages (from folium) (2.11.1)\n",
      "Requirement already satisfied: requests in /usr/lib/python3/dist-packages (from folium) (2.21.0)\n",
      "Requirement already satisfied: branca>=0.3.0 in ./.local/lib/python3.7/site-packages (from folium) (0.4.0)\n",
      "Requirement already satisfied: MarkupSafe>=0.23 in /usr/lib/python3/dist-packages (from jinja2>=2.9->folium) (1.1.0)\n",
      "Requirement already satisfied: six in /usr/lib/python3/dist-packages (from branca>=0.3.0->folium) (1.12.0)\n",
      "Requirement already satisfied: lxml in ./.local/lib/python3.7/site-packages (4.5.0)\n"
     ]
    }
   ],
   "source": [
    "################# \n",
    "#Import necessary package for pandas library \n",
    "######################  \n",
    "!pip3 install pandas\n",
    "import pandas as pd\n",
    "import numpy as np\n",
    "\n",
    "################# \n",
    "#Import necessary package for scraping \n",
    "######################\n",
    "\n",
    "!pip3 install BeautifulSoup4\n",
    "from bs4 import BeautifulSoup\n",
    "import requests\n",
    "from requests import get \n",
    "import re\n",
    "\n",
    "# import get from request to get all the pa\n",
    "###############################################################\n",
    "###### Import necessary  library to look on the different page######\n",
    "#############################################################\n",
    "from time import sleep\n",
    "from random import randint\n",
    "from time import time\n",
    "from IPython.core.display import clear_output # Since we’re going to make 72 requests,Our work will look a bit untidy \n",
    "                                              #. To avoid that, we’ll clear the output after each iteration\n",
    "import warnings\n",
    "\n",
    "###############################################################\n",
    "###### Import necessary  library to get coordinate from an adress ######\n",
    "#############################################################\n",
    "!pip3 install geopy\n",
    "from geopy.geocoders import Nominatim\n",
    "# convert an address into latitude and longitude values\n",
    "from geopy.extra.rate_limiter import RateLimiter \n",
    "\n",
    "\n",
    "#########################################################################\n",
    "###### Import necessary library for ploting\n",
    "##########################################################################\n",
    "!pip3 install matplotlib\n",
    "import matplotlib.pyplot as plt\n",
    "!pip3 install seaborn\n",
    "import seaborn as sns\n",
    "%matplotlib inline \n",
    "\n",
    "#########################################################################\n",
    "###### Import geo Mapping\n",
    "##########################################################################\n",
    "!pip3 install folium\n",
    "import folium\n",
    "\n",
    "\n",
    "#########################################################################\n",
    "####### Imoport necessary package for scraping table in Webpage\n",
    "##########################################################################\n",
    "!pip3 install lxml\n",
    "import lxml.html as lh\n"
   ]
  },
  {
   "cell_type": "code",
   "execution_count": 29,
   "metadata": {},
   "outputs": [],
   "source": [
    "#url_home_box='https://www.homebox.fr/garde-meuble-paris.html'# url from homebox\n",
    "#result=requests.get(url_home_box) # Storr the url in the variable result\n",
    "#result.text[:500] # Show the first 1000 charactère for the link"
   ]
  },
  {
   "cell_type": "code",
   "execution_count": 8,
   "metadata": {},
   "outputs": [],
   "source": [
    "soup=BeautifulSoup(result.text, 'html.parser')\n",
    "#print(soup.prettify()[:500])"
   ]
  },
  {
   "cell_type": "code",
   "execution_count": 9,
   "metadata": {},
   "outputs": [],
   "source": [
    "#home_box_contains=soup.find_all('div',  class_='required-fields row')\n",
    "home_box_contains=soup.find_all('div',  class_='coordinates')\n",
    "home_box_contains1=soup.find_all('div', class_='middle col-sm-6 col-xs-12')\n",
    "#home_box_contains1"
   ]
  },
  {
   "cell_type": "markdown",
   "metadata": {},
   "source": [
    "## Scraping the HomeBox Webpage"
   ]
  },
  {
   "cell_type": "code",
   "execution_count": 21,
   "metadata": {},
   "outputs": [
    {
     "name": "stdout",
     "output_type": "stream",
     "text": [
      "Request:9; Frequency: 0.06402487772212706 requests/s\n"
     ]
    }
   ],
   "source": [
    "#Declare all the variable\n",
    "postals=[]\n",
    "locatites=[]\n",
    "adresses=[]\n",
    "votes=[]\n",
    "ratings=[]\n",
    "codes =[]\n",
    "\n",
    "# Preparing the monitoring of the loop\n",
    "start_time = time()\n",
    "requests = 0\n",
    "years_url = [str(i) for i in range(2000,2001)] # Initialisation du paramètre years_url dans la boucle\n",
    "stockage_homebox=[\"garde-meuble-paris\",\"garde-meuble-lyon\",\"garde-meuble-marseille\",\"garde-meuble-toulouse\",\"garde-meuble-bordeaux\",\n",
    "                \"garde-meuble-nice\",\"garde-meuble-lille\",\"garde-meuble-nantes\",\"garde-meuble-montpellier\"]\n",
    "# For every year in the interval 2000-2017\n",
    "for year_url in years_url:\n",
    "# Initialise the for loop for the different page\n",
    "    for stockage in stockage_homebox:\n",
    "\n",
    "# Make a get request\n",
    "        result_home_box_scraping = get('https://www.homebox.fr/'+stockage+'.html')\n",
    "# Pause the loop\n",
    "        sleep(randint(8,15))\n",
    "\n",
    "# Monitor the requests\n",
    "        requests += 1\n",
    "        elapsed_time = time() - start_time\n",
    "        print('Request:{}; Frequency: {} requests/s'.format(requests, requests/elapsed_time))\n",
    "        clear_output(wait = True)\n",
    "\n",
    "# Break the loop if the number of requests is greater than expected\n",
    "        if requests > 10:\n",
    "            warn('Number of requests was greater than expected.')\n",
    "            break\n",
    "                                       \n",
    "        soup_home_box_scraping = BeautifulSoup(result_home_box_scraping.text, 'html.parser')\n",
    "        home_box_contains2= soup_home_box_scraping.find_all('div',  class_='coordinates')\n",
    "        home_box_contains3=soup_home_box_scraping.find_all('div',  class_='middle col-sm-6 col-xs-12')\n",
    "\n",
    " # For every movie of these 50\n",
    "        for contain in home_box_contains2:\n",
    "# Obtains the postal code of the ome box\n",
    "            postal= contain.find('span', class_ = 'postal-code').text\n",
    "            codes.append(postal)\n",
    "\n",
    "# Obtain the locality of the product\n",
    "            localite= contain.find('span', class_ = 'locality').text\n",
    "            #locatites.append(localite)\n",
    "\n",
    "# Obtain the complete adresse\n",
    "            adresse=contain.find('div', class_='thoroughfare').text\n",
    "            #adresses.append(adresse)\n",
    "        \n",
    "# Concatenante the parameter adresse + postalt + locatlite\n",
    "            postals.append('Homebox ; '+''+adresse +' '+postal+' '+ localite)\n",
    "    \n",
    "# Obtain the datad form the privat profetionnel\n",
    "        for contain1 in home_box_contains3:\n",
    "            postal1= contain1.find('div', class_ = 'adress').text\n",
    "            postals.append('Privat ;'+ postal1)\n",
    "\n",
    "            df_home_box = pd.DataFrame({'Postalcode': postals})\n",
    "            \n",
    "            #print(test_df.info())\n",
    "            df_home_box = df_home_box[['Postalcode']]\n",
    "            df_home_Adress =pd.DataFrame({'code': codes})"
   ]
  },
  {
   "cell_type": "markdown",
   "metadata": {},
   "source": [
    "#### Put the scraping Datei in a gut sctructure"
   ]
  },
  {
   "cell_type": "code",
   "execution_count": 22,
   "metadata": {},
   "outputs": [],
   "source": [
    "df = df_home_box \n",
    "df[['Homeboxyes&no','Postalcode']] = df.Postalcode.str.split(';', expand=True).iloc[:,[0,1]]"
   ]
  },
  {
   "cell_type": "code",
   "execution_count": 23,
   "metadata": {},
   "outputs": [
    {
     "data": {
      "text/html": [
       "<div>\n",
       "<style scoped>\n",
       "    .dataframe tbody tr th:only-of-type {\n",
       "        vertical-align: middle;\n",
       "    }\n",
       "\n",
       "    .dataframe tbody tr th {\n",
       "        vertical-align: top;\n",
       "    }\n",
       "\n",
       "    .dataframe thead th {\n",
       "        text-align: right;\n",
       "    }\n",
       "</style>\n",
       "<table border=\"1\" class=\"dataframe\">\n",
       "  <thead>\n",
       "    <tr style=\"text-align: right;\">\n",
       "      <th></th>\n",
       "      <th>Postalcode</th>\n",
       "      <th>Homeboxyes&amp;no</th>\n",
       "    </tr>\n",
       "  </thead>\n",
       "  <tbody>\n",
       "    <tr>\n",
       "      <th>0</th>\n",
       "      <td>11 rue Piccini 75016 Paris</td>\n",
       "      <td>Homebox</td>\n",
       "    </tr>\n",
       "    <tr>\n",
       "      <th>1</th>\n",
       "      <td>8 place Boulnois 75017 Paris</td>\n",
       "      <td>Homebox</td>\n",
       "    </tr>\n",
       "    <tr>\n",
       "      <th>2</th>\n",
       "      <td>1 rue Jean Lolive 93170 Bagnolet</td>\n",
       "      <td>Homebox</td>\n",
       "    </tr>\n",
       "  </tbody>\n",
       "</table>\n",
       "</div>"
      ],
      "text/plain": [
       "                          Postalcode Homeboxyes&no\n",
       "0         11 rue Piccini 75016 Paris      Homebox \n",
       "1       8 place Boulnois 75017 Paris      Homebox \n",
       "2   1 rue Jean Lolive 93170 Bagnolet      Homebox "
      ]
     },
     "execution_count": 23,
     "metadata": {},
     "output_type": "execute_result"
    }
   ],
   "source": [
    "df[0:3]"
   ]
  },
  {
   "cell_type": "markdown",
   "metadata": {},
   "source": [
    "#### Extract ZIP code from adress"
   ]
  },
  {
   "cell_type": "code",
   "execution_count": 24,
   "metadata": {},
   "outputs": [
    {
     "data": {
      "text/html": [
       "<div>\n",
       "<style scoped>\n",
       "    .dataframe tbody tr th:only-of-type {\n",
       "        vertical-align: middle;\n",
       "    }\n",
       "\n",
       "    .dataframe tbody tr th {\n",
       "        vertical-align: top;\n",
       "    }\n",
       "\n",
       "    .dataframe thead th {\n",
       "        text-align: right;\n",
       "    }\n",
       "</style>\n",
       "<table border=\"1\" class=\"dataframe\">\n",
       "  <thead>\n",
       "    <tr style=\"text-align: right;\">\n",
       "      <th></th>\n",
       "      <th>Postalcode</th>\n",
       "      <th>Homeboxyes&amp;no</th>\n",
       "      <th>Code Postal</th>\n",
       "    </tr>\n",
       "  </thead>\n",
       "  <tbody>\n",
       "    <tr>\n",
       "      <th>0</th>\n",
       "      <td>11 rue Piccini 75016 Paris</td>\n",
       "      <td>Homebox</td>\n",
       "      <td>75016</td>\n",
       "    </tr>\n",
       "    <tr>\n",
       "      <th>1</th>\n",
       "      <td>8 place Boulnois 75017 Paris</td>\n",
       "      <td>Homebox</td>\n",
       "      <td>75017</td>\n",
       "    </tr>\n",
       "    <tr>\n",
       "      <th>2</th>\n",
       "      <td>1 rue Jean Lolive 93170 Bagnolet</td>\n",
       "      <td>Homebox</td>\n",
       "      <td>93170</td>\n",
       "    </tr>\n",
       "  </tbody>\n",
       "</table>\n",
       "</div>"
      ],
      "text/plain": [
       "                          Postalcode Homeboxyes&no Code Postal\n",
       "0         11 rue Piccini 75016 Paris      Homebox        75016\n",
       "1       8 place Boulnois 75017 Paris      Homebox        75017\n",
       "2   1 rue Jean Lolive 93170 Bagnolet      Homebox        93170"
      ]
     },
     "execution_count": 24,
     "metadata": {},
     "output_type": "execute_result"
    }
   ],
   "source": [
    "df['Code Postal'] = df['Postalcode'].str.extract(r'(\\d{5}\\-?\\d{0,4})')\n",
    "df[0:3]"
   ]
  },
  {
   "cell_type": "markdown",
   "metadata": {},
   "source": [
    "#### Save the Data"
   ]
  },
  {
   "cell_type": "code",
   "execution_count": 25,
   "metadata": {},
   "outputs": [],
   "source": [
    "df.to_csv('Scrapingdata.csv')"
   ]
  },
  {
   "cell_type": "markdown",
   "metadata": {},
   "source": [
    "## Find the coordinate on the coll Postalcode"
   ]
  },
  {
   "cell_type": "markdown",
   "metadata": {},
   "source": [
    "#### Call the Scrapingdata"
   ]
  },
  {
   "cell_type": "code",
   "execution_count": 155,
   "metadata": {},
   "outputs": [
    {
     "data": {
      "text/html": [
       "<div>\n",
       "<style scoped>\n",
       "    .dataframe tbody tr th:only-of-type {\n",
       "        vertical-align: middle;\n",
       "    }\n",
       "\n",
       "    .dataframe tbody tr th {\n",
       "        vertical-align: top;\n",
       "    }\n",
       "\n",
       "    .dataframe thead th {\n",
       "        text-align: right;\n",
       "    }\n",
       "</style>\n",
       "<table border=\"1\" class=\"dataframe\">\n",
       "  <thead>\n",
       "    <tr style=\"text-align: right;\">\n",
       "      <th></th>\n",
       "      <th>Postalcode</th>\n",
       "      <th>Homeboxyes&amp;no</th>\n",
       "      <th>Code Postal</th>\n",
       "    </tr>\n",
       "  </thead>\n",
       "  <tbody>\n",
       "    <tr>\n",
       "      <th>0</th>\n",
       "      <td>11 rue Piccini 75016 Paris</td>\n",
       "      <td>Homebox</td>\n",
       "      <td>75016</td>\n",
       "    </tr>\n",
       "    <tr>\n",
       "      <th>1</th>\n",
       "      <td>8 place Boulnois 75017 Paris</td>\n",
       "      <td>Homebox</td>\n",
       "      <td>75017</td>\n",
       "    </tr>\n",
       "    <tr>\n",
       "      <th>2</th>\n",
       "      <td>1 rue Jean Lolive 93170 Bagnolet</td>\n",
       "      <td>Homebox</td>\n",
       "      <td>93170</td>\n",
       "    </tr>\n",
       "    <tr>\n",
       "      <th>3</th>\n",
       "      <td>12-14 avenue de la République 93170 Bagnolet</td>\n",
       "      <td>Homebox</td>\n",
       "      <td>93170</td>\n",
       "    </tr>\n",
       "    <tr>\n",
       "      <th>4</th>\n",
       "      <td>137-141 avenue Jean Jaurès 93300 Aubervilliers</td>\n",
       "      <td>Homebox</td>\n",
       "      <td>93300</td>\n",
       "    </tr>\n",
       "    <tr>\n",
       "      <th>...</th>\n",
       "      <td>...</td>\n",
       "      <td>...</td>\n",
       "      <td>...</td>\n",
       "    </tr>\n",
       "    <tr>\n",
       "      <th>244</th>\n",
       "      <td>Rue de la Condamine - 34080 Montpellier</td>\n",
       "      <td>Privat</td>\n",
       "      <td>34080</td>\n",
       "    </tr>\n",
       "    <tr>\n",
       "      <th>245</th>\n",
       "      <td>Rue Alberti - 34970 Lattes</td>\n",
       "      <td>Privat</td>\n",
       "      <td>34970</td>\n",
       "    </tr>\n",
       "    <tr>\n",
       "      <th>246</th>\n",
       "      <td>Chemin du Salinié - 34570 Pignan</td>\n",
       "      <td>Privat</td>\n",
       "      <td>34570</td>\n",
       "    </tr>\n",
       "    <tr>\n",
       "      <th>247</th>\n",
       "      <td>Rue Séguier - 30000 Nîmes</td>\n",
       "      <td>Privat</td>\n",
       "      <td>30000</td>\n",
       "    </tr>\n",
       "    <tr>\n",
       "      <th>248</th>\n",
       "      <td>Route D Arles - 30230 Garons</td>\n",
       "      <td>Privat</td>\n",
       "      <td>30230</td>\n",
       "    </tr>\n",
       "  </tbody>\n",
       "</table>\n",
       "<p>249 rows × 3 columns</p>\n",
       "</div>"
      ],
      "text/plain": [
       "                                          Postalcode Homeboxyes&no  \\\n",
       "0                         11 rue Piccini 75016 Paris      Homebox    \n",
       "1                       8 place Boulnois 75017 Paris      Homebox    \n",
       "2                   1 rue Jean Lolive 93170 Bagnolet      Homebox    \n",
       "3       12-14 avenue de la République 93170 Bagnolet      Homebox    \n",
       "4     137-141 avenue Jean Jaurès 93300 Aubervilliers      Homebox    \n",
       "..                                               ...           ...   \n",
       "244          Rue de la Condamine - 34080 Montpellier       Privat    \n",
       "245                       Rue Alberti - 34970 Lattes       Privat    \n",
       "246                 Chemin du Salinié - 34570 Pignan       Privat    \n",
       "247                        Rue Séguier - 30000 Nîmes       Privat    \n",
       "248                     Route D Arles - 30230 Garons       Privat    \n",
       "\n",
       "     Code Postal  \n",
       "0          75016  \n",
       "1          75017  \n",
       "2          93170  \n",
       "3          93170  \n",
       "4          93300  \n",
       "..           ...  \n",
       "244        34080  \n",
       "245        34970  \n",
       "246        34570  \n",
       "247        30000  \n",
       "248        30230  \n",
       "\n",
       "[249 rows x 3 columns]"
      ]
     },
     "execution_count": 155,
     "metadata": {},
     "output_type": "execute_result"
    }
   ],
   "source": [
    "df1 = pd.read_csv('Scrapingdata.csv')\n",
    "df1 = df1.drop(['Unnamed: 0'], axis=1)\n",
    "df1"
   ]
  },
  {
   "cell_type": "markdown",
   "metadata": {},
   "source": [
    "### Find the Coordinate on the call Postalcode"
   ]
  },
  {
   "cell_type": "code",
   "execution_count": 157,
   "metadata": {},
   "outputs": [
    {
     "name": "stderr",
     "output_type": "stream",
     "text": [
      "RateLimiter caught an error, retrying (0/2 tries). Called with (*('Rue Choron - 75009 Paris',), **{}).\n",
      "Traceback (most recent call last):\n",
      "  File \"/usr/lib/python3.7/urllib/request.py\", line 1317, in do_open\n",
      "    encode_chunked=req.has_header('Transfer-encoding'))\n",
      "  File \"/usr/lib/python3.7/http/client.py\", line 1244, in request\n",
      "    self._send_request(method, url, body, headers, encode_chunked)\n",
      "  File \"/usr/lib/python3.7/http/client.py\", line 1290, in _send_request\n",
      "    self.endheaders(body, encode_chunked=encode_chunked)\n",
      "  File \"/usr/lib/python3.7/http/client.py\", line 1239, in endheaders\n",
      "    self._send_output(message_body, encode_chunked=encode_chunked)\n",
      "  File \"/usr/lib/python3.7/http/client.py\", line 1026, in _send_output\n",
      "    self.send(msg)\n",
      "  File \"/usr/lib/python3.7/http/client.py\", line 966, in send\n",
      "    self.connect()\n",
      "  File \"/usr/lib/python3.7/http/client.py\", line 1399, in connect\n",
      "    super().connect()\n",
      "  File \"/usr/lib/python3.7/http/client.py\", line 938, in connect\n",
      "    (self.host,self.port), self.timeout, self.source_address)\n",
      "  File \"/usr/lib/python3.7/socket.py\", line 727, in create_connection\n",
      "    raise err\n",
      "  File \"/usr/lib/python3.7/socket.py\", line 716, in create_connection\n",
      "    sock.connect(sa)\n",
      "OSError: [Errno 101] Network is unreachable\n",
      "\n",
      "During handling of the above exception, another exception occurred:\n",
      "\n",
      "Traceback (most recent call last):\n",
      "  File \"/home/loth/.local/lib/python3.7/site-packages/geopy/geocoders/base.py\", line 355, in _call_geocoder\n",
      "    page = requester(req, timeout=timeout, **kwargs)\n",
      "  File \"/usr/lib/python3.7/urllib/request.py\", line 525, in open\n",
      "    response = self._open(req, data)\n",
      "  File \"/usr/lib/python3.7/urllib/request.py\", line 543, in _open\n",
      "    '_open', req)\n",
      "  File \"/usr/lib/python3.7/urllib/request.py\", line 503, in _call_chain\n",
      "    result = func(*args)\n",
      "  File \"/usr/lib/python3.7/urllib/request.py\", line 1360, in https_open\n",
      "    context=self._context, check_hostname=self._check_hostname)\n",
      "  File \"/usr/lib/python3.7/urllib/request.py\", line 1319, in do_open\n",
      "    raise URLError(err)\n",
      "urllib.error.URLError: <urlopen error [Errno 101] Network is unreachable>\n",
      "\n",
      "During handling of the above exception, another exception occurred:\n",
      "\n",
      "Traceback (most recent call last):\n",
      "  File \"/home/loth/.local/lib/python3.7/site-packages/geopy/extra/rate_limiter.py\", line 126, in __call__\n",
      "    return self.func(*args, **kwargs)\n",
      "  File \"/home/loth/.local/lib/python3.7/site-packages/geopy/geocoders/osm.py\", line 406, in geocode\n",
      "    self._call_geocoder(url, timeout=timeout), exactly_one\n",
      "  File \"/home/loth/.local/lib/python3.7/site-packages/geopy/geocoders/base.py\", line 380, in _call_geocoder\n",
      "    raise GeocoderUnavailable('Service not available')\n",
      "geopy.exc.GeocoderUnavailable: Service not available\n",
      "RateLimiter caught an error, retrying (0/2 tries). Called with (*('Rue du Sergent Hoff - 75017 Paris',), **{}).\n",
      "Traceback (most recent call last):\n",
      "  File \"/usr/lib/python3.7/urllib/request.py\", line 1317, in do_open\n",
      "    encode_chunked=req.has_header('Transfer-encoding'))\n",
      "  File \"/usr/lib/python3.7/http/client.py\", line 1244, in request\n",
      "    self._send_request(method, url, body, headers, encode_chunked)\n",
      "  File \"/usr/lib/python3.7/http/client.py\", line 1290, in _send_request\n",
      "    self.endheaders(body, encode_chunked=encode_chunked)\n",
      "  File \"/usr/lib/python3.7/http/client.py\", line 1239, in endheaders\n",
      "    self._send_output(message_body, encode_chunked=encode_chunked)\n",
      "  File \"/usr/lib/python3.7/http/client.py\", line 1026, in _send_output\n",
      "    self.send(msg)\n",
      "  File \"/usr/lib/python3.7/http/client.py\", line 966, in send\n",
      "    self.connect()\n",
      "  File \"/usr/lib/python3.7/http/client.py\", line 1399, in connect\n",
      "    super().connect()\n",
      "  File \"/usr/lib/python3.7/http/client.py\", line 938, in connect\n",
      "    (self.host,self.port), self.timeout, self.source_address)\n",
      "  File \"/usr/lib/python3.7/socket.py\", line 727, in create_connection\n",
      "    raise err\n",
      "  File \"/usr/lib/python3.7/socket.py\", line 716, in create_connection\n",
      "    sock.connect(sa)\n",
      "OSError: [Errno 101] Network is unreachable\n",
      "\n",
      "During handling of the above exception, another exception occurred:\n",
      "\n",
      "Traceback (most recent call last):\n",
      "  File \"/home/loth/.local/lib/python3.7/site-packages/geopy/geocoders/base.py\", line 355, in _call_geocoder\n",
      "    page = requester(req, timeout=timeout, **kwargs)\n",
      "  File \"/usr/lib/python3.7/urllib/request.py\", line 525, in open\n",
      "    response = self._open(req, data)\n",
      "  File \"/usr/lib/python3.7/urllib/request.py\", line 543, in _open\n",
      "    '_open', req)\n",
      "  File \"/usr/lib/python3.7/urllib/request.py\", line 503, in _call_chain\n",
      "    result = func(*args)\n",
      "  File \"/usr/lib/python3.7/urllib/request.py\", line 1360, in https_open\n",
      "    context=self._context, check_hostname=self._check_hostname)\n",
      "  File \"/usr/lib/python3.7/urllib/request.py\", line 1319, in do_open\n",
      "    raise URLError(err)\n",
      "urllib.error.URLError: <urlopen error [Errno 101] Network is unreachable>\n",
      "\n",
      "During handling of the above exception, another exception occurred:\n",
      "\n",
      "Traceback (most recent call last):\n",
      "  File \"/home/loth/.local/lib/python3.7/site-packages/geopy/extra/rate_limiter.py\", line 126, in __call__\n",
      "    return self.func(*args, **kwargs)\n",
      "  File \"/home/loth/.local/lib/python3.7/site-packages/geopy/geocoders/osm.py\", line 406, in geocode\n",
      "    self._call_geocoder(url, timeout=timeout), exactly_one\n",
      "  File \"/home/loth/.local/lib/python3.7/site-packages/geopy/geocoders/base.py\", line 380, in _call_geocoder\n",
      "    raise GeocoderUnavailable('Service not available')\n",
      "geopy.exc.GeocoderUnavailable: Service not available\n",
      "RateLimiter caught an error, retrying (0/2 tries). Called with (*('Place du Maréchal Juin - 75017 Paris',), **{}).\n",
      "Traceback (most recent call last):\n",
      "  File \"/usr/lib/python3.7/urllib/request.py\", line 1317, in do_open\n",
      "    encode_chunked=req.has_header('Transfer-encoding'))\n",
      "  File \"/usr/lib/python3.7/http/client.py\", line 1244, in request\n",
      "    self._send_request(method, url, body, headers, encode_chunked)\n",
      "  File \"/usr/lib/python3.7/http/client.py\", line 1290, in _send_request\n",
      "    self.endheaders(body, encode_chunked=encode_chunked)\n",
      "  File \"/usr/lib/python3.7/http/client.py\", line 1239, in endheaders\n",
      "    self._send_output(message_body, encode_chunked=encode_chunked)\n",
      "  File \"/usr/lib/python3.7/http/client.py\", line 1026, in _send_output\n",
      "    self.send(msg)\n",
      "  File \"/usr/lib/python3.7/http/client.py\", line 966, in send\n",
      "    self.connect()\n",
      "  File \"/usr/lib/python3.7/http/client.py\", line 1407, in connect\n",
      "    server_hostname=server_hostname)\n",
      "  File \"/usr/lib/python3.7/ssl.py\", line 412, in wrap_socket\n",
      "    session=session\n",
      "  File \"/usr/lib/python3.7/ssl.py\", line 853, in _create\n",
      "    self.do_handshake()\n",
      "  File \"/usr/lib/python3.7/ssl.py\", line 1117, in do_handshake\n",
      "    self._sslobj.do_handshake()\n",
      "socket.timeout: _ssl.c:1039: The handshake operation timed out\n",
      "\n",
      "During handling of the above exception, another exception occurred:\n",
      "\n",
      "Traceback (most recent call last):\n",
      "  File \"/home/loth/.local/lib/python3.7/site-packages/geopy/geocoders/base.py\", line 355, in _call_geocoder\n",
      "    page = requester(req, timeout=timeout, **kwargs)\n",
      "  File \"/usr/lib/python3.7/urllib/request.py\", line 525, in open\n",
      "    response = self._open(req, data)\n",
      "  File \"/usr/lib/python3.7/urllib/request.py\", line 543, in _open\n",
      "    '_open', req)\n",
      "  File \"/usr/lib/python3.7/urllib/request.py\", line 503, in _call_chain\n",
      "    result = func(*args)\n",
      "  File \"/usr/lib/python3.7/urllib/request.py\", line 1360, in https_open\n",
      "    context=self._context, check_hostname=self._check_hostname)\n",
      "  File \"/usr/lib/python3.7/urllib/request.py\", line 1319, in do_open\n",
      "    raise URLError(err)\n",
      "urllib.error.URLError: <urlopen error _ssl.c:1039: The handshake operation timed out>\n",
      "\n",
      "During handling of the above exception, another exception occurred:\n",
      "\n",
      "Traceback (most recent call last):\n",
      "  File \"/home/loth/.local/lib/python3.7/site-packages/geopy/extra/rate_limiter.py\", line 126, in __call__\n",
      "    return self.func(*args, **kwargs)\n",
      "  File \"/home/loth/.local/lib/python3.7/site-packages/geopy/geocoders/osm.py\", line 406, in geocode\n",
      "    self._call_geocoder(url, timeout=timeout), exactly_one\n",
      "  File \"/home/loth/.local/lib/python3.7/site-packages/geopy/geocoders/base.py\", line 378, in _call_geocoder\n",
      "    raise GeocoderTimedOut('Service timed out')\n",
      "geopy.exc.GeocoderTimedOut: Service timed out\n"
     ]
    },
    {
     "data": {
      "text/html": [
       "<div>\n",
       "<style scoped>\n",
       "    .dataframe tbody tr th:only-of-type {\n",
       "        vertical-align: middle;\n",
       "    }\n",
       "\n",
       "    .dataframe tbody tr th {\n",
       "        vertical-align: top;\n",
       "    }\n",
       "\n",
       "    .dataframe thead th {\n",
       "        text-align: right;\n",
       "    }\n",
       "</style>\n",
       "<table border=\"1\" class=\"dataframe\">\n",
       "  <thead>\n",
       "    <tr style=\"text-align: right;\">\n",
       "      <th></th>\n",
       "      <th>Postalcode</th>\n",
       "      <th>Homeboxyes&amp;no</th>\n",
       "      <th>Code Postal</th>\n",
       "      <th>location</th>\n",
       "      <th>point</th>\n",
       "      <th>latitude</th>\n",
       "      <th>longitude</th>\n",
       "      <th>altitude</th>\n",
       "    </tr>\n",
       "  </thead>\n",
       "  <tbody>\n",
       "    <tr>\n",
       "      <th>0</th>\n",
       "      <td>11 rue Piccini 75016 Paris</td>\n",
       "      <td>Homebox</td>\n",
       "      <td>75016</td>\n",
       "      <td>(11, Rue Piccini, Quartier de Chaillot, Paris,...</td>\n",
       "      <td>(48.8742855, 2.284862, 0.0)</td>\n",
       "      <td>48.874285</td>\n",
       "      <td>2.284862</td>\n",
       "      <td>0.0</td>\n",
       "    </tr>\n",
       "    <tr>\n",
       "      <th>1</th>\n",
       "      <td>8 place Boulnois 75017 Paris</td>\n",
       "      <td>Homebox</td>\n",
       "      <td>75017</td>\n",
       "      <td>(8, Place Boulnois, Quartier des Ternes, Paris...</td>\n",
       "      <td>(48.8792006, 2.2960456, 0.0)</td>\n",
       "      <td>48.879201</td>\n",
       "      <td>2.296046</td>\n",
       "      <td>0.0</td>\n",
       "    </tr>\n",
       "  </tbody>\n",
       "</table>\n",
       "</div>"
      ],
      "text/plain": [
       "                      Postalcode Homeboxyes&no  Code Postal  \\\n",
       "0     11 rue Piccini 75016 Paris      Homebox         75016   \n",
       "1   8 place Boulnois 75017 Paris      Homebox         75017   \n",
       "\n",
       "                                            location  \\\n",
       "0  (11, Rue Piccini, Quartier de Chaillot, Paris,...   \n",
       "1  (8, Place Boulnois, Quartier des Ternes, Paris...   \n",
       "\n",
       "                          point   latitude  longitude  altitude  \n",
       "0   (48.8742855, 2.284862, 0.0)  48.874285   2.284862       0.0  \n",
       "1  (48.8792006, 2.2960456, 0.0)  48.879201   2.296046       0.0  "
      ]
     },
     "execution_count": 157,
     "metadata": {},
     "output_type": "execute_result"
    }
   ],
   "source": [
    "# We create locator that holds the Geocoding service\n",
    "locator = Nominatim(user_agent='myGeocoder')\n",
    "\n",
    "# 1 - conveneint function to delay between geocoding calls\n",
    "geocode = RateLimiter(locator.geocode, min_delay_seconds=1)\n",
    "\n",
    "# 2- - create location column\n",
    "df1['location'] = df1['Postalcode'].apply(geocode)\n",
    "\n",
    "# 3 - create longitude, laatitude and altitude from location column (returns tuple)\n",
    "df1['point'] = df1['location'].apply(lambda loc: tuple(loc.point) if loc else None)\n",
    "\n",
    "# 4 - split point column into latitude, longitude and altitude columns\n",
    "df1[['latitude', 'longitude', 'altitude']] = pd.DataFrame(df1['point'].tolist(), index=df1.index)\n",
    "df1[:2]"
   ]
  },
  {
   "cell_type": "code",
   "execution_count": 158,
   "metadata": {},
   "outputs": [
    {
     "data": {
      "text/plain": [
       "(249, 8)"
      ]
     },
     "execution_count": 158,
     "metadata": {},
     "output_type": "execute_result"
    }
   ],
   "source": [
    "df1.shape"
   ]
  },
  {
   "cell_type": "code",
   "execution_count": 174,
   "metadata": {
    "scrolled": true
   },
   "outputs": [
    {
     "data": {
      "text/html": [
       "<div>\n",
       "<style scoped>\n",
       "    .dataframe tbody tr th:only-of-type {\n",
       "        vertical-align: middle;\n",
       "    }\n",
       "\n",
       "    .dataframe tbody tr th {\n",
       "        vertical-align: top;\n",
       "    }\n",
       "\n",
       "    .dataframe thead th {\n",
       "        text-align: right;\n",
       "    }\n",
       "</style>\n",
       "<table border=\"1\" class=\"dataframe\">\n",
       "  <thead>\n",
       "    <tr style=\"text-align: right;\">\n",
       "      <th></th>\n",
       "      <th>Postalcode</th>\n",
       "      <th>Homeboxyes&amp;no</th>\n",
       "      <th>Code Postal</th>\n",
       "      <th>latitude</th>\n",
       "      <th>longitude</th>\n",
       "    </tr>\n",
       "  </thead>\n",
       "  <tbody>\n",
       "    <tr>\n",
       "      <th>0</th>\n",
       "      <td>11 rue Piccini 75016 Paris</td>\n",
       "      <td>Homebox</td>\n",
       "      <td>75016</td>\n",
       "      <td>48.874285</td>\n",
       "      <td>2.284862</td>\n",
       "    </tr>\n",
       "    <tr>\n",
       "      <th>1</th>\n",
       "      <td>8 place Boulnois 75017 Paris</td>\n",
       "      <td>Homebox</td>\n",
       "      <td>75017</td>\n",
       "      <td>48.879201</td>\n",
       "      <td>2.296046</td>\n",
       "    </tr>\n",
       "    <tr>\n",
       "      <th>2</th>\n",
       "      <td>1 rue Jean Lolive 93170 Bagnolet</td>\n",
       "      <td>Homebox</td>\n",
       "      <td>93170</td>\n",
       "      <td>48.865592</td>\n",
       "      <td>2.425566</td>\n",
       "    </tr>\n",
       "    <tr>\n",
       "      <th>3</th>\n",
       "      <td>12-14 avenue de la République 93170 Bagnolet</td>\n",
       "      <td>Homebox</td>\n",
       "      <td>93170</td>\n",
       "      <td>48.862514</td>\n",
       "      <td>2.415804</td>\n",
       "    </tr>\n",
       "    <tr>\n",
       "      <th>4</th>\n",
       "      <td>137-141 avenue Jean Jaurès 93300 Aubervilliers</td>\n",
       "      <td>Homebox</td>\n",
       "      <td>93300</td>\n",
       "      <td>48.906441</td>\n",
       "      <td>2.395049</td>\n",
       "    </tr>\n",
       "    <tr>\n",
       "      <th>...</th>\n",
       "      <td>...</td>\n",
       "      <td>...</td>\n",
       "      <td>...</td>\n",
       "      <td>...</td>\n",
       "      <td>...</td>\n",
       "    </tr>\n",
       "    <tr>\n",
       "      <th>243</th>\n",
       "      <td>Avenue du XV de France - 34070 Montpellier</td>\n",
       "      <td>Privat</td>\n",
       "      <td>34070</td>\n",
       "      <td>43.591086</td>\n",
       "      <td>3.845411</td>\n",
       "    </tr>\n",
       "    <tr>\n",
       "      <th>244</th>\n",
       "      <td>Rue de la Condamine - 34080 Montpellier</td>\n",
       "      <td>Privat</td>\n",
       "      <td>34080</td>\n",
       "      <td>43.612800</td>\n",
       "      <td>3.829812</td>\n",
       "    </tr>\n",
       "    <tr>\n",
       "      <th>245</th>\n",
       "      <td>Rue Alberti - 34970 Lattes</td>\n",
       "      <td>Privat</td>\n",
       "      <td>34970</td>\n",
       "      <td>43.571911</td>\n",
       "      <td>3.904329</td>\n",
       "    </tr>\n",
       "    <tr>\n",
       "      <th>246</th>\n",
       "      <td>Chemin du Salinié - 34570 Pignan</td>\n",
       "      <td>Privat</td>\n",
       "      <td>34570</td>\n",
       "      <td>43.592538</td>\n",
       "      <td>3.767092</td>\n",
       "    </tr>\n",
       "    <tr>\n",
       "      <th>247</th>\n",
       "      <td>Rue Séguier - 30000 Nîmes</td>\n",
       "      <td>Privat</td>\n",
       "      <td>30000</td>\n",
       "      <td>43.837139</td>\n",
       "      <td>4.369486</td>\n",
       "    </tr>\n",
       "  </tbody>\n",
       "</table>\n",
       "<p>226 rows × 5 columns</p>\n",
       "</div>"
      ],
      "text/plain": [
       "                                          Postalcode Homeboxyes&no  \\\n",
       "0                         11 rue Piccini 75016 Paris      Homebox    \n",
       "1                       8 place Boulnois 75017 Paris      Homebox    \n",
       "2                   1 rue Jean Lolive 93170 Bagnolet      Homebox    \n",
       "3       12-14 avenue de la République 93170 Bagnolet      Homebox    \n",
       "4     137-141 avenue Jean Jaurès 93300 Aubervilliers      Homebox    \n",
       "..                                               ...           ...   \n",
       "243       Avenue du XV de France - 34070 Montpellier       Privat    \n",
       "244          Rue de la Condamine - 34080 Montpellier       Privat    \n",
       "245                       Rue Alberti - 34970 Lattes       Privat    \n",
       "246                 Chemin du Salinié - 34570 Pignan       Privat    \n",
       "247                        Rue Séguier - 30000 Nîmes       Privat    \n",
       "\n",
       "     Code Postal   latitude  longitude  \n",
       "0          75016  48.874285   2.284862  \n",
       "1          75017  48.879201   2.296046  \n",
       "2          93170  48.865592   2.425566  \n",
       "3          93170  48.862514   2.415804  \n",
       "4          93300  48.906441   2.395049  \n",
       "..           ...        ...        ...  \n",
       "243        34070  43.591086   3.845411  \n",
       "244        34080  43.612800   3.829812  \n",
       "245        34970  43.571911   3.904329  \n",
       "246        34570  43.592538   3.767092  \n",
       "247        30000  43.837139   4.369486  \n",
       "\n",
       "[226 rows x 5 columns]"
      ]
     },
     "execution_count": 174,
     "metadata": {},
     "output_type": "execute_result"
    }
   ],
   "source": [
    "# Create de Dataframe d2 with: Postalcode, Homeboxyes&no, Code Postal, location, point, latitude, longitude\n",
    "df2=df1[['Postalcode', 'Homeboxyes&no', 'Code Postal', 'latitude', 'longitude']]\n",
    "\n",
    "# Drop NA values\n",
    "df2=df2.dropna(axis=0, how='any')\n",
    "df2"
   ]
  },
  {
   "cell_type": "code",
   "execution_count": 175,
   "metadata": {},
   "outputs": [
    {
     "data": {
      "text/plain": [
       "(226, 5)"
      ]
     },
     "execution_count": 175,
     "metadata": {},
     "output_type": "execute_result"
    }
   ],
   "source": [
    "df2.shape"
   ]
  },
  {
   "cell_type": "markdown",
   "metadata": {},
   "source": [
    "#### Save the latitude and longitude from the Homebox data in the CSV file"
   ]
  },
  {
   "cell_type": "code",
   "execution_count": 176,
   "metadata": {},
   "outputs": [],
   "source": [
    "df2.to_csv('homeboxlatitudeandlongitude.csv')"
   ]
  },
  {
   "cell_type": "markdown",
   "metadata": {},
   "source": [
    "## Localisation of storage"
   ]
  },
  {
   "cell_type": "code",
   "execution_count": 178,
   "metadata": {},
   "outputs": [
    {
     "data": {
      "text/html": [
       "<div>\n",
       "<style scoped>\n",
       "    .dataframe tbody tr th:only-of-type {\n",
       "        vertical-align: middle;\n",
       "    }\n",
       "\n",
       "    .dataframe tbody tr th {\n",
       "        vertical-align: top;\n",
       "    }\n",
       "\n",
       "    .dataframe thead th {\n",
       "        text-align: right;\n",
       "    }\n",
       "</style>\n",
       "<table border=\"1\" class=\"dataframe\">\n",
       "  <thead>\n",
       "    <tr style=\"text-align: right;\">\n",
       "      <th></th>\n",
       "      <th>Postalcode</th>\n",
       "      <th>Homeboxyes&amp;no</th>\n",
       "      <th>Code Postal</th>\n",
       "      <th>latitude</th>\n",
       "      <th>longitude</th>\n",
       "    </tr>\n",
       "  </thead>\n",
       "  <tbody>\n",
       "    <tr>\n",
       "      <th>0</th>\n",
       "      <td>11 rue Piccini 75016 Paris</td>\n",
       "      <td>Homebox</td>\n",
       "      <td>75016</td>\n",
       "      <td>48.874285</td>\n",
       "      <td>2.284862</td>\n",
       "    </tr>\n",
       "    <tr>\n",
       "      <th>1</th>\n",
       "      <td>8 place Boulnois 75017 Paris</td>\n",
       "      <td>Homebox</td>\n",
       "      <td>75017</td>\n",
       "      <td>48.879201</td>\n",
       "      <td>2.296046</td>\n",
       "    </tr>\n",
       "  </tbody>\n",
       "</table>\n",
       "</div>"
      ],
      "text/plain": [
       "                      Postalcode Homeboxyes&no  Code Postal   latitude  \\\n",
       "0     11 rue Piccini 75016 Paris      Homebox         75016  48.874285   \n",
       "1   8 place Boulnois 75017 Paris      Homebox         75017  48.879201   \n",
       "\n",
       "   longitude  \n",
       "0   2.284862  \n",
       "1   2.296046  "
      ]
     },
     "execution_count": 178,
     "metadata": {},
     "output_type": "execute_result"
    }
   ],
   "source": [
    "# Call the homeboxlatitudeandlongitude.csv\n",
    "df2=[]\n",
    "df2=pd.read_csv('homeboxlatitudeandlongitude.csv')\n",
    "df2=df2.drop(['Unnamed: 0'], axis=1 )\n",
    "df2[:2]"
   ]
  },
  {
   "cell_type": "code",
   "execution_count": 179,
   "metadata": {},
   "outputs": [
    {
     "data": {
      "text/plain": [
       "(226, 5)"
      ]
     },
     "execution_count": 179,
     "metadata": {},
     "output_type": "execute_result"
    }
   ],
   "source": [
    "df2.shape"
   ]
  },
  {
   "cell_type": "code",
   "execution_count": 98,
   "metadata": {
    "scrolled": false
   },
   "outputs": [
    {
     "data": {
      "text/html": [
       "<div style=\"width:100%;\"><div style=\"position:relative;width:100%;height:0;padding-bottom:60%;\"><iframe src=\"about:blank\" style=\"position:absolute;width:100%;height:100%;left:0;top:0;border:none !important;\" data-html=PCFET0NUWVBFIGh0bWw+CjxoZWFkPiAgICAKICAgIDxtZXRhIGh0dHAtZXF1aXY9ImNvbnRlbnQtdHlwZSIgY29udGVudD0idGV4dC9odG1sOyBjaGFyc2V0PVVURi04IiAvPgogICAgCiAgICAgICAgPHNjcmlwdD4KICAgICAgICAgICAgTF9OT19UT1VDSCA9IGZhbHNlOwogICAgICAgICAgICBMX0RJU0FCTEVfM0QgPSBmYWxzZTsKICAgICAgICA8L3NjcmlwdD4KICAgIAogICAgPHNjcmlwdCBzcmM9Imh0dHBzOi8vY2RuLmpzZGVsaXZyLm5ldC9ucG0vbGVhZmxldEAxLjUuMS9kaXN0L2xlYWZsZXQuanMiPjwvc2NyaXB0PgogICAgPHNjcmlwdCBzcmM9Imh0dHBzOi8vY29kZS5qcXVlcnkuY29tL2pxdWVyeS0xLjEyLjQubWluLmpzIj48L3NjcmlwdD4KICAgIDxzY3JpcHQgc3JjPSJodHRwczovL21heGNkbi5ib290c3RyYXBjZG4uY29tL2Jvb3RzdHJhcC8zLjIuMC9qcy9ib290c3RyYXAubWluLmpzIj48L3NjcmlwdD4KICAgIDxzY3JpcHQgc3JjPSJodHRwczovL2NkbmpzLmNsb3VkZmxhcmUuY29tL2FqYXgvbGlicy9MZWFmbGV0LmF3ZXNvbWUtbWFya2Vycy8yLjAuMi9sZWFmbGV0LmF3ZXNvbWUtbWFya2Vycy5qcyI+PC9zY3JpcHQ+CiAgICA8bGluayByZWw9InN0eWxlc2hlZXQiIGhyZWY9Imh0dHBzOi8vY2RuLmpzZGVsaXZyLm5ldC9ucG0vbGVhZmxldEAxLjUuMS9kaXN0L2xlYWZsZXQuY3NzIi8+CiAgICA8bGluayByZWw9InN0eWxlc2hlZXQiIGhyZWY9Imh0dHBzOi8vbWF4Y2RuLmJvb3RzdHJhcGNkbi5jb20vYm9vdHN0cmFwLzMuMi4wL2Nzcy9ib290c3RyYXAubWluLmNzcyIvPgogICAgPGxpbmsgcmVsPSJzdHlsZXNoZWV0IiBocmVmPSJodHRwczovL21heGNkbi5ib290c3RyYXBjZG4uY29tL2Jvb3RzdHJhcC8zLjIuMC9jc3MvYm9vdHN0cmFwLXRoZW1lLm1pbi5jc3MiLz4KICAgIDxsaW5rIHJlbD0ic3R5bGVzaGVldCIgaHJlZj0iaHR0cHM6Ly9tYXhjZG4uYm9vdHN0cmFwY2RuLmNvbS9mb250LWF3ZXNvbWUvNC42LjMvY3NzL2ZvbnQtYXdlc29tZS5taW4uY3NzIi8+CiAgICA8bGluayByZWw9InN0eWxlc2hlZXQiIGhyZWY9Imh0dHBzOi8vY2RuanMuY2xvdWRmbGFyZS5jb20vYWpheC9saWJzL0xlYWZsZXQuYXdlc29tZS1tYXJrZXJzLzIuMC4yL2xlYWZsZXQuYXdlc29tZS1tYXJrZXJzLmNzcyIvPgogICAgPGxpbmsgcmVsPSJzdHlsZXNoZWV0IiBocmVmPSJodHRwczovL3Jhd2Nkbi5naXRoYWNrLmNvbS9weXRob24tdmlzdWFsaXphdGlvbi9mb2xpdW0vbWFzdGVyL2ZvbGl1bS90ZW1wbGF0ZXMvbGVhZmxldC5hd2Vzb21lLnJvdGF0ZS5jc3MiLz4KICAgIDxzdHlsZT5odG1sLCBib2R5IHt3aWR0aDogMTAwJTtoZWlnaHQ6IDEwMCU7bWFyZ2luOiAwO3BhZGRpbmc6IDA7fTwvc3R5bGU+CiAgICA8c3R5bGU+I21hcCB7cG9zaXRpb246YWJzb2x1dGU7dG9wOjA7Ym90dG9tOjA7cmlnaHQ6MDtsZWZ0OjA7fTwvc3R5bGU+CiAgICAKICAgICAgICAgICAgPG1ldGEgbmFtZT0idmlld3BvcnQiIGNvbnRlbnQ9IndpZHRoPWRldmljZS13aWR0aCwKICAgICAgICAgICAgICAgIGluaXRpYWwtc2NhbGU9MS4wLCBtYXhpbXVtLXNjYWxlPTEuMCwgdXNlci1zY2FsYWJsZT1ubyIgLz4KICAgICAgICAgICAgPHN0eWxlPgogICAgICAgICAgICAgICAgI21hcF8xNjU4NTI4YjVjMmI0ZDc4YTEzZDA2Yzg1MjNhMGNkNCB7CiAgICAgICAgICAgICAgICAgICAgcG9zaXRpb246IHJlbGF0aXZlOwogICAgICAgICAgICAgICAgICAgIHdpZHRoOiAxMDAuMCU7CiAgICAgICAgICAgICAgICAgICAgaGVpZ2h0OiAxMDAuMCU7CiAgICAgICAgICAgICAgICAgICAgbGVmdDogMC4wJTsKICAgICAgICAgICAgICAgICAgICB0b3A6IDAuMCU7CiAgICAgICAgICAgICAgICB9CiAgICAgICAgICAgIDwvc3R5bGU+CiAgICAgICAgCjwvaGVhZD4KPGJvZHk+ICAgIAogICAgCiAgICAgICAgICAgIDxkaXYgY2xhc3M9ImZvbGl1bS1tYXAiIGlkPSJtYXBfMTY1ODUyOGI1YzJiNGQ3OGExM2QwNmM4NTIzYTBjZDQiID48L2Rpdj4KICAgICAgICAKPC9ib2R5Pgo8c2NyaXB0PiAgICAKICAgIAogICAgICAgICAgICB2YXIgbWFwXzE2NTg1MjhiNWMyYjRkNzhhMTNkMDZjODUyM2EwY2Q0ID0gTC5tYXAoCiAgICAgICAgICAgICAgICAibWFwXzE2NTg1MjhiNWMyYjRkNzhhMTNkMDZjODUyM2EwY2Q0IiwKICAgICAgICAgICAgICAgIHsKICAgICAgICAgICAgICAgICAgICBjZW50ZXI6IFs0Ni4yMjc2MzgyLCAyLjIxMzc0ODldLAogICAgICAgICAgICAgICAgICAgIGNyczogTC5DUlMuRVBTRzM4NTcsCiAgICAgICAgICAgICAgICAgICAgem9vbTogNiwKICAgICAgICAgICAgICAgICAgICB6b29tQ29udHJvbDogdHJ1ZSwKICAgICAgICAgICAgICAgICAgICBwcmVmZXJDYW52YXM6IGZhbHNlLAogICAgICAgICAgICAgICAgfQogICAgICAgICAgICApOwoKICAgICAgICAgICAgCgogICAgICAgIAogICAgCiAgICAgICAgICAgIHZhciB0aWxlX2xheWVyXzAyMWUwNTg1MTVkMzQ5N2M4Y2JhYWZmMzAyYjhiMzBlID0gTC50aWxlTGF5ZXIoCiAgICAgICAgICAgICAgICAiaHR0cHM6Ly97c30udGlsZS5vcGVuc3RyZWV0bWFwLm9yZy97en0ve3h9L3t5fS5wbmciLAogICAgICAgICAgICAgICAgeyJhdHRyaWJ1dGlvbiI6ICJEYXRhIGJ5IFx1MDAyNmNvcHk7IFx1MDAzY2EgaHJlZj1cImh0dHA6Ly9vcGVuc3RyZWV0bWFwLm9yZ1wiXHUwMDNlT3BlblN0cmVldE1hcFx1MDAzYy9hXHUwMDNlLCB1bmRlciBcdTAwM2NhIGhyZWY9XCJodHRwOi8vd3d3Lm9wZW5zdHJlZXRtYXAub3JnL2NvcHlyaWdodFwiXHUwMDNlT0RiTFx1MDAzYy9hXHUwMDNlLiIsICJkZXRlY3RSZXRpbmEiOiBmYWxzZSwgIm1heE5hdGl2ZVpvb20iOiAxOCwgIm1heFpvb20iOiAxOCwgIm1pblpvb20iOiAwLCAibm9XcmFwIjogZmFsc2UsICJvcGFjaXR5IjogMSwgInN1YmRvbWFpbnMiOiAiYWJjIiwgInRtcyI6IGZhbHNlfQogICAgICAgICAgICApLmFkZFRvKG1hcF8xNjU4NTI4YjVjMmI0ZDc4YTEzZDA2Yzg1MjNhMGNkNCk7CiAgICAgICAgCiAgICAKICAgICAgICAgICAgdmFyIG1hcmtlcl85YTU2YWQxOWRhNGU0OGFhODdhNzNlMDk3ODM0YjViYiA9IEwubWFya2VyKAogICAgICAgICAgICAgICAgWzQ4Ljg3NDI4NTUsIDIuMjg0ODYyXSwKICAgICAgICAgICAgICAgIHt9CiAgICAgICAgICAgICkuYWRkVG8obWFwXzE2NTg1MjhiNWMyYjRkNzhhMTNkMDZjODUyM2EwY2Q0KTsKICAgICAgICAKICAgIAogICAgICAgICAgICB2YXIgbWFya2VyX2MwMjE5YjhlMjhmYzRjNDE5NzFmOGFkN2MyOGFlMGFkID0gTC5tYXJrZXIoCiAgICAgICAgICAgICAgICBbNDguODc5MjAwNiwgMi4yOTYwNDU2MDAwMDAwMDAyXSwKICAgICAgICAgICAgICAgIHt9CiAgICAgICAgICAgICkuYWRkVG8obWFwXzE2NTg1MjhiNWMyYjRkNzhhMTNkMDZjODUyM2EwY2Q0KTsKICAgICAgICAKICAgIAogICAgICAgICAgICB2YXIgbWFya2VyXzJiMDMzYWYyMzJmYjQwYjM5ZWEyODNjZDZiNDAzY2Y3ID0gTC5tYXJrZXIoCiAgICAgICAgICAgICAgICBbNDguODY1NTkyNSwgMi40MjU1NjY0XSwKICAgICAgICAgICAgICAgIHt9CiAgICAgICAgICAgICkuYWRkVG8obWFwXzE2NTg1MjhiNWMyYjRkNzhhMTNkMDZjODUyM2EwY2Q0KTsKICAgICAgICAKICAgIAogICAgICAgICAgICB2YXIgbWFya2VyXzIxMzgyMmU4NzE0ZTQ4MGVhN2MzOTMzNDgzNTM0OGFhID0gTC5tYXJrZXIoCiAgICAgICAgICAgICAgICBbNDguODYyNDA2NiwgMi40MTYwNTgzXSwKICAgICAgICAgICAgICAgIHt9CiAgICAgICAgICAgICkuYWRkVG8obWFwXzE2NTg1MjhiNWMyYjRkNzhhMTNkMDZjODUyM2EwY2Q0KTsKICAgICAgICAKICAgIAogICAgICAgICAgICB2YXIgbWFya2VyXzJjYjk2YjAxZjExYzQ1N2M4MmFlZTg1ZDdmNWRlZmE3ID0gTC5tYXJrZXIoCiAgICAgICAgICAgICAgICBbNDguOTA2NDQxNSwgMi4zOTUwNDkxXSwKICAgICAgICAgICAgICAgIHt9CiAgICAgICAgICAgICkuYWRkVG8obWFwXzE2NTg1MjhiNWMyYjRkNzhhMTNkMDZjODUyM2EwY2Q0KTsKICAgICAgICAKICAgIAogICAgICAgICAgICB2YXIgbWFya2VyXzA1YmZiODJiZGU3YzRkOGJhM2E2MzNiOWY3ZThhODhiID0gTC5tYXJrZXIoCiAgICAgICAgICAgICAgICBbNDguOTQ2NzQwMSwgMi4zNDQxNTkyXSwKICAgICAgICAgICAgICAgIHt9CiAgICAgICAgICAgICkuYWRkVG8obWFwXzE2NTg1MjhiNWMyYjRkNzhhMTNkMDZjODUyM2EwY2Q0KTsKICAgICAgICAKICAgIAogICAgICAgICAgICB2YXIgbWFya2VyXzIzNGYyNjliOGVhMzQwYmM4OTI3NDc3Y2VhMTkwOGU0ID0gTC5tYXJrZXIoCiAgICAgICAgICAgICAgICBbNDguOTA4MTI4OSwgMi4yMjgyMjQzOTk5OTk5OTk4XSwKICAgICAgICAgICAgICAgIHt9CiAgICAgICAgICAgICkuYWRkVG8obWFwXzE2NTg1MjhiNWMyYjRkNzhhMTNkMDZjODUyM2EwY2Q0KTsKICAgICAgICAKICAgIAogICAgICAgICAgICB2YXIgbWFya2VyXzA3MTQ5MmI0YzU4YjQzMDA5ZGUyMWEyZmU5NjI3MTQ1ID0gTC5tYXJrZXIoCiAgICAgICAgICAgICAgICBbNDguOTIyMjMyLCAyLjIyODgwODNdLAogICAgICAgICAgICAgICAge30KICAgICAgICAgICAgKS5hZGRUbyhtYXBfMTY1ODUyOGI1YzJiNGQ3OGExM2QwNmM4NTIzYTBjZDQpOwogICAgICAgIAogICAgCiAgICAgICAgICAgIHZhciBtYXJrZXJfZTA1MWUwNmExYmEwNGEzNjgxNWExYzJjNDNiNTFkMmIgPSBMLm1hcmtlcigKICAgICAgICAgICAgICAgIFs0OC43NjAyNTk3LCAyLjQ5ODEzNjVdLAogICAgICAgICAgICAgICAge30KICAgICAgICAgICAgKS5hZGRUbyhtYXBfMTY1ODUyOGI1YzJiNGQ3OGExM2QwNmM4NTIzYTBjZDQpOwogICAgICAgIAogICAgCiAgICAgICAgICAgIHZhciBtYXJrZXJfODE4ZDM1Nzg4ZmNiNDkzYzk0MjU3NDA1ODg5MmUxZWMgPSBMLm1hcmtlcigKICAgICAgICAgICAgICAgIFs0OC45NzgyODI2LCAyLjIzNTAxMjZdLAogICAgICAgICAgICAgICAge30KICAgICAgICAgICAgKS5hZGRUbyhtYXBfMTY1ODUyOGI1YzJiNGQ3OGExM2QwNmM4NTIzYTBjZDQpOwogICAgICAgIAogICAgCiAgICAgICAgICAgIHZhciBtYXJrZXJfYWJmYmExZDZiOGVlNDhkMzhkZmJiYzJjNTZkZTk5NjAgPSBMLm1hcmtlcigKICAgICAgICAgICAgICAgIFs0OC42OTU2NzEwMDAwMDAwMDQsIDIuMjg5Mzg0Nzk5OTk5OTk5N10sCiAgICAgICAgICAgICAgICB7fQogICAgICAgICAgICApLmFkZFRvKG1hcF8xNjU4NTI4YjVjMmI0ZDc4YTEzZDA2Yzg1MjNhMGNkNCk7CiAgICAgICAgCiAgICAKICAgICAgICAgICAgdmFyIG1hcmtlcl80ZmI5YWM2OTI1Nzg0OThmOTliMTIzYmNjNjU1ZjcyYyA9IEwubWFya2VyKAogICAgICAgICAgICAgICAgWzQ4LjgzMDE0OTIsIDIuNjc1MTk1M10sCiAgICAgICAgICAgICAgICB7fQogICAgICAgICAgICApLmFkZFRvKG1hcF8xNjU4NTI4YjVjMmI0ZDc4YTEzZDA2Yzg1MjNhMGNkNCk7CiAgICAgICAgCiAgICAKICAgICAgICAgICAgdmFyIG1hcmtlcl83MzgxYzkxZWY2YzI0OWUyOWZmZGFmMjNmZDc2Yzk3MCA9IEwubWFya2VyKAogICAgICAgICAgICAgICAgWzQ4LjYyNzQ3NzI5OTk5OTk5NSwgMi40MDU1Nzk2MDAwMDAwMDAzXSwKICAgICAgICAgICAgICAgIHt9CiAgICAgICAgICAgICkuYWRkVG8obWFwXzE2NTg1MjhiNWMyYjRkNzhhMTNkMDZjODUyM2EwY2Q0KTsKICAgICAgICAKICAgIAogICAgICAgICAgICB2YXIgbWFya2VyX2VkYmY2MWY2NGU5ZjQ2MDdiZWJlNDI5ODRhNjc5OTMyID0gTC5tYXJrZXIoCiAgICAgICAgICAgICAgICBbNDguOTYzNDI1MywgMi4wMzM3NDg4XSwKICAgICAgICAgICAgICAgIHt9CiAgICAgICAgICAgICkuYWRkVG8obWFwXzE2NTg1MjhiNWMyYjRkNzhhMTNkMDZjODUyM2EwY2Q0KTsKICAgICAgICAKICAgIAogICAgICAgICAgICB2YXIgbWFya2VyXzVkMGQyODIwMGUyYTQ4NjFhZmRkNmU4OTk5MmZhZjVmID0gTC5tYXJrZXIoCiAgICAgICAgICAgICAgICBbNDguODAxNjM1Mjk5OTk5OTk0LCAxLjk2ODY0NzYwMDAwMDAwMDJdLAogICAgICAgICAgICAgICAge30KICAgICAgICAgICAgKS5hZGRUbyhtYXBfMTY1ODUyOGI1YzJiNGQ3OGExM2QwNmM4NTIzYTBjZDQpOwogICAgICAgIAogICAgCiAgICAgICAgICAgIHZhciBtYXJrZXJfNzM1MTZjODVmYWFiNGRjNzllZjM0ZmFjOWQ1MzM3YjIgPSBMLm1hcmtlcigKICAgICAgICAgICAgICAgIFs0OC43NjAyNjc5OTk5OTk5OTYsIDEuOTI5NjE3XSwKICAgICAgICAgICAgICAgIHt9CiAgICAgICAgICAgICkuYWRkVG8obWFwXzE2NTg1MjhiNWMyYjRkNzhhMTNkMDZjODUyM2EwY2Q0KTsKICAgICAgICAKICAgIAogICAgICAgICAgICB2YXIgbWFya2VyXzlmMmJmYmE1YWZkMzRhNGY4NDNlMzdlZjU1NmRhZTcyID0gTC5tYXJrZXIoCiAgICAgICAgICAgICAgICBbNDguNTg3OTU2Mjk5OTk5OTk1LCAyLjU5MDY2NDddLAogICAgICAgICAgICAgICAge30KICAgICAgICAgICAgKS5hZGRUbyhtYXBfMTY1ODUyOGI1YzJiNGQ3OGExM2QwNmM4NTIzYTBjZDQpOwogICAgICAgIAogICAgCiAgICAgICAgICAgIHZhciBtYXJrZXJfNzdlMDY0YmI0MjYyNDdhYTk1NzlmZWRkYzBhODRjNWUgPSBMLm1hcmtlcigKICAgICAgICAgICAgICAgIFs0OS4yMzY3NjksIDIuNDY2ODI5MzI5MzUxMzc2XSwKICAgICAgICAgICAgICAgIHt9CiAgICAgICAgICAgICkuYWRkVG8obWFwXzE2NTg1MjhiNWMyYjRkNzhhMTNkMDZjODUyM2EwY2Q0KTsKICAgICAgICAKICAgIAogICAgICAgICAgICB2YXIgbWFya2VyXzlkNjRlNWQwY2EyODQyY2I5MDczMzU4OGZhMWQ1OTIzID0gTC5tYXJrZXIoCiAgICAgICAgICAgICAgICBbNDguODU2MTM3NCwgMi4zNTczODE3OTk5OTk5OTk3XSwKICAgICAgICAgICAgICAgIHt9CiAgICAgICAgICAgICkuYWRkVG8obWFwXzE2NTg1MjhiNWMyYjRkNzhhMTNkMDZjODUyM2EwY2Q0KTsKICAgICAgICAKICAgIAogICAgICAgICAgICB2YXIgbWFya2VyXzFmNzkyNWMxYzg0MDRmMWE4N2ZiNzkwY2UxNDU5NzZkID0gTC5tYXJrZXIoCiAgICAgICAgICAgICAgICBbNDguODU4NTYzNSwgMi4zNTMzOTU3XSwKICAgICAgICAgICAgICAgIHt9CiAgICAgICAgICAgICkuYWRkVG8obWFwXzE2NTg1MjhiNWMyYjRkNzhhMTNkMDZjODUyM2EwY2Q0KTsKICAgICAgICAKICAgIAogICAgICAgICAgICB2YXIgbWFya2VyXzNlMzk3ZTMwMWQ5ZjQ1ZjVhYWUxMDE1NTFkNGU0NjYwID0gTC5tYXJrZXIoCiAgICAgICAgICAgICAgICBbNDguODU4NTYzNSwgMi4zNTMzOTU3XSwKICAgICAgICAgICAgICAgIHt9CiAgICAgICAgICAgICkuYWRkVG8obWFwXzE2NTg1MjhiNWMyYjRkNzhhMTNkMDZjODUyM2EwY2Q0KTsKICAgICAgICAKICAgIAogICAgICAgICAgICB2YXIgbWFya2VyX2IyOGNhYmY0NjM0MzRmMjNhMzZkZWU5MDIxODY3ZmQ5ID0gTC5tYXJrZXIoCiAgICAgICAgICAgICAgICBbNDguODY0MTIxNywgMi4zNTE1MDQyXSwKICAgICAgICAgICAgICAgIHt9CiAgICAgICAgICAgICkuYWRkVG8obWFwXzE2NTg1MjhiNWMyYjRkNzhhMTNkMDZjODUyM2EwY2Q0KTsKICAgICAgICAKICAgIAogICAgICAgICAgICB2YXIgbWFya2VyX2NkMDhkZTk1ZWJkZjQ3ZDdiZjUzNmNlZjg0Y2JlODk5ID0gTC5tYXJrZXIoCiAgICAgICAgICAgICAgICBbNDguODY1MzUyMywgMi4zNTcyMjk3MDAwMDAwMDA0XSwKICAgICAgICAgICAgICAgIHt9CiAgICAgICAgICAgICkuYWRkVG8obWFwXzE2NTg1MjhiNWMyYjRkNzhhMTNkMDZjODUyM2EwY2Q0KTsKICAgICAgICAKICAgIAogICAgICAgICAgICB2YXIgbWFya2VyXzIxZGEyMzUzYWE4ODRiYTliM2I3ZDdmNGQyMGU3OGUxID0gTC5tYXJrZXIoCiAgICAgICAgICAgICAgICBbNDguODY3NTgwNCwgMi4zNTI0NDc1XSwKICAgICAgICAgICAgICAgIHt9CiAgICAgICAgICAgICkuYWRkVG8obWFwXzE2NTg1MjhiNWMyYjRkNzhhMTNkMDZjODUyM2EwY2Q0KTsKICAgICAgICAKICAgIAogICAgICAgICAgICB2YXIgbWFya2VyXzc4YWU3OGQ4YzAzYjQxNTA4ZjQwNmQ4MzU5Njg2Y2NjID0gTC5tYXJrZXIoCiAgICAgICAgICAgICAgICBbNDguODU2NTUyNiwgMi4zNjkwMTQ3XSwKICAgICAgICAgICAgICAgIHt9CiAgICAgICAgICAgICkuYWRkVG8obWFwXzE2NTg1MjhiNWMyYjRkNzhhMTNkMDZjODUyM2EwY2Q0KTsKICAgICAgICAKICAgIAogICAgICAgICAgICB2YXIgbWFya2VyXzBlNDExZDVmOWNiMTQ3OGM5NGMxNTA4MmJhZmNlYWNmID0gTC5tYXJrZXIoCiAgICAgICAgICAgICAgICBbNDguODYxMjQ0MiwgMi4zMzk4MTI0XSwKICAgICAgICAgICAgICAgIHt9CiAgICAgICAgICAgICkuYWRkVG8obWFwXzE2NTg1MjhiNWMyYjRkNzhhMTNkMDZjODUyM2EwY2Q0KTsKICAgICAgICAKICAgIAogICAgICAgICAgICB2YXIgbWFya2VyXzZkMjg0MTlmNjRlNDRmMGJiMjdlMmNhM2M0ZTMwMWEwID0gTC5tYXJrZXIoCiAgICAgICAgICAgICAgICBbNDguODY4OTQwNSwgMi4zNDY3MDMxMDAwMDAwMDA1XSwKICAgICAgICAgICAgICAgIHt9CiAgICAgICAgICAgICkuYWRkVG8obWFwXzE2NTg1MjhiNWMyYjRkNzhhMTNkMDZjODUyM2EwY2Q0KTsKICAgICAgICAKICAgIAogICAgICAgICAgICB2YXIgbWFya2VyXzdlYmI2ZjFkZDVkNzRkM2Q5YmFkOWI2MDMwMGFhOTc1ID0gTC5tYXJrZXIoCiAgICAgICAgICAgICAgICBbNDguODU5MDg2Mjk5OTk5OTk0LCAyLjM3OTM0NzcwMDAwMDAwMDNdLAogICAgICAgICAgICAgICAge30KICAgICAgICAgICAgKS5hZGRUbyhtYXBfMTY1ODUyOGI1YzJiNGQ3OGExM2QwNmM4NTIzYTBjZDQpOwogICAgICAgIAogICAgCiAgICAgICAgICAgIHZhciBtYXJrZXJfNWNiNDI2ODUwNzI0NGM1MmE0YWZiOTVlODE1YjUxZjYgPSBMLm1hcmtlcigKICAgICAgICAgICAgICAgIFs0OC44NTkwODYyOTk5OTk5OTQsIDIuMzc5MzQ3NzAwMDAwMDAwM10sCiAgICAgICAgICAgICAgICB7fQogICAgICAgICAgICApLmFkZFRvKG1hcF8xNjU4NTI4YjVjMmI0ZDc4YTEzZDA2Yzg1MjNhMGNkNCk7CiAgICAgICAgCiAgICAKICAgICAgICAgICAgdmFyIG1hcmtlcl80NjQwMWFmOGJiMDI0ZGYxODE4MzUyMGI4ZjJjZDQ0OSA9IEwubWFya2VyKAogICAgICAgICAgICAgICAgWzQ4Ljg3NjAyMzgsIDIuMzU4MTkyNzAwMDAwMDAwNV0sCiAgICAgICAgICAgICAgICB7fQogICAgICAgICAgICApLmFkZFRvKG1hcF8xNjU4NTI4YjVjMmI0ZDc4YTEzZDA2Yzg1MjNhMGNkNCk7CiAgICAgICAgCiAgICAKICAgICAgICAgICAgdmFyIG1hcmtlcl83YmQyYjNjYjczZWE0MjI2OGI0NzU1NDlhOTk1N2RjNiA9IEwubWFya2VyKAogICAgICAgICAgICAgICAgWzQ4Ljg3NjAyMzgsIDIuMzU4MTkyNzAwMDAwMDAwNV0sCiAgICAgICAgICAgICAgICB7fQogICAgICAgICAgICApLmFkZFRvKG1hcF8xNjU4NTI4YjVjMmI0ZDc4YTEzZDA2Yzg1MjNhMGNkNCk7CiAgICAgICAgCiAgICAKICAgICAgICAgICAgdmFyIG1hcmtlcl9mMmU4MTFhYWZlNDU0MmNjYTQ5ZDZhZjc5MThkZjQ1NyA9IEwubWFya2VyKAogICAgICAgICAgICAgICAgWzQ4Ljg0NTk5MzYsIDIuMzczOTA2NV0sCiAgICAgICAgICAgICAgICB7fQogICAgICAgICAgICApLmFkZFRvKG1hcF8xNjU4NTI4YjVjMmI0ZDc4YTEzZDA2Yzg1MjNhMGNkNCk7CiAgICAgICAgCiAgICAKICAgICAgICAgICAgdmFyIG1hcmtlcl9kMDUxODIwNGVkOGY0MjZmYTkwYmNkNTdjNjNhY2VmNyA9IEwubWFya2VyKAogICAgICAgICAgICAgICAgWzQ4LjgzODg3OTk5OTk5OTk5NiwgMi4zNTI5Nzc3MDAwMDAwMDAzXSwKICAgICAgICAgICAgICAgIHt9CiAgICAgICAgICAgICkuYWRkVG8obWFwXzE2NTg1MjhiNWMyYjRkNzhhMTNkMDZjODUyM2EwY2Q0KTsKICAgICAgICAKICAgIAogICAgICAgICAgICB2YXIgbWFya2VyX2E3ODRmODg3YzU0YzQxMWZhYTUyNjQ5ZWYzYjgyMjRkID0gTC5tYXJrZXIoCiAgICAgICAgICAgICAgICBbNDguODY5NTA3MiwgMi4zMzE0NTMyOTk5OTk5OTk3XSwKICAgICAgICAgICAgICAgIHt9CiAgICAgICAgICAgICkuYWRkVG8obWFwXzE2NTg1MjhiNWMyYjRkNzhhMTNkMDZjODUyM2EwY2Q0KTsKICAgICAgICAKICAgIAogICAgICAgICAgICB2YXIgbWFya2VyXzlmYzUwYjQyNWRhYzQwMDJhYmRlZDljMTZkZWEyYTY4ID0gTC5tYXJrZXIoCiAgICAgICAgICAgICAgICBbNDguODc1ODE0MSwgMi4zNDM2ODU3MDAwMDAwMDA0XSwKICAgICAgICAgICAgICAgIHt9CiAgICAgICAgICAgICkuYWRkVG8obWFwXzE2NTg1MjhiNWMyYjRkNzhhMTNkMDZjODUyM2EwY2Q0KTsKICAgICAgICAKICAgIAogICAgICAgICAgICB2YXIgbWFya2VyXzlmNTYwMzFjN2ZkOTQxZDA5NGJiYzlkODllOGIyNTFkID0gTC5tYXJrZXIoCiAgICAgICAgICAgICAgICBbNDguODY4ODMyNiwgMi4zNzYyOTgyMDAwMDAwMDA0XSwKICAgICAgICAgICAgICAgIHt9CiAgICAgICAgICAgICkuYWRkVG8obWFwXzE2NTg1MjhiNWMyYjRkNzhhMTNkMDZjODUyM2EwY2Q0KTsKICAgICAgICAKICAgIAogICAgICAgICAgICB2YXIgbWFya2VyXzkzNzQ5NTc2NDg1MjQxNzA5MmQ5NmJmNzQxMjM4YTg0ID0gTC5tYXJrZXIoCiAgICAgICAgICAgICAgICBbNDguODc2NzUwNywgMi4zNTM5NDg1XSwKICAgICAgICAgICAgICAgIHt9CiAgICAgICAgICAgICkuYWRkVG8obWFwXzE2NTg1MjhiNWMyYjRkNzhhMTNkMDZjODUyM2EwY2Q0KTsKICAgICAgICAKICAgIAogICAgICAgICAgICB2YXIgbWFya2VyXzNhZjMyOTcyMzM5ZjQ0YTJhZTk0MTdjYzM4OTU2ZjI0ID0gTC5tYXJrZXIoCiAgICAgICAgICAgICAgICBbNDguODc1OTMyLCAyLjM1OTA1OTg5OTk5OTk5OTddLAogICAgICAgICAgICAgICAge30KICAgICAgICAgICAgKS5hZGRUbyhtYXBfMTY1ODUyOGI1YzJiNGQ3OGExM2QwNmM4NTIzYTBjZDQpOwogICAgICAgIAogICAgCiAgICAgICAgICAgIHZhciBtYXJrZXJfZjQ5N2RiOWJjZjg1NDQ5Y2I2ZmM2YTQzMGRmODdkNzggPSBMLm1hcmtlcigKICAgICAgICAgICAgICAgIFs0OC44NTQ1MDQ2MDAwMDAwMDYsIDIuMzIxNzY0MjAwMDAwMDAwNV0sCiAgICAgICAgICAgICAgICB7fQogICAgICAgICAgICApLmFkZFRvKG1hcF8xNjU4NTI4YjVjMmI0ZDc4YTEzZDA2Yzg1MjNhMGNkNCk7CiAgICAgICAgCiAgICAKICAgICAgICAgICAgdmFyIG1hcmtlcl9kYjE5MDkwZWNlMmU0MzE3YjU2MjAwMzAwZDAxNzYzZiA9IEwubWFya2VyKAogICAgICAgICAgICAgICAgWzQ4Ljg0NjkwNiwgMi4zMTY2MTkyMDAwMDAwMDAzXSwKICAgICAgICAgICAgICAgIHt9CiAgICAgICAgICAgICkuYWRkVG8obWFwXzE2NTg1MjhiNWMyYjRkNzhhMTNkMDZjODUyM2EwY2Q0KTsKICAgICAgICAKICAgIAogICAgICAgICAgICB2YXIgbWFya2VyX2NhMTBkZTUyY2IxOTRlZWU4ZTNiMzQyODc1NmM5NDVkID0gTC5tYXJrZXIoCiAgICAgICAgICAgICAgICBbNDguODc3NTY2NCwgMi4zNDA4NDUzXSwKICAgICAgICAgICAgICAgIHt9CiAgICAgICAgICAgICkuYWRkVG8obWFwXzE2NTg1MjhiNWMyYjRkNzhhMTNkMDZjODUyM2EwY2Q0KTsKICAgICAgICAKICAgIAogICAgICAgICAgICB2YXIgbWFya2VyXzg0ZGY5Nzc3NzZhYTQ1MTZhNDFkMTE0N2JmNzM5ZDgzID0gTC5tYXJrZXIoCiAgICAgICAgICAgICAgICBbNDguODc3NTY2NCwgMi4zNDA4NDUzXSwKICAgICAgICAgICAgICAgIHt9CiAgICAgICAgICAgICkuYWRkVG8obWFwXzE2NTg1MjhiNWMyYjRkNzhhMTNkMDZjODUyM2EwY2Q0KTsKICAgICAgICAKICAgIAogICAgICAgICAgICB2YXIgbWFya2VyXzY3MjdjMjQ0ZGI1ZDQ0MmFhNDU2Y2VlZTBhMTlkZmY4ID0gTC5tYXJrZXIoCiAgICAgICAgICAgICAgICBbNDguODc3NTY2NCwgMi4zNDA4NDUzXSwKICAgICAgICAgICAgICAgIHt9CiAgICAgICAgICAgICkuYWRkVG8obWFwXzE2NTg1MjhiNWMyYjRkNzhhMTNkMDZjODUyM2EwY2Q0KTsKICAgICAgICAKICAgIAogICAgICAgICAgICB2YXIgbWFya2VyXzhlMTM5MGI0NGI4YzQwZDI5ZjE3NDYyZTU0ZTZjODdiID0gTC5tYXJrZXIoCiAgICAgICAgICAgICAgICBbNDguODc3NTY2NCwgMi4zNDA4NDUzXSwKICAgICAgICAgICAgICAgIHt9CiAgICAgICAgICAgICkuYWRkVG8obWFwXzE2NTg1MjhiNWMyYjRkNzhhMTNkMDZjODUyM2EwY2Q0KTsKICAgICAgICAKICAgIAogICAgICAgICAgICB2YXIgbWFya2VyX2M2NDM4NzYyMDkzZTRkY2U5Y2JkYmEyNDZkZTk3OTEzID0gTC5tYXJrZXIoCiAgICAgICAgICAgICAgICBbNDguODc5NDA3MywgMi4zNTc5Njg3OTk5OTk5OTk2XSwKICAgICAgICAgICAgICAgIHt9CiAgICAgICAgICAgICkuYWRkVG8obWFwXzE2NTg1MjhiNWMyYjRkNzhhMTNkMDZjODUyM2EwY2Q0KTsKICAgICAgICAKICAgIAogICAgICAgICAgICB2YXIgbWFya2VyX2ZkOWFiZTRjNTQ0YTRjZGE4NTM3Y2Q0NTM0YWIwOGM4ID0gTC5tYXJrZXIoCiAgICAgICAgICAgICAgICBbNDguODM5MzY4NiwgMi4zMjcwMjU0XSwKICAgICAgICAgICAgICAgIHt9CiAgICAgICAgICAgICkuYWRkVG8obWFwXzE2NTg1MjhiNWMyYjRkNzhhMTNkMDZjODUyM2EwY2Q0KTsKICAgICAgICAKICAgIAogICAgICAgICAgICB2YXIgbWFya2VyXzgyMGYzNDhhMzZmMjRkYTNiZWJkMWYxOWZhNDY0ZmFkID0gTC5tYXJrZXIoCiAgICAgICAgICAgICAgICBbNDguODY0ODU3OSwgMi4zODc5OTIzXSwKICAgICAgICAgICAgICAgIHt9CiAgICAgICAgICAgICkuYWRkVG8obWFwXzE2NTg1MjhiNWMyYjRkNzhhMTNkMDZjODUyM2EwY2Q0KTsKICAgICAgICAKICAgIAogICAgICAgICAgICB2YXIgbWFya2VyX2Q2MGVjYTI2NjgxYzQwNzY4YTMwNzMxNDBjMzkwOTgzID0gTC5tYXJrZXIoCiAgICAgICAgICAgICAgICBbNDguODYwOTY3NywgMi4zMTUwNzNdLAogICAgICAgICAgICAgICAge30KICAgICAgICAgICAgKS5hZGRUbyhtYXBfMTY1ODUyOGI1YzJiNGQ3OGExM2QwNmM4NTIzYTBjZDQpOwogICAgICAgIAogICAgCiAgICAgICAgICAgIHZhciBtYXJrZXJfOTMyYjFkODY5NTlmNDUzMmEzZGMwNjhlMWZjODg0YjcgPSBMLm1hcmtlcigKICAgICAgICAgICAgICAgIFs0OC44NTgyMjEsIDIuMzg5NzI4OV0sCiAgICAgICAgICAgICAgICB7fQogICAgICAgICAgICApLmFkZFRvKG1hcF8xNjU4NTI4YjVjMmI0ZDc4YTEzZDA2Yzg1MjNhMGNkNCk7CiAgICAgICAgCiAgICAKICAgICAgICAgICAgdmFyIG1hcmtlcl9hMjAzN2I5ZDdkYzg0YTkwOGFlYmY2MmFjNjVhYTJmNCA9IEwubWFya2VyKAogICAgICAgICAgICAgICAgWzQ4Ljg1ODIyMSwgMi4zODk3Mjg5XSwKICAgICAgICAgICAgICAgIHt9CiAgICAgICAgICAgICkuYWRkVG8obWFwXzE2NTg1MjhiNWMyYjRkNzhhMTNkMDZjODUyM2EwY2Q0KTsKICAgICAgICAKICAgIAogICAgICAgICAgICB2YXIgbWFya2VyX2VhNDllZjZmYzM3NDRkNWY4ODQ5NjVmYjc4Yjc0OTc1ID0gTC5tYXJrZXIoCiAgICAgICAgICAgICAgICBbNDguODgyNzYzNSwgMi4zNDExODYzXSwKICAgICAgICAgICAgICAgIHt9CiAgICAgICAgICAgICkuYWRkVG8obWFwXzE2NTg1MjhiNWMyYjRkNzhhMTNkMDZjODUyM2EwY2Q0KTsKICAgICAgICAKICAgIAogICAgICAgICAgICB2YXIgbWFya2VyXzg4N2VkNTVhNDY5MDQ4MDg4NWQ4NTg3OWYwZDhkN2VhID0gTC5tYXJrZXIoCiAgICAgICAgICAgICAgICBbNDguODc3NDE4NCwgMi4zMjI5NjQ3XSwKICAgICAgICAgICAgICAgIHt9CiAgICAgICAgICAgICkuYWRkVG8obWFwXzE2NTg1MjhiNWMyYjRkNzhhMTNkMDZjODUyM2EwY2Q0KTsKICAgICAgICAKICAgIAogICAgICAgICAgICB2YXIgbWFya2VyX2FmMWM5OTMzZmExMTRjY2JhMmUyNDA0YzExMWM0MWIwID0gTC5tYXJrZXIoCiAgICAgICAgICAgICAgICBbNDguODYxMDU3NSwgMi4zMDcwMzY1XSwKICAgICAgICAgICAgICAgIHt9CiAgICAgICAgICAgICkuYWRkVG8obWFwXzE2NTg1MjhiNWMyYjRkNzhhMTNkMDZjODUyM2EwY2Q0KTsKICAgICAgICAKICAgIAogICAgICAgICAgICB2YXIgbWFya2VyX2Y2MDFkZmIwY2FiMTQwN2FiNzk2ZWI3YWZjMDE2ZDYxID0gTC5tYXJrZXIoCiAgICAgICAgICAgICAgICBbNDguODI4Mzk4Nzk5OTk5OTk1LCAyLjMzMTA3MTc5OTk5OTk5OTddLAogICAgICAgICAgICAgICAge30KICAgICAgICAgICAgKS5hZGRUbyhtYXBfMTY1ODUyOGI1YzJiNGQ3OGExM2QwNmM4NTIzYTBjZDQpOwogICAgICAgIAogICAgCiAgICAgICAgICAgIHZhciBtYXJrZXJfZDc1NDIyNzQzMmNiNGRmODkyMDg0NzY0NDIzNTc0M2MgPSBMLm1hcmtlcigKICAgICAgICAgICAgICAgIFs0OC44MjQ0ODY2MDAwMDAwMSwgMi4zNDg4OTY1XSwKICAgICAgICAgICAgICAgIHt9CiAgICAgICAgICAgICkuYWRkVG8obWFwXzE2NTg1MjhiNWMyYjRkNzhhMTNkMDZjODUyM2EwY2Q0KTsKICAgICAgICAKICAgIAogICAgICAgICAgICB2YXIgbWFya2VyXzczMzNkNTBmMzZhMjRjZjhiYzYxNWVkYTRkMDE4OGQ3ID0gTC5tYXJrZXIoCiAgICAgICAgICAgICAgICBbNDguODcxNjc3MjAwMDAwMDEsIDIuMzEwODg0MjAwMDAwMDAwM10sCiAgICAgICAgICAgICAgICB7fQogICAgICAgICAgICApLmFkZFRvKG1hcF8xNjU4NTI4YjVjMmI0ZDc4YTEzZDA2Yzg1MjNhMGNkNCk7CiAgICAgICAgCiAgICAKICAgICAgICAgICAgdmFyIG1hcmtlcl9hN2JiYWUyMTIwZGI0MGYwOTZhNzVmZmEzNmFjNjQ2OCA9IEwubWFya2VyKAogICAgICAgICAgICAgICAgWzQ4Ljg4ODQ2ODksIDIuMzUzNDY2MV0sCiAgICAgICAgICAgICAgICB7fQogICAgICAgICAgICApLmFkZFRvKG1hcF8xNjU4NTI4YjVjMmI0ZDc4YTEzZDA2Yzg1MjNhMGNkNCk7CiAgICAgICAgCiAgICAKICAgICAgICAgICAgdmFyIG1hcmtlcl9iMDMzZjU5MjgxMWI0NmIxOTYzYjM1MGM2ZjZkYjM4ZCA9IEwubWFya2VyKAogICAgICAgICAgICAgICAgWzQ4Ljg3NTYxMjEwMDAwMDAwNSwgMi4zOTk3MjQzXSwKICAgICAgICAgICAgICAgIHt9CiAgICAgICAgICAgICkuYWRkVG8obWFwXzE2NTg1MjhiNWMyYjRkNzhhMTNkMDZjODUyM2EwY2Q0KTsKICAgICAgICAKICAgIAogICAgICAgICAgICB2YXIgbWFya2VyX2Y2Yzc5ZDBhNTNkNjRjY2I5NjAyNGE2ZjVlZGVmYzUyID0gTC5tYXJrZXIoCiAgICAgICAgICAgICAgICBbNDguODc1NjI2NSwgMi4zMTQ2NzU0XSwKICAgICAgICAgICAgICAgIHt9CiAgICAgICAgICAgICkuYWRkVG8obWFwXzE2NTg1MjhiNWMyYjRkNzhhMTNkMDZjODUyM2EwY2Q0KTsKICAgICAgICAKICAgIAogICAgICAgICAgICB2YXIgbWFya2VyXzMzOTMzOWY4NWE5ZDRiYmRhNjg1NDYzZjU0NTY2YTA4ID0gTC5tYXJrZXIoCiAgICAgICAgICAgICAgICBbNDguODI1OTMyNywgMi4zMzE3OTk2XSwKICAgICAgICAgICAgICAgIHt9CiAgICAgICAgICAgICkuYWRkVG8obWFwXzE2NTg1MjhiNWMyYjRkNzhhMTNkMDZjODUyM2EwY2Q0KTsKICAgICAgICAKICAgIAogICAgICAgICAgICB2YXIgbWFya2VyXzg0ZTNmNzRkZGE1MTRmNmQ4YWMxZmM2ZmEyMDA3ODNjID0gTC5tYXJrZXIoCiAgICAgICAgICAgICAgICBbNDguODI2MTIyMzk5OTk5OTk2LCAyLjMyODg5NDEwMDAwMDAwMDNdLAogICAgICAgICAgICAgICAge30KICAgICAgICAgICAgKS5hZGRUbyhtYXBfMTY1ODUyOGI1YzJiNGQ3OGExM2QwNmM4NTIzYTBjZDQpOwogICAgICAgIAogICAgCiAgICAgICAgICAgIHZhciBtYXJrZXJfMDFmYTliMGZjMmYwNDE1NGE5ODljYjllNjc0ZWMyZDUgPSBMLm1hcmtlcigKICAgICAgICAgICAgICAgIFs0OC44NjM1NjYyOTk5OTk5OTUsIDIuNDAzOTkwOV0sCiAgICAgICAgICAgICAgICB7fQogICAgICAgICAgICApLmFkZFRvKG1hcF8xNjU4NTI4YjVjMmI0ZDc4YTEzZDA2Yzg1MjNhMGNkNCk7CiAgICAgICAgCiAgICAKICAgICAgICAgICAgdmFyIG1hcmtlcl8wYWEwYWRmMjIzMzk0ZGI2OGIzMzc5YTc3MjBlODBiMiA9IEwubWFya2VyKAogICAgICAgICAgICAgICAgWzQ4Ljg2MzU2NjI5OTk5OTk5NSwgMi40MDM5OTA5XSwKICAgICAgICAgICAgICAgIHt9CiAgICAgICAgICAgICkuYWRkVG8obWFwXzE2NTg1MjhiNWMyYjRkNzhhMTNkMDZjODUyM2EwY2Q0KTsKICAgICAgICAKICAgIAogICAgICAgICAgICB2YXIgbWFya2VyX2IxNDcyMDliMDIwNzQ2OGI4M2FlNzg4ZDMzOWIwYzc1ID0gTC5tYXJrZXIoCiAgICAgICAgICAgICAgICBbNDguODgyMzY0MTAwMDAwMDA0LCAyLjM4MjI2OTEwMDAwMDAwMDNdLAogICAgICAgICAgICAgICAge30KICAgICAgICAgICAgKS5hZGRUbyhtYXBfMTY1ODUyOGI1YzJiNGQ3OGExM2QwNmM4NTIzYTBjZDQpOwogICAgICAgIAogICAgCiAgICAgICAgICAgIHZhciBtYXJrZXJfYjU4ODU4MGYyYjBmNDRlOGE5NmNiZWRhNGRhODM5ZDkgPSBMLm1hcmtlcigKICAgICAgICAgICAgICAgIFs0OC44MjI4MTU3LCAyLjM0MDUyOTldLAogICAgICAgICAgICAgICAge30KICAgICAgICAgICAgKS5hZGRUbyhtYXBfMTY1ODUyOGI1YzJiNGQ3OGExM2QwNmM4NTIzYTBjZDQpOwogICAgICAgIAogICAgCiAgICAgICAgICAgIHZhciBtYXJrZXJfZmIzN2I3N2I5MTRlNDU0MDgzZTA5NzhmNjc0OGJhZDMgPSBMLm1hcmtlcigKICAgICAgICAgICAgICAgIFs0OC44MjQ4MTAyLCAyLjMyODgwMzEwMDAwMDAwMDVdLAogICAgICAgICAgICAgICAge30KICAgICAgICAgICAgKS5hZGRUbyhtYXBfMTY1ODUyOGI1YzJiNGQ3OGExM2QwNmM4NTIzYTBjZDQpOwogICAgICAgIAogICAgCiAgICAgICAgICAgIHZhciBtYXJrZXJfZmJiYjc4ZTY0NjYyNDYwN2FhNGUwZWE5NWQ0Njk5ZDYgPSBMLm1hcmtlcigKICAgICAgICAgICAgICAgIFs0OC44MjQ4MTAyLCAyLjMyODgwMzEwMDAwMDAwMDVdLAogICAgICAgICAgICAgICAge30KICAgICAgICAgICAgKS5hZGRUbyhtYXBfMTY1ODUyOGI1YzJiNGQ3OGExM2QwNmM4NTIzYTBjZDQpOwogICAgICAgIAogICAgCiAgICAgICAgICAgIHZhciBtYXJrZXJfNjJjMTQ5YTg2M2JiNGRkZGI1N2Y3ZGRmMzM2N2I3NDYgPSBMLm1hcmtlcigKICAgICAgICAgICAgICAgIFs0OC44MzIzMjM5LCAyLjMyMDQ2NjZdLAogICAgICAgICAgICAgICAge30KICAgICAgICAgICAgKS5hZGRUbyhtYXBfMTY1ODUyOGI1YzJiNGQ3OGExM2QwNmM4NTIzYTBjZDQpOwogICAgICAgIAogICAgCiAgICAgICAgICAgIHZhciBtYXJrZXJfMGE4ZWU1NWY2NjQ0NDhjNWExMmQyM2I0OGZiYjgxZWMgPSBMLm1hcmtlcigKICAgICAgICAgICAgICAgIFs0OC44MzIzMjM5LCAyLjMyMDQ2NjZdLAogICAgICAgICAgICAgICAge30KICAgICAgICAgICAgKS5hZGRUbyhtYXBfMTY1ODUyOGI1YzJiNGQ3OGExM2QwNmM4NTIzYTBjZDQpOwogICAgICAgIAogICAgCiAgICAgICAgICAgIHZhciBtYXJrZXJfYzlkNmNjNzljNDAzNGFhMGIyYTE3OWE4Y2MxYWIxYmYgPSBMLm1hcmtlcigKICAgICAgICAgICAgICAgIFs0OC44OTI0NTE2LCAyLjM0NDI2MjldLAogICAgICAgICAgICAgICAge30KICAgICAgICAgICAgKS5hZGRUbyhtYXBfMTY1ODUyOGI1YzJiNGQ3OGExM2QwNmM4NTIzYTBjZDQpOwogICAgICAgIAogICAgCiAgICAgICAgICAgIHZhciBtYXJrZXJfYjY1YjI4YjJlMWQ4NDc1M2E1NjE2OTA3ZWMyODg4ODUgPSBMLm1hcmtlcigKICAgICAgICAgICAgICAgIFs0OC44ODMyOTUwMDAwMDAwMDQsIDIuMzE1Njk4N10sCiAgICAgICAgICAgICAgICB7fQogICAgICAgICAgICApLmFkZFRvKG1hcF8xNjU4NTI4YjVjMmI0ZDc4YTEzZDA2Yzg1MjNhMGNkNCk7CiAgICAgICAgCiAgICAKICAgICAgICAgICAgdmFyIG1hcmtlcl8zYjkwNjI1MTJlZTE0OGYyYTkyZTEyYTU0MDE4Mzk4NyA9IEwubWFya2VyKAogICAgICAgICAgICAgICAgWzQ4Ljg5MTM2NjIsIDIuMzc3ODc2MTAwMDAwMDAwNF0sCiAgICAgICAgICAgICAgICB7fQogICAgICAgICAgICApLmFkZFRvKG1hcF8xNjU4NTI4YjVjMmI0ZDc4YTEzZDA2Yzg1MjNhMGNkNCk7CiAgICAgICAgCiAgICAKICAgICAgICAgICAgdmFyIG1hcmtlcl85YjliZTk0NmUyMmM0YmVjYThiZWVhMDA5ZjFlNTk1OCA9IEwubWFya2VyKAogICAgICAgICAgICAgICAgWzQ4Ljg5MTM2NjIsIDIuMzc3ODc2MTAwMDAwMDAwNF0sCiAgICAgICAgICAgICAgICB7fQogICAgICAgICAgICApLmFkZFRvKG1hcF8xNjU4NTI4YjVjMmI0ZDc4YTEzZDA2Yzg1MjNhMGNkNCk7CiAgICAgICAgCiAgICAKICAgICAgICAgICAgdmFyIG1hcmtlcl9mMmFmOGFkNjc1NjQ0MzQ5YTBiY2I3YmVjYzhhMTFmOCA9IEwubWFya2VyKAogICAgICAgICAgICAgICAgWzQ4Ljg1NzE1MzIsIDIuNDA2ODg0OF0sCiAgICAgICAgICAgICAgICB7fQogICAgICAgICAgICApLmFkZFRvKG1hcF8xNjU4NTI4YjVjMmI0ZDc4YTEzZDA2Yzg1MjNhMGNkNCk7CiAgICAgICAgCiAgICAKICAgICAgICAgICAgdmFyIG1hcmtlcl8wNDcxMDllZmRmNTg0Njc2OTAzMzhhYWQ2ZDgyMDk0ZCA9IEwubWFya2VyKAogICAgICAgICAgICAgICAgWzQ4Ljg0MjA5MDcsIDIuMzAwNTcxNzk5OTk5OTk5N10sCiAgICAgICAgICAgICAgICB7fQogICAgICAgICAgICApLmFkZFRvKG1hcF8xNjU4NTI4YjVjMmI0ZDc4YTEzZDA2Yzg1MjNhMGNkNCk7CiAgICAgICAgCiAgICAKICAgICAgICAgICAgdmFyIG1hcmtlcl80NDQxMThkMDBmYzg0ZmM5YjQ0YTQ2MDBjZWQ2OGVlYSA9IEwubWFya2VyKAogICAgICAgICAgICAgICAgWzQ4Ljg5MDYyMjksIDIuMzc2MzA4NTk5OTk5OTk5OF0sCiAgICAgICAgICAgICAgICB7fQogICAgICAgICAgICApLmFkZFRvKG1hcF8xNjU4NTI4YjVjMmI0ZDc4YTEzZDA2Yzg1MjNhMGNkNCk7CiAgICAgICAgCiAgICAKICAgICAgICAgICAgdmFyIG1hcmtlcl8zNDBjYmVmYzY4MTE0NDZlYmQ5NzQ2MDEwMzBhYjU1OSA9IEwubWFya2VyKAogICAgICAgICAgICAgICAgWzQ4Ljg5NTQzOTcwMDAwMDAwNCwgMi4zNDY0Nzk3XSwKICAgICAgICAgICAgICAgIHt9CiAgICAgICAgICAgICkuYWRkVG8obWFwXzE2NTg1MjhiNWMyYjRkNzhhMTNkMDZjODUyM2EwY2Q0KTsKICAgICAgICAKICAgIAogICAgICAgICAgICB2YXIgbWFya2VyX2EwZDk3MmFlN2VmNDRlZjJhZDRkZGZiOGYxNmE3YTg3ID0gTC5tYXJrZXIoCiAgICAgICAgICAgICAgICBbNDguODkyODI1NiwgMi4zNzMyNTE1XSwKICAgICAgICAgICAgICAgIHt9CiAgICAgICAgICAgICkuYWRkVG8obWFwXzE2NTg1MjhiNWMyYjRkNzhhMTNkMDZjODUyM2EwY2Q0KTsKICAgICAgICAKICAgIAogICAgICAgICAgICB2YXIgbWFya2VyXzNlNWZmYjJmOWE0MzQ3ODU5OTIyZGJiMjJlZTY4OTlhID0gTC5tYXJrZXIoCiAgICAgICAgICAgICAgICBbNDguODkxMTg1LCAyLjMyNDcwNDQ5OTk5OTk5OTddLAogICAgICAgICAgICAgICAge30KICAgICAgICAgICAgKS5hZGRUbyhtYXBfMTY1ODUyOGI1YzJiNGQ3OGExM2QwNmM4NTIzYTBjZDQpOwogICAgICAgIAogICAgCiAgICAgICAgICAgIHZhciBtYXJrZXJfYzE3MGQwNmYxZDhkNGMwNGI3NWFiOGU2ZDFjNGQyZTIgPSBMLm1hcmtlcigKICAgICAgICAgICAgICAgIFs0OC44OTU5NTgzLCAyLjM3OTAwMDZdLAogICAgICAgICAgICAgICAge30KICAgICAgICAgICAgKS5hZGRUbyhtYXBfMTY1ODUyOGI1YzJiNGQ3OGExM2QwNmM4NTIzYTBjZDQpOwogICAgICAgIAogICAgCiAgICAgICAgICAgIHZhciBtYXJrZXJfZmRmM2UyMTEyNzliNGE1NzkwMThiN2ZkMmI2ODQ2NjQgPSBMLm1hcmtlcigKICAgICAgICAgICAgICAgIFs0OC44NDA1MjQxLCAyLjI5NTY3MzZdLAogICAgICAgICAgICAgICAge30KICAgICAgICAgICAgKS5hZGRUbyhtYXBfMTY1ODUyOGI1YzJiNGQ3OGExM2QwNmM4NTIzYTBjZDQpOwogICAgICAgIAogICAgCiAgICAgICAgICAgIHZhciBtYXJrZXJfNmU0MTljNTNkOTg2NGRmOWE2MTExZTliNGI0OTA5Y2UgPSBMLm1hcmtlcigKICAgICAgICAgICAgICAgIFs0OC44ODY3MDI4OTk5OTk5OTYsIDIuMzExNTIyOF0sCiAgICAgICAgICAgICAgICB7fQogICAgICAgICAgICApLmFkZFRvKG1hcF8xNjU4NTI4YjVjMmI0ZDc4YTEzZDA2Yzg1MjNhMGNkNCk7CiAgICAgICAgCiAgICAKICAgICAgICAgICAgdmFyIG1hcmtlcl8yMGYyMzA5MjlmNjg0NWY5YjMxOGM3YTMwMDAzYTVmOCA9IEwubWFya2VyKAogICAgICAgICAgICAgICAgWzQ4Ljg4NDExODEsIDIuMzA1MzA1NTAwMDAwMDAwMl0sCiAgICAgICAgICAgICAgICB7fQogICAgICAgICAgICApLmFkZFRvKG1hcF8xNjU4NTI4YjVjMmI0ZDc4YTEzZDA2Yzg1MjNhMGNkNCk7CiAgICAgICAgCiAgICAKICAgICAgICAgICAgdmFyIG1hcmtlcl84MTU1MjBhYzA4NGY0OWQyODVhMzE1MDYxM2NiMTc3MiA9IEwubWFya2VyKAogICAgICAgICAgICAgICAgWzQ4Ljg4NDExODEsIDIuMzA1MzA1NTAwMDAwMDAwMl0sCiAgICAgICAgICAgICAgICB7fQogICAgICAgICAgICApLmFkZFRvKG1hcF8xNjU4NTI4YjVjMmI0ZDc4YTEzZDA2Yzg1MjNhMGNkNCk7CiAgICAgICAgCiAgICAKICAgICAgICAgICAgdmFyIG1hcmtlcl8yYzMwNTdiNDZlOTA0NTVmYjkyZTFiOTMyMmYwNzczYiA9IEwubWFya2VyKAogICAgICAgICAgICAgICAgWzQ4Ljg0NjE2NDIwMDAwMDAwNCwgMi4yOTUyNDU1XSwKICAgICAgICAgICAgICAgIHt9CiAgICAgICAgICAgICkuYWRkVG8obWFwXzE2NTg1MjhiNWMyYjRkNzhhMTNkMDZjODUyM2EwY2Q0KTsKICAgICAgICAKICAgIAogICAgICAgICAgICB2YXIgbWFya2VyXzdkYWY5NTVjODRkNjQ3MGI5OTE2NjQ2YTVkOTg3ZjM5ID0gTC5tYXJrZXIoCiAgICAgICAgICAgICAgICBbNDguODg3NzIwNSwgMi4zMTAxODJdLAogICAgICAgICAgICAgICAge30KICAgICAgICAgICAgKS5hZGRUbyhtYXBfMTY1ODUyOGI1YzJiNGQ3OGExM2QwNmM4NTIzYTBjZDQpOwogICAgICAgIAogICAgCiAgICAgICAgICAgIHZhciBtYXJrZXJfZWIxNWZkMDI1MDNkNGNkZjk3ZDU5NDJiZjI5NzU3YTggPSBMLm1hcmtlcigKICAgICAgICAgICAgICAgIFs0OC44MzU2MTE0LCAyLjMwMDcyOTJdLAogICAgICAgICAgICAgICAge30KICAgICAgICAgICAgKS5hZGRUbyhtYXBfMTY1ODUyOGI1YzJiNGQ3OGExM2QwNmM4NTIzYTBjZDQpOwogICAgICAgIAogICAgCiAgICAgICAgICAgIHZhciBtYXJrZXJfNDQ2YjhhYjdlMTM1NDY1YWI5Yjg3YzhhMTFmNGFiNWMgPSBMLm1hcmtlcigKICAgICAgICAgICAgICAgIFs0OC44NjkzMTQ5LCAyLjI4ODIxMzJdLAogICAgICAgICAgICAgICAge30KICAgICAgICAgICAgKS5hZGRUbyhtYXBfMTY1ODUyOGI1YzJiNGQ3OGExM2QwNmM4NTIzYTBjZDQpOwogICAgICAgIAogICAgCiAgICAgICAgICAgIHZhciBtYXJrZXJfZjc5ZDRlODM2Yjk1NDA1YzgwZTcwOGY1ODMwMTg4ZmMgPSBMLm1hcmtlcigKICAgICAgICAgICAgICAgIFs0OC44NjkzMTQ5LCAyLjI4ODIxMzJdLAogICAgICAgICAgICAgICAge30KICAgICAgICAgICAgKS5hZGRUbyhtYXBfMTY1ODUyOGI1YzJiNGQ3OGExM2QwNmM4NTIzYTBjZDQpOwogICAgICAgIAogICAgCiAgICAgICAgICAgIHZhciBtYXJrZXJfMzMyYmRiM2NlNWRjNGViZTlkOGIxZjZlZDVlODdiYmIgPSBMLm1hcmtlcigKICAgICAgICAgICAgICAgIFs0OC44ODE1NzUyOTk5OTk5OTQsIDIuMjk4MTg1Nl0sCiAgICAgICAgICAgICAgICB7fQogICAgICAgICAgICApLmFkZFRvKG1hcF8xNjU4NTI4YjVjMmI0ZDc4YTEzZDA2Yzg1MjNhMGNkNCk7CiAgICAgICAgCiAgICAKICAgICAgICAgICAgdmFyIG1hcmtlcl81Yzk3ZjFlNDc2NmE0MDU1ODE1OTczZDBkMmFmNzBjMiA9IEwubWFya2VyKAogICAgICAgICAgICAgICAgWzQ4Ljg5NTY2NDEsIDIuMzE3NTcwN10sCiAgICAgICAgICAgICAgICB7fQogICAgICAgICAgICApLmFkZFRvKG1hcF8xNjU4NTI4YjVjMmI0ZDc4YTEzZDA2Yzg1MjNhMGNkNCk7CiAgICAgICAgCiAgICAKICAgICAgICAgICAgdmFyIG1hcmtlcl80NjZmNjJjOTJiY2E0ZDFjYjMwNjUxNzg4NDMwYzVlMSA9IEwubWFya2VyKAogICAgICAgICAgICAgICAgWzQ4Ljg1MTQ3OTc5OTk5OTk5LCAyLjI3ODYyMDldLAogICAgICAgICAgICAgICAge30KICAgICAgICAgICAgKS5hZGRUbyhtYXBfMTY1ODUyOGI1YzJiNGQ3OGExM2QwNmM4NTIzYTBjZDQpOwogICAgICAgIAogICAgCiAgICAgICAgICAgIHZhciBtYXJrZXJfYjJmYzNiM2JjOTg2NDk3OGI4YTk4YzY5YWQ2N2U5YWIgPSBMLm1hcmtlcigKICAgICAgICAgICAgICAgIFs0OC44ODMzNzksIDIuNDA4MzA0NV0sCiAgICAgICAgICAgICAgICB7fQogICAgICAgICAgICApLmFkZFRvKG1hcF8xNjU4NTI4YjVjMmI0ZDc4YTEzZDA2Yzg1MjNhMGNkNCk7CiAgICAgICAgCiAgICAKICAgICAgICAgICAgdmFyIG1hcmtlcl8xMmIzZWM3ODY1MzA0ZWFkYTgwOWY0YjU5MWRmZDUzMiA9IEwubWFya2VyKAogICAgICAgICAgICAgICAgWzQ4Ljg4MTc1MTMsIDIuMjkzODYzN10sCiAgICAgICAgICAgICAgICB7fQogICAgICAgICAgICApLmFkZFRvKG1hcF8xNjU4NTI4YjVjMmI0ZDc4YTEzZDA2Yzg1MjNhMGNkNCk7CiAgICAgICAgCiAgICAKICAgICAgICAgICAgdmFyIG1hcmtlcl85ZTA4MTYxYWM2M2Q0ZTkyYTEyNGMzMGUzNTA1MjBiYyA9IEwubWFya2VyKAogICAgICAgICAgICAgICAgWzQ4Ljg4NDg2ODUsIDIuMjk3OTE2Nl0sCiAgICAgICAgICAgICAgICB7fQogICAgICAgICAgICApLmFkZFRvKG1hcF8xNjU4NTI4YjVjMmI0ZDc4YTEzZDA2Yzg1MjNhMGNkNCk7CiAgICAgICAgCiAgICAKICAgICAgICAgICAgdmFyIG1hcmtlcl8wNDMzY2I4MGNlMTQ0YzA0OTBjYTMzZWZjODU0NWQ3NyA9IEwubWFya2VyKAogICAgICAgICAgICAgICAgWzQ4Ljg0ODExNDgsIDIuMjg2Nzk3OF0sCiAgICAgICAgICAgICAgICB7fQogICAgICAgICAgICApLmFkZFRvKG1hcF8xNjU4NTI4YjVjMmI0ZDc4YTEzZDA2Yzg1MjNhMGNkNCk7CiAgICAgICAgCiAgICAKICAgICAgICAgICAgdmFyIG1hcmtlcl84ZjQxMWE4Y2ZlYzk0MDdiYjQwY2Q1ODA0MjEzOGI1MSA9IEwubWFya2VyKAogICAgICAgICAgICAgICAgWzQ4Ljg2NTI5NjIsIDIuMjc1MDM1Nzk5OTk5OTk5NV0sCiAgICAgICAgICAgICAgICB7fQogICAgICAgICAgICApLmFkZFRvKG1hcF8xNjU4NTI4YjVjMmI0ZDc4YTEzZDA2Yzg1MjNhMGNkNCk7CiAgICAgICAgCiAgICAKICAgICAgICAgICAgdmFyIG1hcmtlcl9kZTgxNTkyOThhZjk0MmY2OTU4NWVmMzhjNjg3ZTI0MSA9IEwubWFya2VyKAogICAgICAgICAgICAgICAgWzQ4Ljg4Mzk4MDUsIDIuMjkwOTU5NjAwMDAwMDAwM10sCiAgICAgICAgICAgICAgICB7fQogICAgICAgICAgICApLmFkZFRvKG1hcF8xNjU4NTI4YjVjMmI0ZDc4YTEzZDA2Yzg1MjNhMGNkNCk7CiAgICAgICAgCiAgICAKICAgICAgICAgICAgdmFyIG1hcmtlcl9kOGJjNzEwMmZiZDM0YjAwYmI2MjVmNzM4ODJmNTAxZiA9IEwubWFya2VyKAogICAgICAgICAgICAgICAgWzQ4Ljg4NjU0OTEsIDIuMjkyNzk1XSwKICAgICAgICAgICAgICAgIHt9CiAgICAgICAgICAgICkuYWRkVG8obWFwXzE2NTg1MjhiNWMyYjRkNzhhMTNkMDZjODUyM2EwY2Q0KTsKICAgICAgICAKICAgIAogICAgICAgICAgICB2YXIgbWFya2VyXzRjMmVkYjYzMjVhMDQxOWE4MmZiZjQ3NTQ2MjBmNDk5ID0gTC5tYXJrZXIoCiAgICAgICAgICAgICAgICBbNDguODU5NDMyOCwgMi4yNzYxMDk5OTk5OTk5OTk2XSwKICAgICAgICAgICAgICAgIHt9CiAgICAgICAgICAgICkuYWRkVG8obWFwXzE2NTg1MjhiNWMyYjRkNzhhMTNkMDZjODUyM2EwY2Q0KTsKICAgICAgICAKICAgIAogICAgICAgICAgICB2YXIgbWFya2VyX2ZmMDNmOTE1Yjg2NjRkNjQ5NTRiNzIzYmUxMzM0NGRiID0gTC5tYXJrZXIoCiAgICAgICAgICAgICAgICBbNDguODg4MjM0MDAwMDAwMDA0LCAyLjQxMjYyMTc5OTk5OTk5OTddLAogICAgICAgICAgICAgICAge30KICAgICAgICAgICAgKS5hZGRUbyhtYXBfMTY1ODUyOGI1YzJiNGQ3OGExM2QwNmM4NTIzYTBjZDQpOwogICAgICAgIAogICAgCiAgICAgICAgICAgIHZhciBtYXJrZXJfZjU0YTI5YzQ4MzQ5NGZkOWEzYzc0YWY5M2E1ZWEwODggPSBMLm1hcmtlcigKICAgICAgICAgICAgICAgIFs0OC44OTQ4NjI3MDAwMDAwMDQsIDIuNDAzNDU5Ml0sCiAgICAgICAgICAgICAgICB7fQogICAgICAgICAgICApLmFkZFRvKG1hcF8xNjU4NTI4YjVjMmI0ZDc4YTEzZDA2Yzg1MjNhMGNkNCk7CiAgICAgICAgCiAgICAKICAgICAgICAgICAgdmFyIG1hcmtlcl81ZWIxZTU4ZDkwMmY0YWExODAwYzFmNTkxM2I1Y2FiMSA9IEwubWFya2VyKAogICAgICAgICAgICAgICAgWzQ4Ljg5NDg2MjcwMDAwMDAwNCwgMi40MDM0NTkyXSwKICAgICAgICAgICAgICAgIHt9CiAgICAgICAgICAgICkuYWRkVG8obWFwXzE2NTg1MjhiNWMyYjRkNzhhMTNkMDZjODUyM2EwY2Q0KTsKICAgICAgICAKICAgIAogICAgICAgICAgICB2YXIgbWFya2VyX2QxMzBkNGExZDEwODQ3YTA5ZWU5M2ZiYmFhNTE4NGRkID0gTC5tYXJrZXIoCiAgICAgICAgICAgICAgICBbNDguODI0MzI5LCAyLjI5MDI0NDZdLAogICAgICAgICAgICAgICAge30KICAgICAgICAgICAgKS5hZGRUbyhtYXBfMTY1ODUyOGI1YzJiNGQ3OGExM2QwNmM4NTIzYTBjZDQpOwogICAgICAgIAogICAgCiAgICAgICAgICAgIHZhciBtYXJrZXJfYWIzMjUzOTE0YjQwNDhjMmIyMmVkOWI3MDZlZTE2N2MgPSBMLm1hcmtlcigKICAgICAgICAgICAgICAgIFs0OC44MjQzMjksIDIuMjkwMjQ0Nl0sCiAgICAgICAgICAgICAgICB7fQogICAgICAgICAgICApLmFkZFRvKG1hcF8xNjU4NTI4YjVjMmI0ZDc4YTEzZDA2Yzg1MjNhMGNkNCk7CiAgICAgICAgCiAgICAKICAgICAgICAgICAgdmFyIG1hcmtlcl8wOGNhNDRjYTczNmQ0YWUwYjg2OWQ4MzU3ZjQyMDgyNyA9IEwubWFya2VyKAogICAgICAgICAgICAgICAgWzQ4LjgyNDMyOSwgMi4yOTAyNDQ2XSwKICAgICAgICAgICAgICAgIHt9CiAgICAgICAgICAgICkuYWRkVG8obWFwXzE2NTg1MjhiNWMyYjRkNzhhMTNkMDZjODUyM2EwY2Q0KTsKICAgICAgICAKICAgIAogICAgICAgICAgICB2YXIgbWFya2VyX2Y3MTk4MTZmMGViODQ3NzRhZmNiMjEyMjFjYzIxOTBmID0gTC5tYXJrZXIoCiAgICAgICAgICAgICAgICBbNDguODYwNzY5MjAwMDAwMDEsIDIuMjczNDkxN10sCiAgICAgICAgICAgICAgICB7fQogICAgICAgICAgICApLmFkZFRvKG1hcF8xNjU4NTI4YjVjMmI0ZDc4YTEzZDA2Yzg1MjNhMGNkNCk7CiAgICAgICAgCiAgICAKICAgICAgICAgICAgdmFyIG1hcmtlcl85MjA0NDA2Yzk2NDQ0MmFjODM2NGQ2MTE4Y2NmYjc3MCA9IEwubWFya2VyKAogICAgICAgICAgICAgICAgWzQ4Ljg1MjI5NywgMi4yNzQ4MDA4XSwKICAgICAgICAgICAgICAgIHt9CiAgICAgICAgICAgICkuYWRkVG8obWFwXzE2NTg1MjhiNWMyYjRkNzhhMTNkMDZjODUyM2EwY2Q0KTsKICAgICAgICAKICAgIAogICAgICAgICAgICB2YXIgbWFya2VyX2VjYjFkYTkxMWQ0ZjRlMzE5Y2Y3ZjMxNTMyZWQ1ZTFlID0gTC5tYXJrZXIoCiAgICAgICAgICAgICAgICBbNDguOTA1MTAyMSwgMi4zMTA1NjY1XSwKICAgICAgICAgICAgICAgIHt9CiAgICAgICAgICAgICkuYWRkVG8obWFwXzE2NTg1MjhiNWMyYjRkNzhhMTNkMDZjODUyM2EwY2Q0KTsKICAgICAgICAKICAgIAogICAgICAgICAgICB2YXIgbWFya2VyXzg5MjRlMWQyYTdjNTQ1NTI5NjhjZTUyM2Q4YWZhMTBmID0gTC5tYXJrZXIoCiAgICAgICAgICAgICAgICBbNDguNzk3NDk0MSwgMi4zMjk0NzcyXSwKICAgICAgICAgICAgICAgIHt9CiAgICAgICAgICAgICkuYWRkVG8obWFwXzE2NTg1MjhiNWMyYjRkNzhhMTNkMDZjODUyM2EwY2Q0KTsKICAgICAgICAKICAgIAogICAgICAgICAgICB2YXIgbWFya2VyXzg0NGJlM2JjZjUyYjQ3ZWVhODJmZjc0ZjIzYTJiZTdjID0gTC5tYXJrZXIoCiAgICAgICAgICAgICAgICBbNDguODA5OTQ3MSwgMi40MTQzMjc3OTk5OTk5OTk3XSwKICAgICAgICAgICAgICAgIHt9CiAgICAgICAgICAgICkuYWRkVG8obWFwXzE2NTg1MjhiNWMyYjRkNzhhMTNkMDZjODUyM2EwY2Q0KTsKICAgICAgICAKICAgIAogICAgICAgICAgICB2YXIgbWFya2VyX2NjNzA2NDdlYjhiYTQ0NDRhNTg2MmUxMzNlMGU4YmRmID0gTC5tYXJrZXIoCiAgICAgICAgICAgICAgICBbNDguODE0NDU1LCAyLjQyODE0MTc5OTk5OTk5OTddLAogICAgICAgICAgICAgICAge30KICAgICAgICAgICAgKS5hZGRUbyhtYXBfMTY1ODUyOGI1YzJiNGQ3OGExM2QwNmM4NTIzYTBjZDQpOwogICAgICAgIAogICAgCiAgICAgICAgICAgIHZhciBtYXJrZXJfNGUwMDY1N2E3ZjdlNGFkNmEwZmZlMTIxMzU0ZGUzZDYgPSBMLm1hcmtlcigKICAgICAgICAgICAgICAgIFs0OC44OTc4MjQyLCAyLjI2MzE3MzI5OTk5OTk5OTZdLAogICAgICAgICAgICAgICAge30KICAgICAgICAgICAgKS5hZGRUbyhtYXBfMTY1ODUyOGI1YzJiNGQ3OGExM2QwNmM4NTIzYTBjZDQpOwogICAgICAgIAogICAgCiAgICAgICAgICAgIHZhciBtYXJrZXJfZWQyYTA3MjdjMjI1NGI3MTg0Zjg1M2ZlZmMwOTJhMWQgPSBMLm1hcmtlcigKICAgICAgICAgICAgICAgIFs0OC44MDE3MjI3LCAyLjQyMzI3ODddLAogICAgICAgICAgICAgICAge30KICAgICAgICAgICAgKS5hZGRUbyhtYXBfMTY1ODUyOGI1YzJiNGQ3OGExM2QwNmM4NTIzYTBjZDQpOwogICAgICAgIAogICAgCiAgICAgICAgICAgIHZhciBtYXJrZXJfZjkzOTAxODIzMjM3NDI3Mjg2MDYyYmY1Mzk1NWYyMTggPSBMLm1hcmtlcigKICAgICAgICAgICAgICAgIFs0OC43ODU4MzI0LCAyLjMxNjAxNTcwMDAwMDAwMDNdLAogICAgICAgICAgICAgICAge30KICAgICAgICAgICAgKS5hZGRUbyhtYXBfMTY1ODUyOGI1YzJiNGQ3OGExM2QwNmM4NTIzYTBjZDQpOwogICAgICAgIAogICAgCiAgICAgICAgICAgIHZhciBtYXJrZXJfN2JhMzM0YzAxODI2NGQxNmE1YmMxNTdmODdjZTczNDYgPSBMLm1hcmtlcigKICAgICAgICAgICAgICAgIFs0OC43ODE5NDczLCAyLjM1MzE4MDJdLAogICAgICAgICAgICAgICAge30KICAgICAgICAgICAgKS5hZGRUbyhtYXBfMTY1ODUyOGI1YzJiNGQ3OGExM2QwNmM4NTIzYTBjZDQpOwogICAgICAgIAogICAgCiAgICAgICAgICAgIHZhciBtYXJrZXJfNjE3MjgwMmFmYzdiNGNjNTlmMWQ1ZjUwMzllZDhlOTEgPSBMLm1hcmtlcigKICAgICAgICAgICAgICAgIFs0OC44Mzk1MjI4LCAyLjI0MTk5ODIwMDAwMDAwMDNdLAogICAgICAgICAgICAgICAge30KICAgICAgICAgICAgKS5hZGRUbyhtYXBfMTY1ODUyOGI1YzJiNGQ3OGExM2QwNmM4NTIzYTBjZDQpOwogICAgICAgIAogICAgCiAgICAgICAgICAgIHZhciBtYXJrZXJfYTNjZjBkM2VkMDY1NDM1ZWE0MTg0YjFlYTRlOGY3ZDkgPSBMLm1hcmtlcigKICAgICAgICAgICAgICAgIFs0OC44MzEzNTY0MDAwMDAwMDQsIDIuMjQwODcwNF0sCiAgICAgICAgICAgICAgICB7fQogICAgICAgICAgICApLmFkZFRvKG1hcF8xNjU4NTI4YjVjMmI0ZDc4YTEzZDA2Yzg1MjNhMGNkNCk7CiAgICAgICAgCiAgICAKICAgICAgICAgICAgdmFyIG1hcmtlcl81ZDY1ZWU4ZTAwOTE0M2MyYjkzMGQyNmExNWIzNDc5MyA9IEwubWFya2VyKAogICAgICAgICAgICAgICAgWzQ4Ljc3OTY4NjQsIDIuMzEzNTczN10sCiAgICAgICAgICAgICAgICB7fQogICAgICAgICAgICApLmFkZFRvKG1hcF8xNjU4NTI4YjVjMmI0ZDc4YTEzZDA2Yzg1MjNhMGNkNCk7CiAgICAgICAgCiAgICAKICAgICAgICAgICAgdmFyIG1hcmtlcl9hMzQzMzk3NDc5NTM0YTYyODUyMWYxYmZiYTFmNGY3ZiA9IEwubWFya2VyKAogICAgICAgICAgICAgICAgWzQ4LjkxODczNDksIDIuMjc1NTQxMl0sCiAgICAgICAgICAgICAgICB7fQogICAgICAgICAgICApLmFkZFRvKG1hcF8xNjU4NTI4YjVjMmI0ZDc4YTEzZDA2Yzg1MjNhMGNkNCk7CiAgICAgICAgCiAgICAKICAgICAgICAgICAgdmFyIG1hcmtlcl8zN2YzZDIzOTM4MDQ0MTY0YTM2Y2VhYjVhMzAwYmUyMCA9IEwubWFya2VyKAogICAgICAgICAgICAgICAgWzQ4LjgxNDEyNzQsIDIuMjQ4MjQ1ODk5OTk5OTk5N10sCiAgICAgICAgICAgICAgICB7fQogICAgICAgICAgICApLmFkZFRvKG1hcF8xNjU4NTI4YjVjMmI0ZDc4YTEzZDA2Yzg1MjNhMGNkNCk7CiAgICAgICAgCiAgICAKICAgICAgICAgICAgdmFyIG1hcmtlcl82MTVlZTBhNjc5YmY0ODIwYTU5MTRlNDBlMmIwMjNhNSA9IEwubWFya2VyKAogICAgICAgICAgICAgICAgWzQ4Ljg4NjIzNDQsIDIuMjM5NDQ5N10sCiAgICAgICAgICAgICAgICB7fQogICAgICAgICAgICApLmFkZFRvKG1hcF8xNjU4NTI4YjVjMmI0ZDc4YTEzZDA2Yzg1MjNhMGNkNCk7CiAgICAgICAgCiAgICAKICAgICAgICAgICAgdmFyIG1hcmtlcl9hYmY5ZjExMzgwMTk0ZGUwYjA2ODNlNmIxZDViNzJiNyA9IEwubWFya2VyKAogICAgICAgICAgICAgICAgWzQ4Ljg4Mzk4MDcsIDIuMjM2NDI4Ml0sCiAgICAgICAgICAgICAgICB7fQogICAgICAgICAgICApLmFkZFRvKG1hcF8xNjU4NTI4YjVjMmI0ZDc4YTEzZDA2Yzg1MjNhMGNkNCk7CiAgICAgICAgCiAgICAKICAgICAgICAgICAgdmFyIG1hcmtlcl9hYzE2ZTFiMTk1YmU0M2EwODYwZDg2NDY5OWJhNzRkYSA9IEwubWFya2VyKAogICAgICAgICAgICAgICAgWzQ4Ljc3Mjk5ODUsIDIuMzU1NDcwOF0sCiAgICAgICAgICAgICAgICB7fQogICAgICAgICAgICApLmFkZFRvKG1hcF8xNjU4NTI4YjVjMmI0ZDc4YTEzZDA2Yzg1MjNhMGNkNCk7CiAgICAgICAgCiAgICAKICAgICAgICAgICAgdmFyIG1hcmtlcl8xZTczODliMzI1M2M0OTI0YmY0YzkzMDg1MjdlZjdhNyA9IEwubWFya2VyKAogICAgICAgICAgICAgICAgWzQ4LjkyMTkwNzIwMDAwMDAxLCAyLjI3MjQ0NjIwMDAwMDAwMDVdLAogICAgICAgICAgICAgICAge30KICAgICAgICAgICAgKS5hZGRUbyhtYXBfMTY1ODUyOGI1YzJiNGQ3OGExM2QwNmM4NTIzYTBjZDQpOwogICAgICAgIAogICAgCiAgICAgICAgICAgIHZhciBtYXJrZXJfNDkyNjUxNjE0NjY3NDcxYmFjYmVmMWVkYjcwZTU5ZmQgPSBMLm1hcmtlcigKICAgICAgICAgICAgICAgIFs0OC45MTAyNjk4OTk5OTk5OTYsIDIuMjUwNzQyMjAwMDAwMDAwNF0sCiAgICAgICAgICAgICAgICB7fQogICAgICAgICAgICApLmFkZFRvKG1hcF8xNjU4NTI4YjVjMmI0ZDc4YTEzZDA2Yzg1MjNhMGNkNCk7CiAgICAgICAgCiAgICAKICAgICAgICAgICAgdmFyIG1hcmtlcl82OWRmM2EwNTBlMDg0YTg3OWVhMzNlZTVhMDNjOWU3ZCA9IEwubWFya2VyKAogICAgICAgICAgICAgICAgWzQ4Ljc2NTg1OTYsIDIuMzY0ODIyNzAwMDAwMDAwNF0sCiAgICAgICAgICAgICAgICB7fQogICAgICAgICAgICApLmFkZFRvKG1hcF8xNjU4NTI4YjVjMmI0ZDc4YTEzZDA2Yzg1MjNhMGNkNCk7CiAgICAgICAgCiAgICAKICAgICAgICAgICAgdmFyIG1hcmtlcl8wYWM3Y2JiYzViNjY0YjNkOWYxNjkxNWZiMTRjODhhNiA9IEwubWFya2VyKAogICAgICAgICAgICAgICAgWzQ4LjkwNzk3MTMsIDIuNDY1NzYyNl0sCiAgICAgICAgICAgICAgICB7fQogICAgICAgICAgICApLmFkZFRvKG1hcF8xNjU4NTI4YjVjMmI0ZDc4YTEzZDA2Yzg1MjNhMGNkNCk7CiAgICAgICAgCiAgICAKICAgICAgICAgICAgdmFyIG1hcmtlcl9jZmE0NjFiNDExYWE0NTYwYjg4YmM5NjI4NGY2ZmZjMiA9IEwubWFya2VyKAogICAgICAgICAgICAgICAgWzQ4Ljc2NTEzNTYsIDIuMzgxNjYwOV0sCiAgICAgICAgICAgICAgICB7fQogICAgICAgICAgICApLmFkZFRvKG1hcF8xNjU4NTI4YjVjMmI0ZDc4YTEzZDA2Yzg1MjNhMGNkNCk7CiAgICAgICAgCiAgICAKICAgICAgICAgICAgdmFyIG1hcmtlcl9lNWZmYWEyYWNiNGU0ZmVjYTgzMGQzNTBiODcxY2JhZiA9IEwubWFya2VyKAogICAgICAgICAgICAgICAgWzQ4LjgxNzE3MTUsIDIuNTA5ODAxNl0sCiAgICAgICAgICAgICAgICB7fQogICAgICAgICAgICApLmFkZFRvKG1hcF8xNjU4NTI4YjVjMmI0ZDc4YTEzZDA2Yzg1MjNhMGNkNCk7CiAgICAgICAgCiAgICAKICAgICAgICAgICAgdmFyIG1hcmtlcl9jMjJkMzhmMjJhNjg0YjdkOTYyZGJhYTZhYWZiNWRlMSA9IEwubWFya2VyKAogICAgICAgICAgICAgICAgWzQ4Ljg5ODEzMjgsIDIuMjA3NTYxXSwKICAgICAgICAgICAgICAgIHt9CiAgICAgICAgICAgICkuYWRkVG8obWFwXzE2NTg1MjhiNWMyYjRkNzhhMTNkMDZjODUyM2EwY2Q0KTsKICAgICAgICAKICAgIAogICAgICAgICAgICB2YXIgbWFya2VyXzg4YmM3NzcwN2Y1MTQ3MzJhYTMyZTgzYTQ1ODk0ZDNjID0gTC5tYXJrZXIoCiAgICAgICAgICAgICAgICBbNDguOTA5MzA1NSwgMi41MDM0ODIxXSwKICAgICAgICAgICAgICAgIHt9CiAgICAgICAgICAgICkuYWRkVG8obWFwXzE2NTg1MjhiNWMyYjRkNzhhMTNkMDZjODUyM2EwY2Q0KTsKICAgICAgICAKICAgIAogICAgICAgICAgICB2YXIgbWFya2VyX2I1Yzk1NWNmYWFhYTRjNjJhOTg5ODUwODMzYTIzNzZkID0gTC5tYXJrZXIoCiAgICAgICAgICAgICAgICBbNDguOTA5MzA1NSwgMi41MDM0ODIxXSwKICAgICAgICAgICAgICAgIHt9CiAgICAgICAgICAgICkuYWRkVG8obWFwXzE2NTg1MjhiNWMyYjRkNzhhMTNkMDZjODUyM2EwY2Q0KTsKICAgICAgICAKICAgIAogICAgICAgICAgICB2YXIgbWFya2VyXzM3Yjc5MDY1OTVmMDQ5ZDM4MGUwZmYzMTI4N2YxMjUxID0gTC5tYXJrZXIoCiAgICAgICAgICAgICAgICBbNDguODg3MTk4Mjk5OTk5OTk0LCAyLjE4MjExNDIwMDAwMDAwMDRdLAogICAgICAgICAgICAgICAge30KICAgICAgICAgICAgKS5hZGRUbyhtYXBfMTY1ODUyOGI1YzJiNGQ3OGExM2QwNmM4NTIzYTBjZDQpOwogICAgICAgIAogICAgCiAgICAgICAgICAgIHZhciBtYXJrZXJfMjY2MjEzZTNkZjQ2NDIzNThmNjFiNGZhNDY0NDVhYTYgPSBMLm1hcmtlcigKICAgICAgICAgICAgICAgIFs0OC44NzYyODEyOTk5OTk5OTUsIDIuMTcwNzAxMV0sCiAgICAgICAgICAgICAgICB7fQogICAgICAgICAgICApLmFkZFRvKG1hcF8xNjU4NTI4YjVjMmI0ZDc4YTEzZDA2Yzg1MjNhMGNkNCk7CiAgICAgICAgCiAgICAKICAgICAgICAgICAgdmFyIG1hcmtlcl9hN2ZjMWQ4YmVjMjU0YzAzOTk2OGNiNWUxYWVkMTQ3MyA9IEwubWFya2VyKAogICAgICAgICAgICAgICAgWzQ4Ljk4NzkwMTIsIDIuMzQzNzU5NV0sCiAgICAgICAgICAgICAgICB7fQogICAgICAgICAgICApLmFkZFRvKG1hcF8xNjU4NTI4YjVjMmI0ZDc4YTEzZDA2Yzg1MjNhMGNkNCk7CiAgICAgICAgCiAgICAKICAgICAgICAgICAgdmFyIG1hcmtlcl9hZDI3Njc5MzY2YmQ0YmVkYmY4ZGFlZTlkZjNjYzM3OCA9IEwubWFya2VyKAogICAgICAgICAgICAgICAgWzQ4Ljg0NTcyOTEsIDIuMTUyNzIyMjAwMDAwMDAwNF0sCiAgICAgICAgICAgICAgICB7fQogICAgICAgICAgICApLmFkZFRvKG1hcF8xNjU4NTI4YjVjMmI0ZDc4YTEzZDA2Yzg1MjNhMGNkNCk7CiAgICAgICAgCiAgICAKICAgICAgICAgICAgdmFyIG1hcmtlcl82YzMxMTRlNDM2YzE0NGRhOGI1OTA2NzA4N2I3ODZjMCA9IEwubWFya2VyKAogICAgICAgICAgICAgICAgWzQ4Ljc0NjA4NzEwMDAwMDAwNCwgMi41MDU0Njc4XSwKICAgICAgICAgICAgICAgIHt9CiAgICAgICAgICAgICkuYWRkVG8obWFwXzE2NTg1MjhiNWMyYjRkNzhhMTNkMDZjODUyM2EwY2Q0KTsKICAgICAgICAKICAgIAogICAgICAgICAgICB2YXIgbWFya2VyX2E5OTg2Zjc4YWJiMTQ1NjNhMTUyNGRhYWQ5ZGNhOGI5ID0gTC5tYXJrZXIoCiAgICAgICAgICAgICAgICBbNDguOTAyNzMzOCwgMi4xMjc1NDQ1XSwKICAgICAgICAgICAgICAgIHt9CiAgICAgICAgICAgICkuYWRkVG8obWFwXzE2NTg1MjhiNWMyYjRkNzhhMTNkMDZjODUyM2EwY2Q0KTsKICAgICAgICAKICAgIAogICAgICAgICAgICB2YXIgbWFya2VyXzBiMmE1MTk0ODRiZjQ3ZmViZTk2MDc2ZWVhZDJhYTk5ID0gTC5tYXJrZXIoCiAgICAgICAgICAgICAgICBbNDguODA5MDUyNSwgMi41Nzg2Njg1XSwKICAgICAgICAgICAgICAgIHt9CiAgICAgICAgICAgICkuYWRkVG8obWFwXzE2NTg1MjhiNWMyYjRkNzhhMTNkMDZjODUyM2EwY2Q0KTsKICAgICAgICAKICAgIAogICAgICAgICAgICB2YXIgbWFya2VyX2MzYzM4MzdiMzM3NzQ2MjhhZTUwOGU4MmVlMzZlMzU5ID0gTC5tYXJrZXIoCiAgICAgICAgICAgICAgICBbNDguODA3OTYxNjAwMDAwMDA2LCAyLjYxMTQ2NjVdLAogICAgICAgICAgICAgICAge30KICAgICAgICAgICAgKS5hZGRUbyhtYXBfMTY1ODUyOGI1YzJiNGQ3OGExM2QwNmM4NTIzYTBjZDQpOwogICAgICAgIAogICAgCiAgICAgICAgICAgIHZhciBtYXJrZXJfMGQyN2FiMmJhOGQzNDFkNDlkYjA0YTI4M2QzMmEwNTkgPSBMLm1hcmtlcigKICAgICAgICAgICAgICAgIFs0OC44Njc5NTY3OTk5OTk5OTUsIDIuMDU1NTE0NzAwMDAwMDAwMl0sCiAgICAgICAgICAgICAgICB7fQogICAgICAgICAgICApLmFkZFRvKG1hcF8xNjU4NTI4YjVjMmI0ZDc4YTEzZDA2Yzg1MjNhMGNkNCk7CiAgICAgICAgCiAgICAKICAgICAgICAgICAgdmFyIG1hcmtlcl81ZjdhZmYxZTU2YTE0MTliOGY4MGFiMTU2Y2E5ODI4ZCA9IEwubWFya2VyKAogICAgICAgICAgICAgICAgWzQ4LjkzMDMwMjUsIDIuMDQyMzk1MTAwMDAwMDAwMl0sCiAgICAgICAgICAgICAgICB7fQogICAgICAgICAgICApLmFkZFRvKG1hcF8xNjU4NTI4YjVjMmI0ZDc4YTEzZDA2Yzg1MjNhMGNkNCk7CiAgICAgICAgCiAgICAKICAgICAgICAgICAgdmFyIG1hcmtlcl80NjNiNGY3ZGUxOGE0MWQ2OTJjZTJjMmE5ZGIxMDg3YSA9IEwubWFya2VyKAogICAgICAgICAgICAgICAgWzQ4LjYzODU2ODIsIDIuNDM2NjIxMzMwNjg1Mjg4Nl0sCiAgICAgICAgICAgICAgICB7fQogICAgICAgICAgICApLmFkZFRvKG1hcF8xNjU4NTI4YjVjMmI0ZDc4YTEzZDA2Yzg1MjNhMGNkNCk7CiAgICAgICAgCiAgICAKICAgICAgICAgICAgdmFyIG1hcmtlcl8xMjU1YmRlYWJmMzM0N2UwYmViNjAxYjkyMjIwYTAxNSA9IEwubWFya2VyKAogICAgICAgICAgICAgICAgWzQ5LjAzNDE4NzU5OTk5OTk5NiwgMi4wODk5OTg3XSwKICAgICAgICAgICAgICAgIHt9CiAgICAgICAgICAgICkuYWRkVG8obWFwXzE2NTg1MjhiNWMyYjRkNzhhMTNkMDZjODUyM2EwY2Q0KTsKICAgICAgICAKICAgIAogICAgICAgICAgICB2YXIgbWFya2VyXzcwMzZkODM1OTA5ZjQ4YzQ4NTc5OWI3MThmNzg2OGEzID0gTC5tYXJrZXIoCiAgICAgICAgICAgICAgICBbNDkuMDQ1MDQxLCAyLjA5MDUxMDldLAogICAgICAgICAgICAgICAge30KICAgICAgICAgICAgKS5hZGRUbyhtYXBfMTY1ODUyOGI1YzJiNGQ3OGExM2QwNmM4NTIzYTBjZDQpOwogICAgICAgIAogICAgCiAgICAgICAgICAgIHZhciBtYXJrZXJfYzM2OTVkN2FiZWI5NDFkN2IzN2E5OGFhNzRiN2EzZmUgPSBMLm1hcmtlcigKICAgICAgICAgICAgICAgIFs0OC42MjEwMzgsIDIuMTU1NzYxXSwKICAgICAgICAgICAgICAgIHt9CiAgICAgICAgICAgICkuYWRkVG8obWFwXzE2NTg1MjhiNWMyYjRkNzhhMTNkMDZjODUyM2EwY2Q0KTsKICAgICAgICAKICAgIAogICAgICAgICAgICB2YXIgbWFya2VyXzJmZGVjMmY4NDEwNDRhNTA5NTQ5ZDg0NTEzMDhmOTc0ID0gTC5tYXJrZXIoCiAgICAgICAgICAgICAgICBbNDguODI2NzY2NywgMS45NDM2OTI5XSwKICAgICAgICAgICAgICAgIHt9CiAgICAgICAgICAgICkuYWRkVG8obWFwXzE2NTg1MjhiNWMyYjRkNzhhMTNkMDZjODUyM2EwY2Q0KTsKICAgICAgICAKICAgIAogICAgICAgICAgICB2YXIgbWFya2VyXzhjNDYwZDNkMTIwODRmNjY4NWE0MjU1ODBmMjFjNmQwID0gTC5tYXJrZXIoCiAgICAgICAgICAgICAgICBbNDguODI2NzY2NywgMS45NDM2OTI5XSwKICAgICAgICAgICAgICAgIHt9CiAgICAgICAgICAgICkuYWRkVG8obWFwXzE2NTg1MjhiNWMyYjRkNzhhMTNkMDZjODUyM2EwY2Q0KTsKICAgICAgICAKICAgIAogICAgICAgICAgICB2YXIgbWFya2VyXzRkZTMzNzkyY2VmNzRkYzViNDFkOTZlODEwMzlmMTY2ID0gTC5tYXJrZXIoCiAgICAgICAgICAgICAgICBbNDguODI2NzY2NywgMS45NDM2OTI5XSwKICAgICAgICAgICAgICAgIHt9CiAgICAgICAgICAgICkuYWRkVG8obWFwXzE2NTg1MjhiNWMyYjRkNzhhMTNkMDZjODUyM2EwY2Q0KTsKICAgICAgICAKICAgIAogICAgICAgICAgICB2YXIgbWFya2VyXzVlNTY0NjJiZWVhNzQ1MWJiNGVjNjQwMjUyYjhlMWU4ID0gTC5tYXJrZXIoCiAgICAgICAgICAgICAgICBbNDguODI2NzY2NywgMS45NDM2OTI5XSwKICAgICAgICAgICAgICAgIHt9CiAgICAgICAgICAgICkuYWRkVG8obWFwXzE2NTg1MjhiNWMyYjRkNzhhMTNkMDZjODUyM2EwY2Q0KTsKICAgICAgICAKICAgIAogICAgICAgICAgICB2YXIgbWFya2VyX2FhZDRiZWI3ODNhNzQwOGU5MDg4NGUzY2YxMzk2Nzk3ID0gTC5tYXJrZXIoCiAgICAgICAgICAgICAgICBbNDguODI2NzY2NywgMS45NDM2OTI5XSwKICAgICAgICAgICAgICAgIHt9CiAgICAgICAgICAgICkuYWRkVG8obWFwXzE2NTg1MjhiNWMyYjRkNzhhMTNkMDZjODUyM2EwY2Q0KTsKICAgICAgICAKICAgIAogICAgICAgICAgICB2YXIgbWFya2VyXzhiYzhmMDliYmEzMjRhNGRhYzkxNDQ2YjZiNjcyNGU1ID0gTC5tYXJrZXIoCiAgICAgICAgICAgICAgICBbNDguODI2NzY2NywgMS45NDM2OTI5XSwKICAgICAgICAgICAgICAgIHt9CiAgICAgICAgICAgICkuYWRkVG8obWFwXzE2NTg1MjhiNWMyYjRkNzhhMTNkMDZjODUyM2EwY2Q0KTsKICAgICAgICAKICAgIAogICAgICAgICAgICB2YXIgbWFya2VyXzQ5M2YwOWVmNDQ5YzQ4NzdiZjRlMGNjMDYxZmE2YTc1ID0gTC5tYXJrZXIoCiAgICAgICAgICAgICAgICBbNDguODI2NzY2NywgMS45NDM2OTI5XSwKICAgICAgICAgICAgICAgIHt9CiAgICAgICAgICAgICkuYWRkVG8obWFwXzE2NTg1MjhiNWMyYjRkNzhhMTNkMDZjODUyM2EwY2Q0KTsKICAgICAgICAKICAgIAogICAgICAgICAgICB2YXIgbWFya2VyXzMyZDM3NWQyZGRjNDRkMzc4MTJhODFkM2YyNDk3OGY4ID0gTC5tYXJrZXIoCiAgICAgICAgICAgICAgICBbNDkuMTI4MDY5NzAwMDAwMDA1LCAyLjUyODU1NTVdLAogICAgICAgICAgICAgICAge30KICAgICAgICAgICAgKS5hZGRUbyhtYXBfMTY1ODUyOGI1YzJiNGQ3OGExM2QwNmM4NTIzYTBjZDQpOwogICAgICAgIAogICAgCiAgICAgICAgICAgIHZhciBtYXJrZXJfYzRlZjQ0OThhMjIyNDE0ZWJmYmFjNjA3YTRlZDUxZTYgPSBMLm1hcmtlcigKICAgICAgICAgICAgICAgIFs0OS4xNTIzMjc4OTk5OTk5OTYsIDIuNDQzMzEyN10sCiAgICAgICAgICAgICAgICB7fQogICAgICAgICAgICApLmFkZFRvKG1hcF8xNjU4NTI4YjVjMmI0ZDc4YTEzZDA2Yzg1MjNhMGNkNCk7CiAgICAgICAgCiAgICAKICAgICAgICAgICAgdmFyIG1hcmtlcl9kMTc0OWIyZTBkNTE0MjI3YTVkNWJhOTMwNjI2MGE1YyA9IEwubWFya2VyKAogICAgICAgICAgICAgICAgWzQ4Ljk4OTIwNDUsIDEuOTA0NzM0Nl0sCiAgICAgICAgICAgICAgICB7fQogICAgICAgICAgICApLmFkZFRvKG1hcF8xNjU4NTI4YjVjMmI0ZDc4YTEzZDA2Yzg1MjNhMGNkNCk7CiAgICAgICAgCiAgICAKICAgICAgICAgICAgdmFyIG1hcmtlcl9mNDM0NDNjOWI0MjQ0Zjc1YmM3ZGFiZTIwMWJjNDMwMCA9IEwubWFya2VyKAogICAgICAgICAgICAgICAgWzQ4LjUzMzI4MjIsIDIuMDgxMDE1NV0sCiAgICAgICAgICAgICAgICB7fQogICAgICAgICAgICApLmFkZFRvKG1hcF8xNjU4NTI4YjVjMmI0ZDc4YTEzZDA2Yzg1MjNhMGNkNCk7CiAgICAgICAgCiAgICAKICAgICAgICAgICAgdmFyIG1hcmtlcl85NWY5N2U2NTE0NTc0YzEwOTVlYzIzNDkwNmE2OGIxYyA9IEwubWFya2VyKAogICAgICAgICAgICAgICAgWzQ4LjUzNzU3NDI5OTk5OTk5NiwgMi42NTUzOTE4OTk5OTk5OTk3XSwKICAgICAgICAgICAgICAgIHt9CiAgICAgICAgICAgICkuYWRkVG8obWFwXzE2NTg1MjhiNWMyYjRkNzhhMTNkMDZjODUyM2EwY2Q0KTsKICAgICAgICAKICAgIAogICAgICAgICAgICB2YXIgbWFya2VyX2RiM2IzODZlOTI3NzQ1MzM4YTgxNDlhYmUwZTIzMjNhID0gTC5tYXJrZXIoCiAgICAgICAgICAgICAgICBbNDguNTM0NzEsIDIuNjQ5NzM4NF0sCiAgICAgICAgICAgICAgICB7fQogICAgICAgICAgICApLmFkZFRvKG1hcF8xNjU4NTI4YjVjMmI0ZDc4YTEzZDA2Yzg1MjNhMGNkNCk7CiAgICAgICAgCiAgICAKICAgICAgICAgICAgdmFyIG1hcmtlcl9mZjFlYzIyMjA4MDE0ZGU5YWI1ZDFjZmM0N2E1MGQzZSA9IEwubWFya2VyKAogICAgICAgICAgICAgICAgWzQ4LjUzODcyMTMsIDIuNjY1MjcyOF0sCiAgICAgICAgICAgICAgICB7fQogICAgICAgICAgICApLmFkZFRvKG1hcF8xNjU4NTI4YjVjMmI0ZDc4YTEzZDA2Yzg1MjNhMGNkNCk7CiAgICAgICAgCiAgICAKICAgICAgICAgICAgdmFyIG1hcmtlcl80ZGI2ZjUzMTRkNzc0YzQyOTk0MGM3ZDJkYjJhZDU2ZCA9IEwubWFya2VyKAogICAgICAgICAgICAgICAgWzQ4LjUzMjQ0OTQsIDIuNjU3NzE5OV0sCiAgICAgICAgICAgICAgICB7fQogICAgICAgICAgICApLmFkZFRvKG1hcF8xNjU4NTI4YjVjMmI0ZDc4YTEzZDA2Yzg1MjNhMGNkNCk7CiAgICAgICAgCiAgICAKICAgICAgICAgICAgdmFyIG1hcmtlcl8wMTM1MmU2ODk2ZmM0MGExYmY3NDhjOWM0NDkxNDBmNSA9IEwubWFya2VyKAogICAgICAgICAgICAgICAgWzQ4LjUzMjQ0OTQsIDIuNjU3NzE5OV0sCiAgICAgICAgICAgICAgICB7fQogICAgICAgICAgICApLmFkZFRvKG1hcF8xNjU4NTI4YjVjMmI0ZDc4YTEzZDA2Yzg1MjNhMGNkNCk7CiAgICAgICAgCiAgICAKICAgICAgICAgICAgdmFyIG1hcmtlcl84Nzg3NGVmOWFmZmQ0OTM5OTliZGEwZmY4ZjdhMTU5NSA9IEwubWFya2VyKAogICAgICAgICAgICAgICAgWzQ5LjIzODIxNDYsIDIuMTI0NzkxXSwKICAgICAgICAgICAgICAgIHt9CiAgICAgICAgICAgICkuYWRkVG8obWFwXzE2NTg1MjhiNWMyYjRkNzhhMTNkMDZjODUyM2EwY2Q0KTsKICAgICAgICAKICAgIAogICAgICAgICAgICB2YXIgbWFya2VyXzQ3MjRmM2ZmNmU1MzQ5YTI5MDMwNDliNWI1NDYyMzRiID0gTC5tYXJrZXIoCiAgICAgICAgICAgICAgICBbNDguOTc5MDM0MSwgMS43MDczMzIzXSwKICAgICAgICAgICAgICAgIHt9CiAgICAgICAgICAgICkuYWRkVG8obWFwXzE2NTg1MjhiNWMyYjRkNzhhMTNkMDZjODUyM2EwY2Q0KTsKICAgICAgICAKICAgIAogICAgICAgICAgICB2YXIgbWFya2VyX2I4ZTUyNjczZmJiZDRmNDViNzRkYzNhYmUwODk3YjFiID0gTC5tYXJrZXIoCiAgICAgICAgICAgICAgICBbNDUuNzYzNDU5OSwgNC45NDAyNjU5MDAwMDAwMDFdLAogICAgICAgICAgICAgICAge30KICAgICAgICAgICAgKS5hZGRUbyhtYXBfMTY1ODUyOGI1YzJiNGQ3OGExM2QwNmM4NTIzYTBjZDQpOwogICAgICAgIAogICAgCiAgICAgICAgICAgIHZhciBtYXJrZXJfNThjYmIzNDU4MzM0NGVjOGExZjU5YmU0NGM0MTdhNTUgPSBMLm1hcmtlcigKICAgICAgICAgICAgICAgIFs0NS43MTM1MjE4LCA0Ljg3Nzk4NTQwMDAwMDAwMV0sCiAgICAgICAgICAgICAgICB7fQogICAgICAgICAgICApLmFkZFRvKG1hcF8xNjU4NTI4YjVjMmI0ZDc4YTEzZDA2Yzg1MjNhMGNkNCk7CiAgICAgICAgCiAgICAKICAgICAgICAgICAgdmFyIG1hcmtlcl9kNzJmNTRjZGE0ZDE0N2MzYmQzZTBiODI0NmQ4MjM5YSA9IEwubWFya2VyKAogICAgICAgICAgICAgICAgWzQ1LjgwMzY3MzcwMDAwMDAwNCwgNC43ODEwNTA1XSwKICAgICAgICAgICAgICAgIHt9CiAgICAgICAgICAgICkuYWRkVG8obWFwXzE2NTg1MjhiNWMyYjRkNzhhMTNkMDZjODUyM2EwY2Q0KTsKICAgICAgICAKICAgIAogICAgICAgICAgICB2YXIgbWFya2VyXzkxYTEwNTNmNDQ4MDRlOTE4NTQ0MGUzNGY2YjIxMjRlID0gTC5tYXJrZXIoCiAgICAgICAgICAgICAgICBbNDUuNzU2ODQ5MywgNC44NTA3NzI5MDAwMDAwMDFdLAogICAgICAgICAgICAgICAge30KICAgICAgICAgICAgKS5hZGRUbyhtYXBfMTY1ODUyOGI1YzJiNGQ3OGExM2QwNmM4NTIzYTBjZDQpOwogICAgICAgIAogICAgCiAgICAgICAgICAgIHZhciBtYXJrZXJfNDBjNzNiYmQ2OGNkNDBhMzgwYzhmNjdhNzA2ZTUxMjkgPSBMLm1hcmtlcigKICAgICAgICAgICAgICAgIFs0NS43NjM2NjMsIDQuODYyMTUzNF0sCiAgICAgICAgICAgICAgICB7fQogICAgICAgICAgICApLmFkZFRvKG1hcF8xNjU4NTI4YjVjMmI0ZDc4YTEzZDA2Yzg1MjNhMGNkNCk7CiAgICAgICAgCiAgICAKICAgICAgICAgICAgdmFyIG1hcmtlcl8zZmU0YWE5MGU0Mzg0NWRlYjcxNGM3YzBmZGMwMDAwYiA9IEwubWFya2VyKAogICAgICAgICAgICAgICAgWzQ1Ljc2Nzc1ODQsIDQuODY1MjcwNl0sCiAgICAgICAgICAgICAgICB7fQogICAgICAgICAgICApLmFkZFRvKG1hcF8xNjU4NTI4YjVjMmI0ZDc4YTEzZDA2Yzg1MjNhMGNkNCk7CiAgICAgICAgCiAgICAKICAgICAgICAgICAgdmFyIG1hcmtlcl9mMmQ0NjhjOTkwMTY0OTc3YjhlZTkxNzkzNzJmOWUzZSA9IEwubWFya2VyKAogICAgICAgICAgICAgICAgWzQ1LjczOTExMDYwMDAwMDAwNCwgNC44NjQyMjI5MDAwMDAwMDFdLAogICAgICAgICAgICAgICAge30KICAgICAgICAgICAgKS5hZGRUbyhtYXBfMTY1ODUyOGI1YzJiNGQ3OGExM2QwNmM4NTIzYTBjZDQpOwogICAgICAgIAogICAgCiAgICAgICAgICAgIHZhciBtYXJrZXJfMzgwYWNhOWRmM2ViNDhmZWE2YjkyYWRjMTA0M2NhMjQgPSBMLm1hcmtlcigKICAgICAgICAgICAgICAgIFs0NS43MzY2OTIsIDQuODUyODA4OF0sCiAgICAgICAgICAgICAgICB7fQogICAgICAgICAgICApLmFkZFRvKG1hcF8xNjU4NTI4YjVjMmI0ZDc4YTEzZDA2Yzg1MjNhMGNkNCk7CiAgICAgICAgCiAgICAKICAgICAgICAgICAgdmFyIG1hcmtlcl8zMWQzODY5ZWI0Njk0NTdlODcyNjJhMGNiYTg0OWQzMSA9IEwubWFya2VyKAogICAgICAgICAgICAgICAgWzQ1LjcyOTY4MTg5OTk5OTk5NiwgNC44NTMzOTA5MDAwMDAwMDFdLAogICAgICAgICAgICAgICAge30KICAgICAgICAgICAgKS5hZGRUbyhtYXBfMTY1ODUyOGI1YzJiNGQ3OGExM2QwNmM4NTIzYTBjZDQpOwogICAgICAgIAogICAgCiAgICAgICAgICAgIHZhciBtYXJrZXJfMDI2MDc4MWMyYzcyNDk2NGJlZTI2YzY4ZjFlODc3YjcgPSBMLm1hcmtlcigKICAgICAgICAgICAgICAgIFs0NS43MzU1NjQzLCA0Ljg3MDU5MjddLAogICAgICAgICAgICAgICAge30KICAgICAgICAgICAgKS5hZGRUbyhtYXBfMTY1ODUyOGI1YzJiNGQ3OGExM2QwNmM4NTIzYTBjZDQpOwogICAgICAgIAogICAgCiAgICAgICAgICAgIHZhciBtYXJrZXJfYTRiYTUzMTY1ZGIwNDIzYTkxMDU3MGY0ODllNWQzYjQgPSBMLm1hcmtlcigKICAgICAgICAgICAgICAgIFs0NS43MjgxNzkxMDAwMDAwMDYsIDQuNzc5MTgwOV0sCiAgICAgICAgICAgICAgICB7fQogICAgICAgICAgICApLmFkZFRvKG1hcF8xNjU4NTI4YjVjMmI0ZDc4YTEzZDA2Yzg1MjNhMGNkNCk7CiAgICAgICAgCiAgICAKICAgICAgICAgICAgdmFyIG1hcmtlcl8zMTNkYmRlZTgyMzI0Yjk3OWQwYWQ2Y2E2YmRlM2FjZiA9IEwubWFya2VyKAogICAgICAgICAgICAgICAgWzQ1Ljc0NzMzMjYsIDQuNzIzMDE4NF0sCiAgICAgICAgICAgICAgICB7fQogICAgICAgICAgICApLmFkZFRvKG1hcF8xNjU4NTI4YjVjMmI0ZDc4YTEzZDA2Yzg1MjNhMGNkNCk7CiAgICAgICAgCiAgICAKICAgICAgICAgICAgdmFyIG1hcmtlcl82MjNhOWM3ZDFkNzQ0Y2Y0OWVkYzc3NzBkZmI2OWJlNCA9IEwubWFya2VyKAogICAgICAgICAgICAgICAgWzQ1Ljc0MTUzOTQsIDQuNzExNDQ5OF0sCiAgICAgICAgICAgICAgICB7fQogICAgICAgICAgICApLmFkZFRvKG1hcF8xNjU4NTI4YjVjMmI0ZDc4YTEzZDA2Yzg1MjNhMGNkNCk7CiAgICAgICAgCiAgICAKICAgICAgICAgICAgdmFyIG1hcmtlcl9kZmVlZWZhYWFjZjg0NzBjYjhlZDdmYTE5MTE5NTljYiA9IEwubWFya2VyKAogICAgICAgICAgICAgICAgWzQ1Ljc0MTUzOTQsIDQuNzExNDQ5OF0sCiAgICAgICAgICAgICAgICB7fQogICAgICAgICAgICApLmFkZFRvKG1hcF8xNjU4NTI4YjVjMmI0ZDc4YTEzZDA2Yzg1MjNhMGNkNCk7CiAgICAgICAgCiAgICAKICAgICAgICAgICAgdmFyIG1hcmtlcl8zNmE4ZTEyOWRjNWI0ZTI4YjgzN2ZiMmE1ZWY1ZmRhOCA9IEwubWFya2VyKAogICAgICAgICAgICAgICAgWzQ1LjgyMTM3MzksIDQuNjYxNjcxN10sCiAgICAgICAgICAgICAgICB7fQogICAgICAgICAgICApLmFkZFRvKG1hcF8xNjU4NTI4YjVjMmI0ZDc4YTEzZDA2Yzg1MjNhMGNkNCk7CiAgICAgICAgCiAgICAKICAgICAgICAgICAgdmFyIG1hcmtlcl9hZGQ0ZTZkMGI5MDY0ODc1ODc4Nzg2YTdhYjc3MzRkYiA9IEwubWFya2VyKAogICAgICAgICAgICAgICAgWzQ1LjkwNDQ0NDcwMDAwMDAwNiwgNS4xNDE5NjA4XSwKICAgICAgICAgICAgICAgIHt9CiAgICAgICAgICAgICkuYWRkVG8obWFwXzE2NTg1MjhiNWMyYjRkNzhhMTNkMDZjODUyM2EwY2Q0KTsKICAgICAgICAKICAgIAogICAgICAgICAgICB2YXIgbWFya2VyXzQ0ZTE1ODE2MGFmMjRjM2FiNzEyMjM2MGY0MjY1ZDUyID0gTC5tYXJrZXIoCiAgICAgICAgICAgICAgICBbNDUuNTMwMDQ4OSwgNC42MTcwNjM3OTk5OTk5OTk1XSwKICAgICAgICAgICAgICAgIHt9CiAgICAgICAgICAgICkuYWRkVG8obWFwXzE2NTg1MjhiNWMyYjRkNzhhMTNkMDZjODUyM2EwY2Q0KTsKICAgICAgICAKICAgIAogICAgICAgICAgICB2YXIgbWFya2VyX2ZiMGZlNWE1YmE2ZjQzNDJhNDRkYzM0MmRhNzRiNjBiID0gTC5tYXJrZXIoCiAgICAgICAgICAgICAgICBbNDMuMzE0NzgzMSwgNS4zODkyODA0MDAwMDAwMDA1XSwKICAgICAgICAgICAgICAgIHt9CiAgICAgICAgICAgICkuYWRkVG8obWFwXzE2NTg1MjhiNWMyYjRkNzhhMTNkMDZjODUyM2EwY2Q0KTsKICAgICAgICAKICAgIAogICAgICAgICAgICB2YXIgbWFya2VyXzQ1ZjNjZWZkNzAyZDQ4N2RhM2EwMDhiMzZmOTU2Yjg1ID0gTC5tYXJrZXIoCiAgICAgICAgICAgICAgICBbNDMuMzI4Nzk1ODk5OTk5OTk2LCA1LjM1OTA1NDFdLAogICAgICAgICAgICAgICAge30KICAgICAgICAgICAgKS5hZGRUbyhtYXBfMTY1ODUyOGI1YzJiNGQ3OGExM2QwNmM4NTIzYTBjZDQpOwogICAgICAgIAogICAgCiAgICAgICAgICAgIHZhciBtYXJrZXJfMGRlZTZmMWJiZjQwNDliYmEzOWIzNWRiMTVlZjRlMWYgPSBMLm1hcmtlcigKICAgICAgICAgICAgICAgIFs0My4xMzgwNjg0LCA1LjkwNDg1NThdLAogICAgICAgICAgICAgICAge30KICAgICAgICAgICAgKS5hZGRUbyhtYXBfMTY1ODUyOGI1YzJiNGQ3OGExM2QwNmM4NTIzYTBjZDQpOwogICAgICAgIAogICAgCiAgICAgICAgICAgIHZhciBtYXJrZXJfN2U0ZTlhZTNhYzk5NGQ5Yjk1OGE4NGMwYjk4NDhlOWEgPSBMLm1hcmtlcigKICAgICAgICAgICAgICAgIFs0My4zMDA2ODY2MDAwMDAwMDYsIDUuMzgwNTI1OV0sCiAgICAgICAgICAgICAgICB7fQogICAgICAgICAgICApLmFkZFRvKG1hcF8xNjU4NTI4YjVjMmI0ZDc4YTEzZDA2Yzg1MjNhMGNkNCk7CiAgICAgICAgCiAgICAKICAgICAgICAgICAgdmFyIG1hcmtlcl8yNjQzMzJiYzZkNWY0OTBiOTQwZWVhNTM1ZTA1NjZlMSA9IEwubWFya2VyKAogICAgICAgICAgICAgICAgWzQzLjI4MjgwNTIwMDAwMDAwNiwgNS4zOTg2NDU0XSwKICAgICAgICAgICAgICAgIHt9CiAgICAgICAgICAgICkuYWRkVG8obWFwXzE2NTg1MjhiNWMyYjRkNzhhMTNkMDZjODUyM2EwY2Q0KTsKICAgICAgICAKICAgIAogICAgICAgICAgICB2YXIgbWFya2VyXzQ3MGUxNzNiZmVmNDQwOTI4NDgxZDI4NjIxODQxYzA3ID0gTC5tYXJrZXIoCiAgICAgICAgICAgICAgICBbNDMuMjg0MTQ2MSwgNS40NDQwNDk2XSwKICAgICAgICAgICAgICAgIHt9CiAgICAgICAgICAgICkuYWRkVG8obWFwXzE2NTg1MjhiNWMyYjRkNzhhMTNkMDZjODUyM2EwY2Q0KTsKICAgICAgICAKICAgIAogICAgICAgICAgICB2YXIgbWFya2VyX2FlN2U3NWQxYjIxYzQ4MzNhZTU1MWNkOWU2MDU2NzM1ID0gTC5tYXJrZXIoCiAgICAgICAgICAgICAgICBbNDMuMTQwMDI0NjAwMDAwMDA0LCA1Ljc0Nzc4NzZdLAogICAgICAgICAgICAgICAge30KICAgICAgICAgICAgKS5hZGRUbyhtYXBfMTY1ODUyOGI1YzJiNGQ3OGExM2QwNmM4NTIzYTBjZDQpOwogICAgICAgIAogICAgCiAgICAgICAgICAgIHZhciBtYXJrZXJfN2VlNjQ3Yjk2OGQzNGUzYThhMmZmMTJiYmJjZWE0ZWYgPSBMLm1hcmtlcigKICAgICAgICAgICAgICAgIFs0My41NzM0MDgyLCAxLjQwNzU1Mzg5NDUzODI5MTVdLAogICAgICAgICAgICAgICAge30KICAgICAgICAgICAgKS5hZGRUbyhtYXBfMTY1ODUyOGI1YzJiNGQ3OGExM2QwNmM4NTIzYTBjZDQpOwogICAgICAgIAogICAgCiAgICAgICAgICAgIHZhciBtYXJrZXJfNjE5Y2ZkYjk0MTZhNDQxODkyZjg0MDkxYTQ0YTMyYTIgPSBMLm1hcmtlcigKICAgICAgICAgICAgICAgIFs0My42MzA0NzY0LCAxLjQ1NDMxNTg5OTk5OTk5OTldLAogICAgICAgICAgICAgICAge30KICAgICAgICAgICAgKS5hZGRUbyhtYXBfMTY1ODUyOGI1YzJiNGQ3OGExM2QwNmM4NTIzYTBjZDQpOwogICAgICAgIAogICAgCiAgICAgICAgICAgIHZhciBtYXJrZXJfNTBlMTQxOGZhZDA5NGNjNmFkYzIwNzQ2MWYzNjg1OTggPSBMLm1hcmtlcigKICAgICAgICAgICAgICAgIFs0My42MDgxNjQxLCAxLjI2NjkxMTddLAogICAgICAgICAgICAgICAge30KICAgICAgICAgICAgKS5hZGRUbyhtYXBfMTY1ODUyOGI1YzJiNGQ3OGExM2QwNmM4NTIzYTBjZDQpOwogICAgICAgIAogICAgCiAgICAgICAgICAgIHZhciBtYXJrZXJfZGUyNWU2NGYxMzdiNDFjMDgwNDI4ZDBkZTQ5NzY4NTcgPSBMLm1hcmtlcigKICAgICAgICAgICAgICAgIFs0My41NjU1MzEyOTk5OTk5OTYsIDEuNjI0NDc1ODk5OTk5OTk5OF0sCiAgICAgICAgICAgICAgICB7fQogICAgICAgICAgICApLmFkZFRvKG1hcF8xNjU4NTI4YjVjMmI0ZDc4YTEzZDA2Yzg1MjNhMGNkNCk7CiAgICAgICAgCiAgICAKICAgICAgICAgICAgdmFyIG1hcmtlcl8yMTdiYjk5NzA1Yzg0ODc1OTE4MGZjNmJkN2I2NDYwMiA9IEwubWFya2VyKAogICAgICAgICAgICAgICAgWzQzLjU0NzU1NDQsIDEuNjE4ODc3MDAwMDAwMDAwMV0sCiAgICAgICAgICAgICAgICB7fQogICAgICAgICAgICApLmFkZFRvKG1hcF8xNjU4NTI4YjVjMmI0ZDc4YTEzZDA2Yzg1MjNhMGNkNCk7CiAgICAgICAgCiAgICAKICAgICAgICAgICAgdmFyIG1hcmtlcl8zMTRmY2M3MzJiMGU0MGI5YTAzODBlNDNkZDEzMTVjYiA9IEwubWFya2VyKAogICAgICAgICAgICAgICAgWzQ0Ljg4ODIzNTgsIC0wLjYwNDE2ODMwMDAwMDAwMDFdLAogICAgICAgICAgICAgICAge30KICAgICAgICAgICAgKS5hZGRUbyhtYXBfMTY1ODUyOGI1YzJiNGQ3OGExM2QwNmM4NTIzYTBjZDQpOwogICAgICAgIAogICAgCiAgICAgICAgICAgIHZhciBtYXJrZXJfZjg0NzUwZjJhZjI4NDA2ODljMzQzNjc3ZDUyYzEyNzUgPSBMLm1hcmtlcigKICAgICAgICAgICAgICAgIFs0NC44Njk5MTY3MDAwMDAwMDUsIC0wLjU0NzU1NjZdLAogICAgICAgICAgICAgICAge30KICAgICAgICAgICAgKS5hZGRUbyhtYXBfMTY1ODUyOGI1YzJiNGQ3OGExM2QwNmM4NTIzYTBjZDQpOwogICAgICAgIAogICAgCiAgICAgICAgICAgIHZhciBtYXJrZXJfMTczOWNiYzBkYjI1NGE3ZWFjYzg1ZWRhODJjYzU2NWUgPSBMLm1hcmtlcigKICAgICAgICAgICAgICAgIFs0NC44Njc2MjgxMDAwMDAwMDUsIC0wLjU4NDEzNTZdLAogICAgICAgICAgICAgICAge30KICAgICAgICAgICAgKS5hZGRUbyhtYXBfMTY1ODUyOGI1YzJiNGQ3OGExM2QwNmM4NTIzYTBjZDQpOwogICAgICAgIAogICAgCiAgICAgICAgICAgIHZhciBtYXJrZXJfMjA1MTU3ODEyNTZmNDA1Nzg2OTIxZmY1YzkwMWIxYmYgPSBMLm1hcmtlcigKICAgICAgICAgICAgICAgIFs0NC44NTc3NzE2LCAtMC41MzU4OTkxOTk5OTk5OTk5XSwKICAgICAgICAgICAgICAgIHt9CiAgICAgICAgICAgICkuYWRkVG8obWFwXzE2NTg1MjhiNWMyYjRkNzhhMTNkMDZjODUyM2EwY2Q0KTsKICAgICAgICAKICAgIAogICAgICAgICAgICB2YXIgbWFya2VyXzNkNzcwNmFiYmMwNDQzMjI4NTYyZjNjMmQ4YjgzZDljID0gTC5tYXJrZXIoCiAgICAgICAgICAgICAgICBbNDQuOTQyODczOTk5OTk5OTk2LCAtMC41MzYwNjA2XSwKICAgICAgICAgICAgICAgIHt9CiAgICAgICAgICAgICkuYWRkVG8obWFwXzE2NTg1MjhiNWMyYjRkNzhhMTNkMDZjODUyM2EwY2Q0KTsKICAgICAgICAKICAgIAogICAgICAgICAgICB2YXIgbWFya2VyX2MxODZjNTk0NDBhNzRkZmQ5MjA4Y2U3YzBlN2FhNTI2ID0gTC5tYXJrZXIoCiAgICAgICAgICAgICAgICBbNDQuOTExMzAxNCwgLTAuNzI2MTcxMTk5OTk5OTk5OV0sCiAgICAgICAgICAgICAgICB7fQogICAgICAgICAgICApLmFkZFRvKG1hcF8xNjU4NTI4YjVjMmI0ZDc4YTEzZDA2Yzg1MjNhMGNkNCk7CiAgICAgICAgCiAgICAKICAgICAgICAgICAgdmFyIG1hcmtlcl84MTAwMzIyZGUwNjY0Y2ZhOWRjYmM3MTk2MmM0MTY4YSA9IEwubWFya2VyKAogICAgICAgICAgICAgICAgWzQzLjcwNjU5MjIsIDcuMjg1MTc3M10sCiAgICAgICAgICAgICAgICB7fQogICAgICAgICAgICApLmFkZFRvKG1hcF8xNjU4NTI4YjVjMmI0ZDc4YTEzZDA2Yzg1MjNhMGNkNCk7CiAgICAgICAgCiAgICAKICAgICAgICAgICAgdmFyIG1hcmtlcl9iM2ZkZGU2NzAwZmY0YTUzOWViNmQzNGZjZmMwZmRlMCA9IEwubWFya2VyKAogICAgICAgICAgICAgICAgWzQzLjY5MjkzMjUsIDcuMjQyMTU2NTk5OTk5OTk5NV0sCiAgICAgICAgICAgICAgICB7fQogICAgICAgICAgICApLmFkZFRvKG1hcF8xNjU4NTI4YjVjMmI0ZDc4YTEzZDA2Yzg1MjNhMGNkNCk7CiAgICAgICAgCiAgICAKICAgICAgICAgICAgdmFyIG1hcmtlcl9hNGVlZGQ4NzM4NTA0ZjNiODczMWFmMzRkOTUwYzA3YyA9IEwubWFya2VyKAogICAgICAgICAgICAgICAgWzUwLjYxMTc1NDksIDMuMTAyOTIyN10sCiAgICAgICAgICAgICAgICB7fQogICAgICAgICAgICApLmFkZFRvKG1hcF8xNjU4NTI4YjVjMmI0ZDc4YTEzZDA2Yzg1MjNhMGNkNCk7CiAgICAgICAgCiAgICAKICAgICAgICAgICAgdmFyIG1hcmtlcl84ZjhjNGYzNzg0Mzg0ZWNkOGQzZGQzZDgwYzBjYzdkMyA9IEwubWFya2VyKAogICAgICAgICAgICAgICAgWzUwLjY1MzQxNCwgMy4xMTU3ODA0MDAwMDAwMDAyXSwKICAgICAgICAgICAgICAgIHt9CiAgICAgICAgICAgICkuYWRkVG8obWFwXzE2NTg1MjhiNWMyYjRkNzhhMTNkMDZjODUyM2EwY2Q0KTsKICAgICAgICAKICAgIAogICAgICAgICAgICB2YXIgbWFya2VyX2I2N2MxZGFhMmFhODRhNjlhODljNWE2ZGQ4MGZiMmI0ID0gTC5tYXJrZXIoCiAgICAgICAgICAgICAgICBbNTAuNjM4NDE3LCAzLjA2ODcwNjRdLAogICAgICAgICAgICAgICAge30KICAgICAgICAgICAgKS5hZGRUbyhtYXBfMTY1ODUyOGI1YzJiNGQ3OGExM2QwNmM4NTIzYTBjZDQpOwogICAgICAgIAogICAgCiAgICAgICAgICAgIHZhciBtYXJrZXJfN2YxN2Q1M2Y3ODY5NDE5ZGE1OGQ2OTYyNmJjNmUzOGQgPSBMLm1hcmtlcigKICAgICAgICAgICAgICAgIFs1MC42NTE5OTg1LCAzLjA4ODU5MDldLAogICAgICAgICAgICAgICAge30KICAgICAgICAgICAgKS5hZGRUbyhtYXBfMTY1ODUyOGI1YzJiNGQ3OGExM2QwNmM4NTIzYTBjZDQpOwogICAgICAgIAogICAgCiAgICAgICAgICAgIHZhciBtYXJrZXJfNDk2M2E0ZDYwMTgwNDM1MWE1YzdiMDVmNjg2Y2ZhMGUgPSBMLm1hcmtlcigKICAgICAgICAgICAgICAgIFs1MC42MTgyMjg3LCAyLjkwOTAyOTM5OTk5OTk5OTddLAogICAgICAgICAgICAgICAge30KICAgICAgICAgICAgKS5hZGRUbyhtYXBfMTY1ODUyOGI1YzJiNGQ3OGExM2QwNmM4NTIzYTBjZDQpOwogICAgICAgIAogICAgCiAgICAgICAgICAgIHZhciBtYXJrZXJfNzYxNzk5MWUyZjU2NGNhYTk4MjlmNDY4OTk5MDJhOGQgPSBMLm1hcmtlcigKICAgICAgICAgICAgICAgIFs1MC43MjExNjYsIDMuMTc0ODg0NV0sCiAgICAgICAgICAgICAgICB7fQogICAgICAgICAgICApLmFkZFRvKG1hcF8xNjU4NTI4YjVjMmI0ZDc4YTEzZDA2Yzg1MjNhMGNkNCk7CiAgICAgICAgCiAgICAKICAgICAgICAgICAgdmFyIG1hcmtlcl9hZDAzOWViZWFmMzc0ZGNjYjUxZDE1OWZjMzllNTFlNCA9IEwubWFya2VyKAogICAgICAgICAgICAgICAgWzUwLjUzODIyNTEsIDIuODEwMzQzNF0sCiAgICAgICAgICAgICAgICB7fQogICAgICAgICAgICApLmFkZFRvKG1hcF8xNjU4NTI4YjVjMmI0ZDc4YTEzZDA2Yzg1MjNhMGNkNCk7CiAgICAgICAgCiAgICAKICAgICAgICAgICAgdmFyIG1hcmtlcl83MzY4MWQxYzYyMzE0YzAxOGM2YjEyZmY2NTIwMzJiNiA9IEwubWFya2VyKAogICAgICAgICAgICAgICAgWzUwLjM2MDg5NTUwMDAwMDAwNSwgMy4wODA4MDIzOTk5OTk5OTk2XSwKICAgICAgICAgICAgICAgIHt9CiAgICAgICAgICAgICkuYWRkVG8obWFwXzE2NTg1MjhiNWMyYjRkNzhhMTNkMDZjODUyM2EwY2Q0KTsKICAgICAgICAKICAgIAogICAgICAgICAgICB2YXIgbWFya2VyX2JmM2I3OWI2YjNjMjRlY2FiOGIzNjliYTEyOThhZGE5ID0gTC5tYXJrZXIoCiAgICAgICAgICAgICAgICBbNTAuMjkxNDM0OCwgMi43NzkyOTc3OTk5OTk5OTk3XSwKICAgICAgICAgICAgICAgIHt9CiAgICAgICAgICAgICkuYWRkVG8obWFwXzE2NTg1MjhiNWMyYjRkNzhhMTNkMDZjODUyM2EwY2Q0KTsKICAgICAgICAKICAgIAogICAgICAgICAgICB2YXIgbWFya2VyX2RmMjJmZGNiNDFmODQ5NzJhYTI4YjY2ZDE0M2U4ZGVmID0gTC5tYXJrZXIoCiAgICAgICAgICAgICAgICBbNDcuMjYwNzU2NiwgLTEuNDk5NTcxM10sCiAgICAgICAgICAgICAgICB7fQogICAgICAgICAgICApLmFkZFRvKG1hcF8xNjU4NTI4YjVjMmI0ZDc4YTEzZDA2Yzg1MjNhMGNkNCk7CiAgICAgICAgCiAgICAKICAgICAgICAgICAgdmFyIG1hcmtlcl8yODI1NWMzNzE2OTE0MTY0YTJlZTA0NWZlMTE3MzE0ZSA9IEwubWFya2VyKAogICAgICAgICAgICAgICAgWzQ3LjM3MzEzNjIwMDAwMDAwNSwgLTEuMTkxNjI0ODk5OTk5OTk5OV0sCiAgICAgICAgICAgICAgICB7fQogICAgICAgICAgICApLmFkZFRvKG1hcF8xNjU4NTI4YjVjMmI0ZDc4YTEzZDA2Yzg1MjNhMGNkNCk7CiAgICAgICAgCiAgICAKICAgICAgICAgICAgdmFyIG1hcmtlcl80ZWQzOGE1Y2FjM2M0NDI1YmQ2M2Q1NzhmYjc5NzYwYyA9IEwubWFya2VyKAogICAgICAgICAgICAgICAgWzQ3LjMyNjU0NTUsIC0yLjEzMTMxMjRdLAogICAgICAgICAgICAgICAge30KICAgICAgICAgICAgKS5hZGRUbyhtYXBfMTY1ODUyOGI1YzJiNGQ3OGExM2QwNmM4NTIzYTBjZDQpOwogICAgICAgIAogICAgCiAgICAgICAgICAgIHZhciBtYXJrZXJfMmQxMjVkNmViOGRiNGE1OGE2N2YzMTNjYjVhMzIyNDcgPSBMLm1hcmtlcigKICAgICAgICAgICAgICAgIFs0Ny4xMjQ2NzMzLCAtMS41OTkzNDk2OTk5OTk5OTk5XSwKICAgICAgICAgICAgICAgIHt9CiAgICAgICAgICAgICkuYWRkVG8obWFwXzE2NTg1MjhiNWMyYjRkNzhhMTNkMDZjODUyM2EwY2Q0KTsKICAgICAgICAKICAgIAogICAgICAgICAgICB2YXIgbWFya2VyXzBlMzVmZDNiNDMzMTRkZTRiM2EzYTczNjAzODI0MTZjID0gTC5tYXJrZXIoCiAgICAgICAgICAgICAgICBbNDMuNTg1NjYxNSwgMy44NzgzMjYyXSwKICAgICAgICAgICAgICAgIHt9CiAgICAgICAgICAgICkuYWRkVG8obWFwXzE2NTg1MjhiNWMyYjRkNzhhMTNkMDZjODUyM2EwY2Q0KTsKICAgICAgICAKICAgIAogICAgICAgICAgICB2YXIgbWFya2VyXzkyNzIwZmYxMDk0NjRkNzBiZGViZDg2YWQwMjY2YjBmID0gTC5tYXJrZXIoCiAgICAgICAgICAgICAgICBbNDMuNjI2OTI5Nzk5OTk5OTksIDMuODcwNjgzMl0sCiAgICAgICAgICAgICAgICB7fQogICAgICAgICAgICApLmFkZFRvKG1hcF8xNjU4NTI4YjVjMmI0ZDc4YTEzZDA2Yzg1MjNhMGNkNCk7CiAgICAgICAgCiAgICAKICAgICAgICAgICAgdmFyIG1hcmtlcl85N2NjZjQ5MjFhYmQ0ZGE2OTBjMDNiZTk2ZGJmMWU2MyA9IEwubWFya2VyKAogICAgICAgICAgICAgICAgWzQzLjYxMDIwMDUsIDMuODUyNzMyNDk5OTk5OTk5N10sCiAgICAgICAgICAgICAgICB7fQogICAgICAgICAgICApLmFkZFRvKG1hcF8xNjU4NTI4YjVjMmI0ZDc4YTEzZDA2Yzg1MjNhMGNkNCk7CiAgICAgICAgCiAgICAKICAgICAgICAgICAgdmFyIG1hcmtlcl8wNjU4NmMzZmIxZDE0MTE0OWJhNmQ4MzA3MThmMzRjYiA9IEwubWFya2VyKAogICAgICAgICAgICAgICAgWzQzLjU5NTUyOTIsIDMuODg3ODQ2NzAwMDAwMDAwM10sCiAgICAgICAgICAgICAgICB7fQogICAgICAgICAgICApLmFkZFRvKG1hcF8xNjU4NTI4YjVjMmI0ZDc4YTEzZDA2Yzg1MjNhMGNkNCk7CiAgICAgICAgCiAgICAKICAgICAgICAgICAgdmFyIG1hcmtlcl8xNjBkNWI3OGRiYmE0YzI2YjUyODA3YmI0ZmEyZmRmNCA9IEwubWFya2VyKAogICAgICAgICAgICAgICAgWzQzLjU5MjQxMSwgMy44Nzk3ODg3XSwKICAgICAgICAgICAgICAgIHt9CiAgICAgICAgICAgICkuYWRkVG8obWFwXzE2NTg1MjhiNWMyYjRkNzhhMTNkMDZjODUyM2EwY2Q0KTsKICAgICAgICAKICAgIAogICAgICAgICAgICB2YXIgbWFya2VyXzQ4NzYxZTMxZWI0YjQxOTlhM2I4NTVkY2RjYjlkZmYyID0gTC5tYXJrZXIoCiAgICAgICAgICAgICAgICBbNDMuNjA5Njc4NDk5OTk5OTk0LCAzLjkwMzMzMzNdLAogICAgICAgICAgICAgICAge30KICAgICAgICAgICAgKS5hZGRUbyhtYXBfMTY1ODUyOGI1YzJiNGQ3OGExM2QwNmM4NTIzYTBjZDQpOwogICAgICAgIAogICAgCiAgICAgICAgICAgIHZhciBtYXJrZXJfZmNhYWJjNjI5OGI5NGZjNzkyMTVjMDBjZGM0MWVmZWYgPSBMLm1hcmtlcigKICAgICAgICAgICAgICAgIFs0My42MTM3MTk4LCAzLjgzOTIxOTVdLAogICAgICAgICAgICAgICAge30KICAgICAgICAgICAgKS5hZGRUbyhtYXBfMTY1ODUyOGI1YzJiNGQ3OGExM2QwNmM4NTIzYTBjZDQpOwogICAgICAgIAogICAgCiAgICAgICAgICAgIHZhciBtYXJrZXJfZGRiNjkxNTg1ZWRhNDQ3MmI1MjhmZWI4MTZiN2FjNDggPSBMLm1hcmtlcigKICAgICAgICAgICAgICAgIFs0My41OTEwODU3LCAzLjg0NTQxMDZdLAogICAgICAgICAgICAgICAge30KICAgICAgICAgICAgKS5hZGRUbyhtYXBfMTY1ODUyOGI1YzJiNGQ3OGExM2QwNmM4NTIzYTBjZDQpOwogICAgICAgIAogICAgCiAgICAgICAgICAgIHZhciBtYXJrZXJfYmZjNjBkMzdhYTE5NGJjNzgyYWUzMTBiMWQzZWY5ODkgPSBMLm1hcmtlcigKICAgICAgICAgICAgICAgIFs0My42MTI4MDA0LCAzLjgyOTgxMjJdLAogICAgICAgICAgICAgICAge30KICAgICAgICAgICAgKS5hZGRUbyhtYXBfMTY1ODUyOGI1YzJiNGQ3OGExM2QwNmM4NTIzYTBjZDQpOwogICAgICAgIAogICAgCiAgICAgICAgICAgIHZhciBtYXJrZXJfODA2ODEzMWJhYjczNGIwMGE1M2E1NzRmMmFlYWJjMTUgPSBMLm1hcmtlcigKICAgICAgICAgICAgICAgIFs0My41NzE5MTE0LCAzLjkwNDMyODhdLAogICAgICAgICAgICAgICAge30KICAgICAgICAgICAgKS5hZGRUbyhtYXBfMTY1ODUyOGI1YzJiNGQ3OGExM2QwNmM4NTIzYTBjZDQpOwogICAgICAgIAogICAgCiAgICAgICAgICAgIHZhciBtYXJrZXJfODIzM2E0YjJkOTY0NDQyMDlhOWQ5MjY3MDE0OTE3YmMgPSBMLm1hcmtlcigKICAgICAgICAgICAgICAgIFs0My41OTI1MzgyOTk5OTk5OTQsIDMuNzY3MDkyXSwKICAgICAgICAgICAgICAgIHt9CiAgICAgICAgICAgICkuYWRkVG8obWFwXzE2NTg1MjhiNWMyYjRkNzhhMTNkMDZjODUyM2EwY2Q0KTsKICAgICAgICAKICAgIAogICAgICAgICAgICB2YXIgbWFya2VyXzYzYWQ1NWNjOTQ5NDQ1M2RiMThhMDA3MmQ0MjE5NjQzID0gTC5tYXJrZXIoCiAgICAgICAgICAgICAgICBbNDMuODM3MTM4NzAwMDAwMDA0LCA0LjM2OTQ4NjFdLAogICAgICAgICAgICAgICAge30KICAgICAgICAgICAgKS5hZGRUbyhtYXBfMTY1ODUyOGI1YzJiNGQ3OGExM2QwNmM4NTIzYTBjZDQpOwogICAgICAgIAo8L3NjcmlwdD4= onload=\"this.contentDocument.open();this.contentDocument.write(atob(this.getAttribute('data-html')));this.contentDocument.close();\" allowfullscreen webkitallowfullscreen mozallowfullscreen></iframe></div></div>"
      ],
      "text/plain": [
       "<folium.folium.Map at 0x7f6ee9e3f198>"
      ]
     },
     "execution_count": 98,
     "metadata": {},
     "output_type": "execute_result"
    }
   ],
   "source": [
    "# Create a map centered at the given latitude and longitud\n",
    "waterfront_map = folium.Map(location=[46.2276382, 2.2137489],\n",
    "                        zoom_start=6,\n",
    "                           tiles='openstreetmap')\n",
    "\n",
    "# Plot the different coordonate values on the maps\n",
    "for i in df2.index:\n",
    "    lat=df2.latitude[i]\n",
    "    long=df2.longitude[i]\n",
    "    marker = folium.Marker([lat, long]).add_to(waterfront_map)\n",
    "waterfront_map "
   ]
  },
  {
   "cell_type": "markdown",
   "metadata": {},
   "source": [
    "#  venues"
   ]
  },
  {
   "cell_type": "markdown",
   "metadata": {},
   "source": [
    "##  venues Scraping"
   ]
  },
  {
   "cell_type": "code",
   "execution_count": null,
   "metadata": {},
   "outputs": [],
   "source": [
    "LIMIT = 10\n",
    "radius = 500\n",
    "CLIENT_ID = '3WGIGW2JP1DAQABSATJENRP25A3THDBEC303QEHM0KPKGKMT'     # your Foursquare ID\n",
    "CLIENT_SECRET = 'RCOBC0XDX30OHNM402UL5AXMRGHCXZML042LJ2EEERQSRIFW' # your Foursquare Secret\n",
    "VERSION = '20180605' # Version declaration \n",
    "latitudes =  df2['latitude']\n",
    "longitudes = df2['longitude']\n",
    "nearby_venues_Lim10etrad500=[]\n",
    "venues_list = []\n",
    "name = []\n",
    "\n",
    "# Make a request from Foursquare to get the\n",
    "for lat, lng in zip(latitudes,longitudes):\n",
    "    url = 'https://api.foursquare.com/v2/venues/explore?&client_id={}&client_secret={}&v={}&ll={},{}&radius={}&limit={}'.format(\n",
    "        CLIENT_ID, \n",
    "        CLIENT_SECRET, \n",
    "        VERSION, \n",
    "        lat, \n",
    "        lng, \n",
    "        radius, \n",
    "        LIMIT)\n",
    "    url\n",
    "    results = requests.get(url).json()[\"response\"]['groups'][0]['items']\n",
    "    for v in results:\n",
    "# return only relevant information for each nearby venue\n",
    "        venues_list.append([(\n",
    "            name, \n",
    "            lat, \n",
    "            lng, \n",
    "            v['venue']['name'], \n",
    "            v['venue']['location']['lat'], \n",
    "            v['venue']['location']['lng'],  \n",
    "            v['venue']['categories'][0]['name'])]) \n",
    "\n",
    "        nearby_venues_Lim10etrad500 = pd.DataFrame([item for venue_list in venues_list for item in venue_list])\n",
    "        nearby_venues_Lim10etrad500.columns = ['Neighborhood',\n",
    "                                 'Neighborhood Latitude',\n",
    "                                 'Neighborhood Longitude',\n",
    "                                 'Venue', \n",
    "                                 'Venue Latitude',\n",
    "                                 'Venue Longitude', \n",
    "                                 'Venue Category']"
   ]
  },
  {
   "cell_type": "code",
   "execution_count": null,
   "metadata": {},
   "outputs": [],
   "source": [
    "#Store scraping data \n",
    "nearby_venues_Lim10etrad500.columns.to_csv('venuescraping.csv')"
   ]
  },
  {
   "cell_type": "markdown",
   "metadata": {},
   "source": [
    "### Call the venue dataframe and format it "
   ]
  },
  {
   "cell_type": "code",
   "execution_count": 127,
   "metadata": {},
   "outputs": [
    {
     "data": {
      "text/html": [
       "<div>\n",
       "<style scoped>\n",
       "    .dataframe tbody tr th:only-of-type {\n",
       "        vertical-align: middle;\n",
       "    }\n",
       "\n",
       "    .dataframe tbody tr th {\n",
       "        vertical-align: top;\n",
       "    }\n",
       "\n",
       "    .dataframe thead th {\n",
       "        text-align: right;\n",
       "    }\n",
       "</style>\n",
       "<table border=\"1\" class=\"dataframe\">\n",
       "  <thead>\n",
       "    <tr style=\"text-align: right;\">\n",
       "      <th></th>\n",
       "      <th>HomeboxYesandNo</th>\n",
       "      <th>latitude</th>\n",
       "      <th>longitude</th>\n",
       "      <th>Venue</th>\n",
       "      <th>Venue Latitude</th>\n",
       "      <th>Venue Longitude</th>\n",
       "      <th>Venue Category</th>\n",
       "    </tr>\n",
       "  </thead>\n",
       "  <tbody>\n",
       "    <tr>\n",
       "      <th>0</th>\n",
       "      <td>Homebox</td>\n",
       "      <td>48.874285</td>\n",
       "      <td>2.284862</td>\n",
       "      <td>Le Petit Pergolèse</td>\n",
       "      <td>48.874472</td>\n",
       "      <td>2.282857</td>\n",
       "      <td>French Restaurant</td>\n",
       "    </tr>\n",
       "    <tr>\n",
       "      <th>1</th>\n",
       "      <td>Homebox</td>\n",
       "      <td>48.874285</td>\n",
       "      <td>2.284862</td>\n",
       "      <td>Ban Sabai</td>\n",
       "      <td>48.874426</td>\n",
       "      <td>2.284837</td>\n",
       "      <td>Massage Studio</td>\n",
       "    </tr>\n",
       "  </tbody>\n",
       "</table>\n",
       "</div>"
      ],
      "text/plain": [
       "  HomeboxYesandNo   latitude  longitude               Venue  Venue Latitude  \\\n",
       "0        Homebox   48.874285   2.284862  Le Petit Pergolèse       48.874472   \n",
       "1        Homebox   48.874285   2.284862           Ban Sabai       48.874426   \n",
       "\n",
       "   Venue Longitude     Venue Category  \n",
       "0         2.282857  French Restaurant  \n",
       "1         2.284837     Massage Studio  "
      ]
     },
     "execution_count": 127,
     "metadata": {},
     "output_type": "execute_result"
    }
   ],
   "source": [
    "# Call the Dataframe \n",
    "dfCorrespondanceInseeetPosta=pd.read_csv('venuescraping.csv')\n",
    "\n",
    "#C get unique element dased on the Venue Longitude\n",
    "dfCorrespondanceInseeetPosta = dfCorrespondanceInseeetPosta.drop_duplicates(subset='Venue Latitude', keep=\"first\")\n",
    "\n",
    "# Drop the Unnamed: 0 Coll from the dataframe\n",
    "dfCorrespondanceInseeetPosta=dfCorrespondanceInseeetPosta.drop(['Unnamed: 0'], axis=1 )\n",
    "dfCorrespondanceInseeetPosta[:2]"
   ]
  },
  {
   "cell_type": "code",
   "execution_count": 128,
   "metadata": {},
   "outputs": [
    {
     "data": {
      "text/plain": [
       "(898, 7)"
      ]
     },
     "execution_count": 128,
     "metadata": {},
     "output_type": "execute_result"
    }
   ],
   "source": [
    "#Print shape of the Dataframe dfCorrespondanceInseeetPosta\n",
    "dfCorrespondanceInseeetPosta.shape"
   ]
  },
  {
   "cell_type": "code",
   "execution_count": 158,
   "metadata": {},
   "outputs": [
    {
     "data": {
      "text/html": [
       "<div>\n",
       "<style scoped>\n",
       "    .dataframe tbody tr th:only-of-type {\n",
       "        vertical-align: middle;\n",
       "    }\n",
       "\n",
       "    .dataframe tbody tr th {\n",
       "        vertical-align: top;\n",
       "    }\n",
       "\n",
       "    .dataframe thead th {\n",
       "        text-align: right;\n",
       "    }\n",
       "</style>\n",
       "<table border=\"1\" class=\"dataframe\">\n",
       "  <thead>\n",
       "    <tr style=\"text-align: right;\">\n",
       "      <th></th>\n",
       "      <th>Postalcode</th>\n",
       "      <th>Code Postal</th>\n",
       "      <th>Venue</th>\n",
       "      <th>Venue Category</th>\n",
       "      <th>Venue Latitude</th>\n",
       "      <th>Venue Longitude</th>\n",
       "      <th>HomeboxYesandNo</th>\n",
       "    </tr>\n",
       "  </thead>\n",
       "  <tbody>\n",
       "    <tr>\n",
       "      <th>0</th>\n",
       "      <td>11 rue Piccini 75016 Paris</td>\n",
       "      <td>75016</td>\n",
       "      <td>Le Petit Pergolèse</td>\n",
       "      <td>French Restaurant</td>\n",
       "      <td>48.874472</td>\n",
       "      <td>2.282857</td>\n",
       "      <td>Homebox</td>\n",
       "    </tr>\n",
       "    <tr>\n",
       "      <th>1</th>\n",
       "      <td>11 rue Piccini 75016 Paris</td>\n",
       "      <td>75016</td>\n",
       "      <td>Ban Sabai</td>\n",
       "      <td>Massage Studio</td>\n",
       "      <td>48.874426</td>\n",
       "      <td>2.284837</td>\n",
       "      <td>Homebox</td>\n",
       "    </tr>\n",
       "  </tbody>\n",
       "</table>\n",
       "</div>"
      ],
      "text/plain": [
       "                    Postalcode  Code Postal               Venue  \\\n",
       "0   11 rue Piccini 75016 Paris        75016  Le Petit Pergolèse   \n",
       "1   11 rue Piccini 75016 Paris        75016           Ban Sabai   \n",
       "\n",
       "      Venue Category  Venue Latitude  Venue Longitude HomeboxYesandNo  \n",
       "0  French Restaurant       48.874472         2.282857        Homebox   \n",
       "1     Massage Studio       48.874426         2.284837        Homebox   "
      ]
     },
     "execution_count": 158,
     "metadata": {},
     "output_type": "execute_result"
    }
   ],
   "source": [
    "# Merge the data \"dfCorrespondanceInseeetPosta\" and df2 (homeboxlatitudeandlongitude) by the latitude ans \n",
    "dfmergeinsee = pd.merge(dfCorrespondanceInseeetPosta, df2, on=['longitude'], how='inner')\n",
    "\n",
    "# Create a new dataframe\n",
    "dfmergeinsee = dfmergeinsee[['Postalcode','Code Postal','Venue','Venue Category','Venue Latitude','Venue Longitude','HomeboxYesandNo']]\n",
    "dfmergeinsee[:2]"
   ]
  },
  {
   "cell_type": "code",
   "execution_count": 159,
   "metadata": {},
   "outputs": [],
   "source": [
    "# Store the data merge from dfCorrespondanceInseeetPosta and df2 in the same Dataframe\n",
    "dfmergeinsee.to_csv('dfmergeinseeFormater')"
   ]
  },
  {
   "cell_type": "code",
   "execution_count": 22,
   "metadata": {},
   "outputs": [
    {
     "data": {
      "text/plain": [
       "(774, 8)"
      ]
     },
     "execution_count": 22,
     "metadata": {},
     "output_type": "execute_result"
    }
   ],
   "source": [
    "#Call the pandas dataframe\n",
    "dfmergeinseeFormater=pd.read_csv('dfmergeinseeFormater')\n",
    "dfmergeinseeFormater.shape"
   ]
  },
  {
   "cell_type": "code",
   "execution_count": 23,
   "metadata": {},
   "outputs": [
    {
     "data": {
      "text/html": [
       "<div>\n",
       "<style scoped>\n",
       "    .dataframe tbody tr th:only-of-type {\n",
       "        vertical-align: middle;\n",
       "    }\n",
       "\n",
       "    .dataframe tbody tr th {\n",
       "        vertical-align: top;\n",
       "    }\n",
       "\n",
       "    .dataframe thead th {\n",
       "        text-align: right;\n",
       "    }\n",
       "</style>\n",
       "<table border=\"1\" class=\"dataframe\">\n",
       "  <thead>\n",
       "    <tr style=\"text-align: right;\">\n",
       "      <th></th>\n",
       "      <th>Unnamed: 0</th>\n",
       "      <th>Postalcode</th>\n",
       "      <th>CodePostal</th>\n",
       "      <th>Venue</th>\n",
       "      <th>Venue Category</th>\n",
       "      <th>Venue Latitude</th>\n",
       "      <th>Venue Longitude</th>\n",
       "      <th>HomeboxYesandNo</th>\n",
       "    </tr>\n",
       "  </thead>\n",
       "  <tbody>\n",
       "    <tr>\n",
       "      <th>0</th>\n",
       "      <td>0</td>\n",
       "      <td>11 rue Piccini 75016 Paris</td>\n",
       "      <td>75016</td>\n",
       "      <td>Le Petit Pergolèse</td>\n",
       "      <td>French Restaurant</td>\n",
       "      <td>48.874472</td>\n",
       "      <td>2.282857</td>\n",
       "      <td>Homebox</td>\n",
       "    </tr>\n",
       "    <tr>\n",
       "      <th>1</th>\n",
       "      <td>1</td>\n",
       "      <td>11 rue Piccini 75016 Paris</td>\n",
       "      <td>75016</td>\n",
       "      <td>Ban Sabai</td>\n",
       "      <td>Massage Studio</td>\n",
       "      <td>48.874426</td>\n",
       "      <td>2.284837</td>\n",
       "      <td>Homebox</td>\n",
       "    </tr>\n",
       "  </tbody>\n",
       "</table>\n",
       "</div>"
      ],
      "text/plain": [
       "   Unnamed: 0                   Postalcode  CodePostal               Venue  \\\n",
       "0           0   11 rue Piccini 75016 Paris       75016  Le Petit Pergolèse   \n",
       "1           1   11 rue Piccini 75016 Paris       75016           Ban Sabai   \n",
       "\n",
       "      Venue Category  Venue Latitude  Venue Longitude HomeboxYesandNo  \n",
       "0  French Restaurant       48.874472         2.282857        Homebox   \n",
       "1     Massage Studio       48.874426         2.284837        Homebox   "
      ]
     },
     "execution_count": 23,
     "metadata": {},
     "output_type": "execute_result"
    }
   ],
   "source": [
    "dfmergeinseeFormater[:2]"
   ]
  },
  {
   "cell_type": "markdown",
   "metadata": {},
   "source": [
    "## merge CodePostal from Foursquare venue and Code Postal_Insee.csv"
   ]
  },
  {
   "cell_type": "code",
   "execution_count": 106,
   "metadata": {},
   "outputs": [
    {
     "data": {
      "text/html": [
       "<div>\n",
       "<style scoped>\n",
       "    .dataframe tbody tr th:only-of-type {\n",
       "        vertical-align: middle;\n",
       "    }\n",
       "\n",
       "    .dataframe tbody tr th {\n",
       "        vertical-align: top;\n",
       "    }\n",
       "\n",
       "    .dataframe thead th {\n",
       "        text-align: right;\n",
       "    }\n",
       "</style>\n",
       "<table border=\"1\" class=\"dataframe\">\n",
       "  <thead>\n",
       "    <tr style=\"text-align: right;\">\n",
       "      <th></th>\n",
       "      <th>Unnamed: 0</th>\n",
       "      <th>CodePostal</th>\n",
       "      <th>Count_x</th>\n",
       "      <th>Unnamed: 0.1</th>\n",
       "      <th>Count_y</th>\n",
       "      <th>CodeInsee</th>\n",
       "      <th>Nom_commune</th>\n",
       "      <th>Ligne_5</th>\n",
       "      <th>Libellé_d_acheminement</th>\n",
       "      <th>Libell_d_acheminement</th>\n",
       "      <th>coordonnees_gps</th>\n",
       "      <th>Unnamed: 7</th>\n",
       "    </tr>\n",
       "  </thead>\n",
       "  <tbody>\n",
       "    <tr>\n",
       "      <th>0</th>\n",
       "      <td>0</td>\n",
       "      <td>75017</td>\n",
       "      <td>13</td>\n",
       "      <td>0</td>\n",
       "      <td>13</td>\n",
       "      <td>75117</td>\n",
       "      <td>PARIS 17</td>\n",
       "      <td>NaN</td>\n",
       "      <td>PARIS</td>\n",
       "      <td>PARIS</td>\n",
       "      <td>48.887337</td>\n",
       "      <td>2.307486</td>\n",
       "    </tr>\n",
       "    <tr>\n",
       "      <th>1</th>\n",
       "      <td>1</td>\n",
       "      <td>75014</td>\n",
       "      <td>9</td>\n",
       "      <td>1</td>\n",
       "      <td>9</td>\n",
       "      <td>75114</td>\n",
       "      <td>PARIS 14</td>\n",
       "      <td>NaN</td>\n",
       "      <td>PARIS</td>\n",
       "      <td>PARIS</td>\n",
       "      <td>48.828993</td>\n",
       "      <td>2.327101</td>\n",
       "    </tr>\n",
       "  </tbody>\n",
       "</table>\n",
       "</div>"
      ],
      "text/plain": [
       "   Unnamed: 0  CodePostal  Count_x  Unnamed: 0.1  Count_y  CodeInsee  \\\n",
       "0           0       75017       13             0       13      75117   \n",
       "1           1       75014        9             1        9      75114   \n",
       "\n",
       "  Nom_commune Ligne_5 Libellé_d_acheminement Libell_d_acheminement  \\\n",
       "0    PARIS 17     NaN                  PARIS                 PARIS   \n",
       "1    PARIS 14     NaN                  PARIS                 PARIS   \n",
       "\n",
       "   coordonnees_gps  Unnamed: 7  \n",
       "0        48.887337    2.307486  \n",
       "1        48.828993    2.327101  "
      ]
     },
     "execution_count": 106,
     "metadata": {},
     "output_type": "execute_result"
    }
   ],
   "source": [
    "# Call the dataframe ode Postal_Insee.csv\n",
    "df_CorrespondanceInseeetPostal=pd.read_csv('Code_Postal_Insee.csv')\n",
    "df_CorrespondanceInseeetPostal[:2]"
   ]
  },
  {
   "cell_type": "code",
   "execution_count": 14,
   "metadata": {},
   "outputs": [
    {
     "data": {
      "text/plain": [
       "(136, 12)"
      ]
     },
     "execution_count": 14,
     "metadata": {},
     "output_type": "execute_result"
    }
   ],
   "source": [
    "df_CorrespondanceInseeetPostal.shape"
   ]
  },
  {
   "cell_type": "code",
   "execution_count": 11,
   "metadata": {},
   "outputs": [
    {
     "data": {
      "text/plain": [
       "(39192, 8)"
      ]
     },
     "execution_count": 11,
     "metadata": {},
     "output_type": "execute_result"
    }
   ],
   "source": [
    "df_CorrespondanceInseeetPostal=pd.read_csv('laposte_hexasmal.csv')\n",
    "df_CorrespondanceInseeetPostal[:2]\n",
    "df_CorrespondanceInseeetPostal.shape"
   ]
  },
  {
   "cell_type": "code",
   "execution_count": 182,
   "metadata": {},
   "outputs": [
    {
     "data": {
      "text/plain": [
       "(39192, 8)"
      ]
     },
     "execution_count": 182,
     "metadata": {},
     "output_type": "execute_result"
    }
   ],
   "source": [
    "df_CorrespondanceInseeetPostal.shape"
   ]
  },
  {
   "cell_type": "code",
   "execution_count": 31,
   "metadata": {},
   "outputs": [
    {
     "data": {
      "text/html": [
       "<div>\n",
       "<style scoped>\n",
       "    .dataframe tbody tr th:only-of-type {\n",
       "        vertical-align: middle;\n",
       "    }\n",
       "\n",
       "    .dataframe tbody tr th {\n",
       "        vertical-align: top;\n",
       "    }\n",
       "\n",
       "    .dataframe thead th {\n",
       "        text-align: right;\n",
       "    }\n",
       "</style>\n",
       "<table border=\"1\" class=\"dataframe\">\n",
       "  <thead>\n",
       "    <tr style=\"text-align: right;\">\n",
       "      <th></th>\n",
       "      <th>Codeinsee</th>\n",
       "      <th>Commune</th>\n",
       "      <th>CodePostal</th>\n",
       "      <th>Ligne_5</th>\n",
       "      <th>Libellé_d_acheminement</th>\n",
       "      <th>Libell_d_acheminement</th>\n",
       "      <th>coordonnees_gps</th>\n",
       "      <th>Unnamed: 7</th>\n",
       "      <th>Unnamed: 0</th>\n",
       "      <th>Postalcode</th>\n",
       "      <th>Venue</th>\n",
       "      <th>Venue Category</th>\n",
       "      <th>Venue Latitude</th>\n",
       "      <th>Venue Longitude</th>\n",
       "      <th>HomeboxYesandNo</th>\n",
       "    </tr>\n",
       "  </thead>\n",
       "  <tbody>\n",
       "    <tr>\n",
       "      <th>0</th>\n",
       "      <td>6088</td>\n",
       "      <td>NICE</td>\n",
       "      <td>6200</td>\n",
       "      <td>NaN</td>\n",
       "      <td>NICE</td>\n",
       "      <td>NICE</td>\n",
       "      <td>43.711999</td>\n",
       "      <td>7.238269</td>\n",
       "      <td>704</td>\n",
       "      <td>Boulevard de Magnan - 06200 Nice</td>\n",
       "      <td>Promenade Magnan</td>\n",
       "      <td>Beach</td>\n",
       "      <td>43.690156</td>\n",
       "      <td>7.245333</td>\n",
       "      <td>Privat</td>\n",
       "    </tr>\n",
       "    <tr>\n",
       "      <th>1</th>\n",
       "      <td>6088</td>\n",
       "      <td>NICE</td>\n",
       "      <td>6200</td>\n",
       "      <td>NaN</td>\n",
       "      <td>NICE</td>\n",
       "      <td>NICE</td>\n",
       "      <td>43.711999</td>\n",
       "      <td>7.238269</td>\n",
       "      <td>705</td>\n",
       "      <td>Boulevard de Magnan - 06200 Nice</td>\n",
       "      <td>Magnan Plage</td>\n",
       "      <td>Beach</td>\n",
       "      <td>43.690991</td>\n",
       "      <td>7.244777</td>\n",
       "      <td>Privat</td>\n",
       "    </tr>\n",
       "  </tbody>\n",
       "</table>\n",
       "</div>"
      ],
      "text/plain": [
       "  Codeinsee Commune  CodePostal Ligne_5 Libellé_d_acheminement  \\\n",
       "0      6088    NICE        6200     NaN                   NICE   \n",
       "1      6088    NICE        6200     NaN                   NICE   \n",
       "\n",
       "  Libell_d_acheminement  coordonnees_gps  Unnamed: 7  Unnamed: 0  \\\n",
       "0                  NICE        43.711999    7.238269         704   \n",
       "1                  NICE        43.711999    7.238269         705   \n",
       "\n",
       "                         Postalcode             Venue Venue Category  \\\n",
       "0  Boulevard de Magnan - 06200 Nice  Promenade Magnan          Beach   \n",
       "1  Boulevard de Magnan - 06200 Nice      Magnan Plage          Beach   \n",
       "\n",
       "   Venue Latitude  Venue Longitude HomeboxYesandNo  \n",
       "0       43.690156         7.245333         Privat   \n",
       "1       43.690991         7.244777         Privat   "
      ]
     },
     "execution_count": 31,
     "metadata": {},
     "output_type": "execute_result"
    }
   ],
   "source": [
    "#format the call Code_Insee in a Integer Value\n",
    "df_CorrespondanceInseeetPostal['CodePostal']=df_CorrespondanceInseeetPostal.CodePostal.astype(int)\n",
    "\n",
    "# merge dataframe with Codeinsee and scrapingvenues Datas\n",
    "df_merge_Insee_Postal = pd.merge(df_CorrespondanceInseeetPostal, dfmergeinseeFormater, on=['CodePostal'], how='inner')\n",
    "\n",
    "#Get unique value base on venue\n",
    "\n",
    "df_merge_Insee_Postal[:2]"
   ]
  },
  {
   "cell_type": "code",
   "execution_count": 231,
   "metadata": {},
   "outputs": [
    {
     "data": {
      "text/plain": [
       "(911, 15)"
      ]
     },
     "execution_count": 231,
     "metadata": {},
     "output_type": "execute_result"
    }
   ],
   "source": [
    "df_merge_Insee_Postal.shape"
   ]
  },
  {
   "cell_type": "code",
   "execution_count": 18,
   "metadata": {},
   "outputs": [
    {
     "data": {
      "text/html": [
       "<div>\n",
       "<style scoped>\n",
       "    .dataframe tbody tr th:only-of-type {\n",
       "        vertical-align: middle;\n",
       "    }\n",
       "\n",
       "    .dataframe tbody tr th {\n",
       "        vertical-align: top;\n",
       "    }\n",
       "\n",
       "    .dataframe thead th {\n",
       "        text-align: right;\n",
       "    }\n",
       "</style>\n",
       "<table border=\"1\" class=\"dataframe\">\n",
       "  <thead>\n",
       "    <tr style=\"text-align: right;\">\n",
       "      <th></th>\n",
       "      <th>Postalcode</th>\n",
       "      <th>Commune</th>\n",
       "      <th>CodePostal</th>\n",
       "      <th>Codeinsee</th>\n",
       "      <th>Venue</th>\n",
       "      <th>Venue Category</th>\n",
       "      <th>Venue Latitude</th>\n",
       "      <th>Venue Longitude</th>\n",
       "      <th>HomeboxYesandNo</th>\n",
       "    </tr>\n",
       "  </thead>\n",
       "  <tbody>\n",
       "    <tr>\n",
       "      <th>0</th>\n",
       "      <td>Boulevard de Magnan - 06200 Nice</td>\n",
       "      <td>NICE</td>\n",
       "      <td>6200</td>\n",
       "      <td>6088</td>\n",
       "      <td>Promenade Magnan</td>\n",
       "      <td>Beach</td>\n",
       "      <td>43.690156</td>\n",
       "      <td>7.245333</td>\n",
       "      <td>Privat</td>\n",
       "    </tr>\n",
       "    <tr>\n",
       "      <th>1</th>\n",
       "      <td>Boulevard de Magnan - 06200 Nice</td>\n",
       "      <td>NICE</td>\n",
       "      <td>6200</td>\n",
       "      <td>6088</td>\n",
       "      <td>Magnan Plage</td>\n",
       "      <td>Beach</td>\n",
       "      <td>43.690991</td>\n",
       "      <td>7.244777</td>\n",
       "      <td>Privat</td>\n",
       "    </tr>\n",
       "  </tbody>\n",
       "</table>\n",
       "</div>"
      ],
      "text/plain": [
       "                         Postalcode Commune  CodePostal  Codeinsee  \\\n",
       "0  Boulevard de Magnan - 06200 Nice    NICE        6200       6088   \n",
       "1  Boulevard de Magnan - 06200 Nice    NICE        6200       6088   \n",
       "\n",
       "              Venue Venue Category  Venue Latitude  Venue Longitude  \\\n",
       "0  Promenade Magnan          Beach       43.690156         7.245333   \n",
       "1      Magnan Plage          Beach       43.690991         7.244777   \n",
       "\n",
       "  HomeboxYesandNo  \n",
       "0         Privat   \n",
       "1         Privat   "
      ]
     },
     "execution_count": 18,
     "metadata": {},
     "output_type": "execute_result"
    }
   ],
   "source": [
    "# Format the cell \n",
    "df_merge_Insee_Postal= df_merge_Insee_Postal[['Postalcode','Commune','CodePostal', 'Codeinsee','Venue','Venue Category','Venue Latitude','Venue Longitude','HomeboxYesandNo']]\n",
    "\n",
    "# Drop duplicate row based on column Venue\n",
    "df_merge_Insee_Postal = df_merge_Insee_Postal.drop_duplicates(subset='Venue', keep=\"first\")\n",
    "\n",
    "# Store df_merge_Insee_Postal in a dataframe \n",
    "df_merge_Insee_Postal.to_csv('df_merge_Insee_Postal')\n",
    "\n",
    "#Print two first value\n",
    "df_merge_Insee_Postal[:2]"
   ]
  },
  {
   "cell_type": "code",
   "execution_count": 240,
   "metadata": {},
   "outputs": [
    {
     "data": {
      "text/plain": [
       "(638, 7)"
      ]
     },
     "execution_count": 240,
     "metadata": {},
     "output_type": "execute_result"
    }
   ],
   "source": [
    "df_merge_Insee_Postal.shape"
   ]
  },
  {
   "cell_type": "markdown",
   "metadata": {},
   "source": [
    "# Plot histograme of venue"
   ]
  },
  {
   "cell_type": "code",
   "execution_count": 142,
   "metadata": {},
   "outputs": [
    {
     "data": {
      "text/html": [
       "<div>\n",
       "<style scoped>\n",
       "    .dataframe tbody tr th:only-of-type {\n",
       "        vertical-align: middle;\n",
       "    }\n",
       "\n",
       "    .dataframe tbody tr th {\n",
       "        vertical-align: top;\n",
       "    }\n",
       "\n",
       "    .dataframe thead th {\n",
       "        text-align: right;\n",
       "    }\n",
       "</style>\n",
       "<table border=\"1\" class=\"dataframe\">\n",
       "  <thead>\n",
       "    <tr style=\"text-align: right;\">\n",
       "      <th></th>\n",
       "      <th>Postalcode</th>\n",
       "      <th>Commune</th>\n",
       "      <th>CodePostal</th>\n",
       "      <th>Codeinsee</th>\n",
       "      <th>Venue</th>\n",
       "      <th>Venue Category</th>\n",
       "      <th>Venue Latitude</th>\n",
       "      <th>Venue Longitude</th>\n",
       "      <th>HomeboxYesandNo</th>\n",
       "    </tr>\n",
       "  </thead>\n",
       "  <tbody>\n",
       "    <tr>\n",
       "      <th>0</th>\n",
       "      <td>Boulevard de Magnan - 06200 Nice</td>\n",
       "      <td>NICE</td>\n",
       "      <td>6200</td>\n",
       "      <td>6088</td>\n",
       "      <td>Promenade Magnan</td>\n",
       "      <td>Beach</td>\n",
       "      <td>43.690156</td>\n",
       "      <td>7.245333</td>\n",
       "      <td>Privat</td>\n",
       "    </tr>\n",
       "    <tr>\n",
       "      <th>1</th>\n",
       "      <td>Boulevard de Magnan - 06200 Nice</td>\n",
       "      <td>NICE</td>\n",
       "      <td>6200</td>\n",
       "      <td>6088</td>\n",
       "      <td>Magnan Plage</td>\n",
       "      <td>Beach</td>\n",
       "      <td>43.690991</td>\n",
       "      <td>7.244777</td>\n",
       "      <td>Privat</td>\n",
       "    </tr>\n",
       "  </tbody>\n",
       "</table>\n",
       "</div>"
      ],
      "text/plain": [
       "                         Postalcode Commune  CodePostal  Codeinsee  \\\n",
       "0  Boulevard de Magnan - 06200 Nice    NICE        6200       6088   \n",
       "1  Boulevard de Magnan - 06200 Nice    NICE        6200       6088   \n",
       "\n",
       "              Venue Venue Category  Venue Latitude  Venue Longitude  \\\n",
       "0  Promenade Magnan          Beach       43.690156         7.245333   \n",
       "1      Magnan Plage          Beach       43.690991         7.244777   \n",
       "\n",
       "  HomeboxYesandNo  \n",
       "0         Privat   \n",
       "1         Privat   "
      ]
     },
     "execution_count": 142,
     "metadata": {},
     "output_type": "execute_result"
    }
   ],
   "source": [
    "# call the Dataframe \n",
    "df_merge_Insee_Postal=pd.read_csv('df_merge_Insee_Postal')\n",
    "\n",
    "# Drop the Unnamed: 0 Coll from the dataframe\n",
    "df_merge_Insee_Postal=df_merge_Insee_Postal.drop(['Unnamed: 0'], axis=1 )\n",
    "\n",
    "df_merge_Insee_Postal[:2]"
   ]
  },
  {
   "cell_type": "code",
   "execution_count": 21,
   "metadata": {},
   "outputs": [
    {
     "data": {
      "text/plain": [
       "(638, 9)"
      ]
     },
     "execution_count": 21,
     "metadata": {},
     "output_type": "execute_result"
    }
   ],
   "source": [
    "df_merge_Insee_Postal.shape"
   ]
  },
  {
   "cell_type": "code",
   "execution_count": 22,
   "metadata": {},
   "outputs": [
    {
     "data": {
      "text/html": [
       "<div>\n",
       "<style scoped>\n",
       "    .dataframe tbody tr th:only-of-type {\n",
       "        vertical-align: middle;\n",
       "    }\n",
       "\n",
       "    .dataframe tbody tr th {\n",
       "        vertical-align: top;\n",
       "    }\n",
       "\n",
       "    .dataframe thead th {\n",
       "        text-align: right;\n",
       "    }\n",
       "</style>\n",
       "<table border=\"1\" class=\"dataframe\">\n",
       "  <thead>\n",
       "    <tr style=\"text-align: right;\">\n",
       "      <th></th>\n",
       "      <th>Postalcode</th>\n",
       "      <th>Commune</th>\n",
       "      <th>CodePostal</th>\n",
       "      <th>Codeinsee</th>\n",
       "      <th>Venue</th>\n",
       "      <th>Venue Category</th>\n",
       "      <th>Venue Latitude</th>\n",
       "      <th>Venue Longitude</th>\n",
       "      <th>HomeboxYesandNo</th>\n",
       "    </tr>\n",
       "  </thead>\n",
       "  <tbody>\n",
       "    <tr>\n",
       "      <th>0</th>\n",
       "      <td>Boulevard de Magnan - 06200 Nice</td>\n",
       "      <td>NICE</td>\n",
       "      <td>6200</td>\n",
       "      <td>6088</td>\n",
       "      <td>Promenade Magnan</td>\n",
       "      <td>Beach</td>\n",
       "      <td>43.690156</td>\n",
       "      <td>7.245333</td>\n",
       "      <td>Privat</td>\n",
       "    </tr>\n",
       "    <tr>\n",
       "      <th>1</th>\n",
       "      <td>Boulevard de Magnan - 06200 Nice</td>\n",
       "      <td>NICE</td>\n",
       "      <td>6200</td>\n",
       "      <td>6088</td>\n",
       "      <td>Magnan Plage</td>\n",
       "      <td>Beach</td>\n",
       "      <td>43.690991</td>\n",
       "      <td>7.244777</td>\n",
       "      <td>Privat</td>\n",
       "    </tr>\n",
       "  </tbody>\n",
       "</table>\n",
       "</div>"
      ],
      "text/plain": [
       "                         Postalcode Commune  CodePostal  Codeinsee  \\\n",
       "0  Boulevard de Magnan - 06200 Nice    NICE        6200       6088   \n",
       "1  Boulevard de Magnan - 06200 Nice    NICE        6200       6088   \n",
       "\n",
       "              Venue Venue Category  Venue Latitude  Venue Longitude  \\\n",
       "0  Promenade Magnan          Beach       43.690156         7.245333   \n",
       "1      Magnan Plage          Beach       43.690991         7.244777   \n",
       "\n",
       "  HomeboxYesandNo  \n",
       "0         Privat   \n",
       "1         Privat   "
      ]
     },
     "execution_count": 22,
     "metadata": {},
     "output_type": "execute_result"
    }
   ],
   "source": [
    "df_Privat=df_merge_Insee_Postal[df_merge_Insee_Postal.HomeboxYesandNo != 'Homebox ']\n",
    "df_Privat[0:2]"
   ]
  },
  {
   "cell_type": "code",
   "execution_count": 88,
   "metadata": {},
   "outputs": [
    {
     "data": {
      "text/plain": [
       "(536, 9)"
      ]
     },
     "execution_count": 88,
     "metadata": {},
     "output_type": "execute_result"
    }
   ],
   "source": [
    "df_Privat.shape"
   ]
  },
  {
   "cell_type": "code",
   "execution_count": 14,
   "metadata": {},
   "outputs": [
    {
     "data": {
      "text/html": [
       "<div>\n",
       "<style scoped>\n",
       "    .dataframe tbody tr th:only-of-type {\n",
       "        vertical-align: middle;\n",
       "    }\n",
       "\n",
       "    .dataframe tbody tr th {\n",
       "        vertical-align: top;\n",
       "    }\n",
       "\n",
       "    .dataframe thead th {\n",
       "        text-align: right;\n",
       "    }\n",
       "</style>\n",
       "<table border=\"1\" class=\"dataframe\">\n",
       "  <thead>\n",
       "    <tr style=\"text-align: right;\">\n",
       "      <th></th>\n",
       "      <th>Postalcode</th>\n",
       "      <th>Commune</th>\n",
       "      <th>CodePostal</th>\n",
       "      <th>Codeinsee</th>\n",
       "      <th>Venue</th>\n",
       "      <th>Venue Category</th>\n",
       "      <th>Venue Latitude</th>\n",
       "      <th>Venue Longitude</th>\n",
       "      <th>HomeboxYesandNo</th>\n",
       "    </tr>\n",
       "  </thead>\n",
       "  <tbody>\n",
       "    <tr>\n",
       "      <th>10</th>\n",
       "      <td>1 rue de L'Hermite 33520 Bruges</td>\n",
       "      <td>BRUGES</td>\n",
       "      <td>33520</td>\n",
       "      <td>33075</td>\n",
       "      <td>Gare SNCF de Bruges</td>\n",
       "      <td>Train Station</td>\n",
       "      <td>44.88657</td>\n",
       "      <td>-0.609200</td>\n",
       "      <td>Homebox</td>\n",
       "    </tr>\n",
       "    <tr>\n",
       "      <th>11</th>\n",
       "      <td>1 rue de L'Hermite 33520 Bruges</td>\n",
       "      <td>BRUGES</td>\n",
       "      <td>33520</td>\n",
       "      <td>33075</td>\n",
       "      <td>Marais de Bruges</td>\n",
       "      <td>Trail</td>\n",
       "      <td>44.88605</td>\n",
       "      <td>-0.600854</td>\n",
       "      <td>Homebox</td>\n",
       "    </tr>\n",
       "  </tbody>\n",
       "</table>\n",
       "</div>"
      ],
      "text/plain": [
       "                          Postalcode Commune  CodePostal  Codeinsee  \\\n",
       "10   1 rue de L'Hermite 33520 Bruges  BRUGES       33520      33075   \n",
       "11   1 rue de L'Hermite 33520 Bruges  BRUGES       33520      33075   \n",
       "\n",
       "                  Venue Venue Category  Venue Latitude  Venue Longitude  \\\n",
       "10  Gare SNCF de Bruges  Train Station        44.88657        -0.609200   \n",
       "11     Marais de Bruges          Trail        44.88605        -0.600854   \n",
       "\n",
       "   HomeboxYesandNo  \n",
       "10        Homebox   \n",
       "11        Homebox   "
      ]
     },
     "execution_count": 14,
     "metadata": {},
     "output_type": "execute_result"
    }
   ],
   "source": [
    "df_Homebox=df_merge_Insee_Postal[df_merge_Insee_Postal.HomeboxYesandNo != 'Privat ']\n",
    "df_Homebox[0:2]"
   ]
  },
  {
   "cell_type": "code",
   "execution_count": 38,
   "metadata": {},
   "outputs": [
    {
     "data": {
      "text/plain": [
       "(102, 9)"
      ]
     },
     "execution_count": 38,
     "metadata": {},
     "output_type": "execute_result"
    }
   ],
   "source": [
    "df_Homebox.shape"
   ]
  },
  {
   "cell_type": "code",
   "execution_count": 92,
   "metadata": {},
   "outputs": [
    {
     "name": "stderr",
     "output_type": "stream",
     "text": [
      "/home/loth/.local/lib/python3.7/site-packages/ipykernel_launcher.py:2: SettingWithCopyWarning: \n",
      "A value is trying to be set on a copy of a slice from a DataFrame.\n",
      "Try using .loc[row_indexer,col_indexer] = value instead\n",
      "\n",
      "See the caveats in the documentation: https://pandas.pydata.org/pandas-docs/stable/user_guide/indexing.html#returning-a-view-versus-a-copy\n",
      "  \n"
     ]
    },
    {
     "data": {
      "text/html": [
       "<div>\n",
       "<style scoped>\n",
       "    .dataframe tbody tr th:only-of-type {\n",
       "        vertical-align: middle;\n",
       "    }\n",
       "\n",
       "    .dataframe tbody tr th {\n",
       "        vertical-align: top;\n",
       "    }\n",
       "\n",
       "    .dataframe thead th {\n",
       "        text-align: right;\n",
       "    }\n",
       "</style>\n",
       "<table border=\"1\" class=\"dataframe\">\n",
       "  <thead>\n",
       "    <tr style=\"text-align: right;\">\n",
       "      <th></th>\n",
       "      <th>HomeboxYesandNo</th>\n",
       "      <th>Venue Category</th>\n",
       "      <th>Count</th>\n",
       "    </tr>\n",
       "  </thead>\n",
       "  <tbody>\n",
       "    <tr>\n",
       "      <th>61</th>\n",
       "      <td>Privat</td>\n",
       "      <td>French Restaurant</td>\n",
       "      <td>61</td>\n",
       "    </tr>\n",
       "    <tr>\n",
       "      <th>79</th>\n",
       "      <td>Privat</td>\n",
       "      <td>Hotel</td>\n",
       "      <td>37</td>\n",
       "    </tr>\n",
       "    <tr>\n",
       "      <th>7</th>\n",
       "      <td>Privat</td>\n",
       "      <td>Bakery</td>\n",
       "      <td>25</td>\n",
       "    </tr>\n",
       "    <tr>\n",
       "      <th>86</th>\n",
       "      <td>Privat</td>\n",
       "      <td>Japanese Restaurant</td>\n",
       "      <td>18</td>\n",
       "    </tr>\n",
       "    <tr>\n",
       "      <th>85</th>\n",
       "      <td>Privat</td>\n",
       "      <td>Italian Restaurant</td>\n",
       "      <td>17</td>\n",
       "    </tr>\n",
       "    <tr>\n",
       "      <th>122</th>\n",
       "      <td>Privat</td>\n",
       "      <td>Plaza</td>\n",
       "      <td>15</td>\n",
       "    </tr>\n",
       "    <tr>\n",
       "      <th>113</th>\n",
       "      <td>Privat</td>\n",
       "      <td>Park</td>\n",
       "      <td>12</td>\n",
       "    </tr>\n",
       "    <tr>\n",
       "      <th>8</th>\n",
       "      <td>Privat</td>\n",
       "      <td>Bar</td>\n",
       "      <td>12</td>\n",
       "    </tr>\n",
       "    <tr>\n",
       "      <th>142</th>\n",
       "      <td>Privat</td>\n",
       "      <td>Supermarket</td>\n",
       "      <td>11</td>\n",
       "    </tr>\n",
       "    <tr>\n",
       "      <th>25</th>\n",
       "      <td>Privat</td>\n",
       "      <td>Café</td>\n",
       "      <td>10</td>\n",
       "    </tr>\n",
       "  </tbody>\n",
       "</table>\n",
       "</div>"
      ],
      "text/plain": [
       "    HomeboxYesandNo       Venue Category  Count\n",
       "61          Privat     French Restaurant     61\n",
       "79          Privat                 Hotel     37\n",
       "7           Privat                Bakery     25\n",
       "86          Privat   Japanese Restaurant     18\n",
       "85          Privat    Italian Restaurant     17\n",
       "122         Privat                 Plaza     15\n",
       "113         Privat                  Park     12\n",
       "8           Privat                   Bar     12\n",
       "142         Privat           Supermarket     11\n",
       "25          Privat                  Café     10"
      ]
     },
     "execution_count": 92,
     "metadata": {},
     "output_type": "execute_result"
    }
   ],
   "source": [
    "#create de coll Count\n",
    "df_Privat['Count']=df_Privat.sum(axis=1)\n",
    "\n",
    "# define new dataframe with HomeboxYes&No and Venue Categories\n",
    "df_Privat = df_Privat.groupby(['HomeboxYesandNo','Venue Category']) ['Count'].count().reset_index()\n",
    " \n",
    "# Descending order\n",
    "df_Privat=df_Privat.sort_values(by = 'Count', ascending = False)\n",
    "\n",
    "# Print the first two coll\n",
    "df_Privat=df_Privat[0:10]\n",
    "\n",
    "# Store the data in \n",
    "df_Privat.to_csv('df_Privat.csv')\n",
    "\n",
    "#Print the data\n",
    "df_Privat"
   ]
  },
  {
   "cell_type": "code",
   "execution_count": 15,
   "metadata": {},
   "outputs": [
    {
     "name": "stderr",
     "output_type": "stream",
     "text": [
      "/home/loth/.local/lib/python3.7/site-packages/ipykernel_launcher.py:2: SettingWithCopyWarning: \n",
      "A value is trying to be set on a copy of a slice from a DataFrame.\n",
      "Try using .loc[row_indexer,col_indexer] = value instead\n",
      "\n",
      "See the caveats in the documentation: https://pandas.pydata.org/pandas-docs/stable/user_guide/indexing.html#returning-a-view-versus-a-copy\n",
      "  \n"
     ]
    },
    {
     "data": {
      "text/html": [
       "<div>\n",
       "<style scoped>\n",
       "    .dataframe tbody tr th:only-of-type {\n",
       "        vertical-align: middle;\n",
       "    }\n",
       "\n",
       "    .dataframe tbody tr th {\n",
       "        vertical-align: top;\n",
       "    }\n",
       "\n",
       "    .dataframe thead th {\n",
       "        text-align: right;\n",
       "    }\n",
       "</style>\n",
       "<table border=\"1\" class=\"dataframe\">\n",
       "  <thead>\n",
       "    <tr style=\"text-align: right;\">\n",
       "      <th></th>\n",
       "      <th>HomeboxYesandNo</th>\n",
       "      <th>Venue Category</th>\n",
       "      <th>Count</th>\n",
       "    </tr>\n",
       "  </thead>\n",
       "  <tbody>\n",
       "    <tr>\n",
       "      <th>30</th>\n",
       "      <td>Homebox</td>\n",
       "      <td>Hotel</td>\n",
       "      <td>10</td>\n",
       "    </tr>\n",
       "    <tr>\n",
       "      <th>20</th>\n",
       "      <td>Homebox</td>\n",
       "      <td>French Restaurant</td>\n",
       "      <td>10</td>\n",
       "    </tr>\n",
       "    <tr>\n",
       "      <th>18</th>\n",
       "      <td>Homebox</td>\n",
       "      <td>Fast Food Restaurant</td>\n",
       "      <td>4</td>\n",
       "    </tr>\n",
       "    <tr>\n",
       "      <th>43</th>\n",
       "      <td>Homebox</td>\n",
       "      <td>Restaurant</td>\n",
       "      <td>3</td>\n",
       "    </tr>\n",
       "    <tr>\n",
       "      <th>31</th>\n",
       "      <td>Homebox</td>\n",
       "      <td>Italian Restaurant</td>\n",
       "      <td>3</td>\n",
       "    </tr>\n",
       "    <tr>\n",
       "      <th>8</th>\n",
       "      <td>Homebox</td>\n",
       "      <td>Cafeteria</td>\n",
       "      <td>3</td>\n",
       "    </tr>\n",
       "    <tr>\n",
       "      <th>39</th>\n",
       "      <td>Homebox</td>\n",
       "      <td>Pizza Place</td>\n",
       "      <td>3</td>\n",
       "    </tr>\n",
       "    <tr>\n",
       "      <th>46</th>\n",
       "      <td>Homebox</td>\n",
       "      <td>Seafood Restaurant</td>\n",
       "      <td>2</td>\n",
       "    </tr>\n",
       "    <tr>\n",
       "      <th>14</th>\n",
       "      <td>Homebox</td>\n",
       "      <td>Convenience Store</td>\n",
       "      <td>2</td>\n",
       "    </tr>\n",
       "    <tr>\n",
       "      <th>23</th>\n",
       "      <td>Homebox</td>\n",
       "      <td>Garden</td>\n",
       "      <td>2</td>\n",
       "    </tr>\n",
       "  </tbody>\n",
       "</table>\n",
       "</div>"
      ],
      "text/plain": [
       "   HomeboxYesandNo        Venue Category  Count\n",
       "30        Homebox                  Hotel     10\n",
       "20        Homebox      French Restaurant     10\n",
       "18        Homebox   Fast Food Restaurant      4\n",
       "43        Homebox             Restaurant      3\n",
       "31        Homebox     Italian Restaurant      3\n",
       "8         Homebox              Cafeteria      3\n",
       "39        Homebox            Pizza Place      3\n",
       "46        Homebox     Seafood Restaurant      2\n",
       "14        Homebox      Convenience Store      2\n",
       "23        Homebox                 Garden      2"
      ]
     },
     "execution_count": 15,
     "metadata": {},
     "output_type": "execute_result"
    }
   ],
   "source": [
    "#create de coll Count\n",
    "df_Homebox['Count']=df_Homebox.sum(axis=1)\n",
    "\n",
    "# define new dataframe with HomeboxYes&No and Venue Categories\n",
    "df_Homebox = df_Homebox.groupby(['HomeboxYesandNo','Venue Category']) ['Count'].count().reset_index()\n",
    " \n",
    "# Descending order\n",
    "df_Homebox=df_Homebox.sort_values(by = 'Count', ascending = False)\n",
    "\n",
    "# Print the first two coll\n",
    "df_Homebox[:10]"
   ]
  },
  {
   "cell_type": "code",
   "execution_count": 59,
   "metadata": {},
   "outputs": [],
   "source": [
    "#df_Homebox.to_csv('df_Homebox.csv')"
   ]
  },
  {
   "cell_type": "code",
   "execution_count": 96,
   "metadata": {},
   "outputs": [
    {
     "name": "stderr",
     "output_type": "stream",
     "text": [
      "/home/loth/.local/lib/python3.7/site-packages/ipykernel_launcher.py:23: MatplotlibDeprecationWarning: Using a string of single character colors as a color sequence is deprecated. Use an explicit list instead.\n"
     ]
    },
    {
     "data": {
      "image/png": "[encoded data removed]",
      "text/plain": [
       "<Figure size 1440x576 with 1 Axes>"
      ]
     },
     "metadata": {
      "needs_background": "light"
     },
     "output_type": "display_data"
    }
   ],
   "source": [
    "df_Privat=[]\n",
    "df_Privat=pd.read_csv('df_Privat.csv')\n",
    "# define a dataframe with only the 10 most venue in privat secto\n",
    "     #df_Privat=df_Privat[:10]\n",
    "\n",
    "# Define size for ploting \n",
    "plt.figure(figsize=(20,8))\n",
    "\n",
    "# the width of the barsRepartition of Venues per Homebox Storage\n",
    "barWidth = 0.46 \n",
    "\n",
    "#define bar plots\n",
    "bars1 = df_Privat['Count']\n",
    "\n",
    "#bars2 = df_new_sort1['Count']\n",
    "\n",
    "# Set position of bar on X axis\n",
    "#r1 = np.arange(len(bars1))\n",
    "r1 = [x + barWidth for x in r1]\n",
    "#r3 = [x + barWidth for x in r2]]\n",
    "\n",
    "# Make the plot  \n",
    "rects1= plt.bar(r1, bars1, color='#5cb85c', width=barWidth, edgecolor='', label='Repartition of Venues per Privat Storage')\n",
    "\n",
    "#rects2= plt.bar(r2, bars2, color='#d9534f', width=barWidth, edgecolor='', label='Profitability in %')\n",
    "\n",
    "#plot x axis values\n",
    "#plt.xticks([r + barWidth for r in range(len(bars2))], ['Nord-pas-de-calais','Midi-pyrenees','Languedoc-roussillon','Lorraine','Picardie','Bourgogne','Basse-normandie','Champagne-ardenne','Haute-normandie','Ile-de-france','Provence-alpes-cote','Rhone-alpes'], fontsize=14, rotation=90)\n",
    "\n",
    "plt.xticks([r + barWidth for r in range(len(bars1))], df_Privat['Venue Category'], fontsize=14, rotation=90)\n",
    "#Attach a text label above each bar in *rects*, displaying its height.\n",
    "\n",
    "def autolabel(rects):\n",
    "    for rect in rects:\n",
    "        height = rect.get_height()\n",
    "        plt.annotate('{}'.format(height),\n",
    "                    xy=(rect.get_x() + rect.get_width() / 2, height),\n",
    "                    xytext=(0, 3),  # 3 points vertical offset\n",
    "                    textcoords=\"offset points\",\n",
    "                    ha='center', va='bottom')\n",
    "autolabel(rects1)\n",
    "#autolabel(rects2)\n",
    "\n",
    "# Add some text for labels, title and custom x-axis tick labels, etc.\n",
    "plt.title('20 Most Venues present in Privat Sectors(Limit=10 / radius=500)', fontsize=16)\n",
    "LIMIT = 50\n",
    "radius = 500\n",
    "\n",
    "# Plot legeng\n",
    "plt.legend(fontsize=14)\n",
    "\n",
    "# How to hide y axis\n",
    "plt.yticks([])\n",
    "\n",
    "#fig.tight_layout()\n",
    "plt.show()"
   ]
  },
  {
   "cell_type": "code",
   "execution_count": 74,
   "metadata": {},
   "outputs": [
    {
     "name": "stderr",
     "output_type": "stream",
     "text": [
      "/home/loth/.local/lib/python3.7/site-packages/ipykernel_launcher.py:24: MatplotlibDeprecationWarning: Using a string of single character colors as a color sequence is deprecated. Use an explicit list instead.\n"
     ]
    },
    {
     "data": {
      "image/png": "[encoded data removed]",
      "text/plain": [
       "<Figure size 1440x576 with 1 Axes>"
      ]
     },
     "metadata": {
      "needs_background": "light"
     },
     "output_type": "display_data"
    }
   ],
   "source": [
    "\n",
    "df_Homeboxt=[]\n",
    "\n",
    "df_Homebox=pd.read_csv('df_Homebox.csv')\n",
    "# define a dataframe with only the 10 most venue in privat secto\n",
    "df_Homebox=df_Homebox[:10]\n",
    "\n",
    "# Define size for ploting \n",
    "plt.figure(figsize=(20,8))\n",
    "\n",
    "# the width of the barsRepartition of Venues per Homebox Storage\n",
    "barWidth = 0.46 \n",
    "\n",
    "#define bar plots\n",
    "bars1 = df_Homebox['Count']\n",
    "\n",
    "#bars2 = df_new_sort1['Count']\n",
    "\n",
    "# Set position of bar on X axis\n",
    "#r1 = np.arange(len(bars1))\n",
    "r1 = [x + barWidth for x in r1]\n",
    "#r3 = [x + barWidth for x in r2]]\n",
    "\n",
    "# Make the plot  \n",
    "rects1= plt.bar(r1, bars1, color='#d9534f', width=barWidth, edgecolor='', label='Repartition of Venues per Privat Storage')\n",
    "\n",
    "#rects2= plt.bar(r2, bars2, color='#d9534f', width=barWidth, edgecolor='', label='Profitability in %')\n",
    "\n",
    "#plot x axis values\n",
    "#plt.xticks([r + barWidth for r in range(len(bars2))], ['Nord-pas-de-calais','Midi-pyrenees','Languedoc-roussillon','Lorraine','Picardie','Bourgogne','Basse-normandie','Champagne-ardenne','Haute-normandie','Ile-de-france','Provence-alpes-cote','Rhone-alpes'], fontsize=14, rotation=90)\n",
    "\n",
    "plt.xticks([r + barWidth for r in range(len(bars1))], df_Homebox['Venue Category'], fontsize=14, rotation=90)\n",
    "#Attach a text label above each bar in *rects*, displaying its height.\n",
    "\n",
    "def autolabel(rects):\n",
    "    for rect in rects:\n",
    "        height = rect.get_height()\n",
    "        plt.annotate('{}'.format(height),\n",
    "                    xy=(rect.get_x() + rect.get_width() / 2, height),\n",
    "                    xytext=(0, 3),  # 3 points vertical offset\n",
    "                    textcoords=\"offset points\",\n",
    "                    ha='center', va='bottom')\n",
    "autolabel(rects1)\n",
    "#autolabel(rects2)\n",
    "\n",
    "# Add some text for labels, title and custom x-axis tick labels, etc.\n",
    "plt.title('20 Most Venues present in Homebox Sectors(Limit=10 / radius=500)', fontsize=16)\n",
    "LIMIT = 50\n",
    "radius = 1500\n",
    "\n",
    "# Plot legeng\n",
    "plt.legend(fontsize=14)\n",
    "\n",
    "# How to hide y axis\n",
    "plt.yticks([])\n",
    "\n",
    "#fig.tight_layout()\n",
    "plt.show()"
   ]
  },
  {
   "cell_type": "code",
   "execution_count": 52,
   "metadata": {},
   "outputs": [
    {
     "data": {
      "text/html": [
       "<div>\n",
       "<style scoped>\n",
       "    .dataframe tbody tr th:only-of-type {\n",
       "        vertical-align: middle;\n",
       "    }\n",
       "\n",
       "    .dataframe tbody tr th {\n",
       "        vertical-align: top;\n",
       "    }\n",
       "\n",
       "    .dataframe thead th {\n",
       "        text-align: right;\n",
       "    }\n",
       "</style>\n",
       "<table border=\"1\" class=\"dataframe\">\n",
       "  <thead>\n",
       "    <tr style=\"text-align: right;\">\n",
       "      <th></th>\n",
       "      <th>Code Postal</th>\n",
       "      <th>Count_x</th>\n",
       "      <th>Unnamed: 0</th>\n",
       "      <th>Count_y</th>\n",
       "      <th>Code_commune_INSEE</th>\n",
       "      <th>Nom_commune</th>\n",
       "      <th>Ligne_5</th>\n",
       "      <th>Libellé_d_acheminement</th>\n",
       "      <th>Libell_d_acheminement</th>\n",
       "      <th>coordonnees_gps</th>\n",
       "      <th>Unnamed: 7</th>\n",
       "    </tr>\n",
       "  </thead>\n",
       "  <tbody>\n",
       "    <tr>\n",
       "      <th>0</th>\n",
       "      <td>75017</td>\n",
       "      <td>13</td>\n",
       "      <td>0</td>\n",
       "      <td>13</td>\n",
       "      <td>75117</td>\n",
       "      <td>PARIS 17</td>\n",
       "      <td>NaN</td>\n",
       "      <td>PARIS</td>\n",
       "      <td>PARIS</td>\n",
       "      <td>48.887337</td>\n",
       "      <td>2.307486</td>\n",
       "    </tr>\n",
       "    <tr>\n",
       "      <th>1</th>\n",
       "      <td>75014</td>\n",
       "      <td>9</td>\n",
       "      <td>1</td>\n",
       "      <td>9</td>\n",
       "      <td>75114</td>\n",
       "      <td>PARIS 14</td>\n",
       "      <td>NaN</td>\n",
       "      <td>PARIS</td>\n",
       "      <td>PARIS</td>\n",
       "      <td>48.828993</td>\n",
       "      <td>2.327101</td>\n",
       "    </tr>\n",
       "    <tr>\n",
       "      <th>2</th>\n",
       "      <td>78370</td>\n",
       "      <td>8</td>\n",
       "      <td>2</td>\n",
       "      <td>8</td>\n",
       "      <td>78490</td>\n",
       "      <td>PLAISIR</td>\n",
       "      <td>NaN</td>\n",
       "      <td>PLAISIR</td>\n",
       "      <td>PLAISIR</td>\n",
       "      <td>48.812608</td>\n",
       "      <td>1.946985</td>\n",
       "    </tr>\n",
       "    <tr>\n",
       "      <th>3</th>\n",
       "      <td>75011</td>\n",
       "      <td>6</td>\n",
       "      <td>3</td>\n",
       "      <td>6</td>\n",
       "      <td>75111</td>\n",
       "      <td>PARIS 11</td>\n",
       "      <td>NaN</td>\n",
       "      <td>PARIS</td>\n",
       "      <td>PARIS</td>\n",
       "      <td>48.859415</td>\n",
       "      <td>2.378741</td>\n",
       "    </tr>\n",
       "    <tr>\n",
       "      <th>4</th>\n",
       "      <td>75019</td>\n",
       "      <td>6</td>\n",
       "      <td>4</td>\n",
       "      <td>6</td>\n",
       "      <td>75119</td>\n",
       "      <td>PARIS 19</td>\n",
       "      <td>NaN</td>\n",
       "      <td>PARIS</td>\n",
       "      <td>PARIS</td>\n",
       "      <td>48.886869</td>\n",
       "      <td>2.384694</td>\n",
       "    </tr>\n",
       "    <tr>\n",
       "      <th>...</th>\n",
       "      <td>...</td>\n",
       "      <td>...</td>\n",
       "      <td>...</td>\n",
       "      <td>...</td>\n",
       "      <td>...</td>\n",
       "      <td>...</td>\n",
       "      <td>...</td>\n",
       "      <td>...</td>\n",
       "      <td>...</td>\n",
       "      <td>...</td>\n",
       "      <td>...</td>\n",
       "    </tr>\n",
       "    <tr>\n",
       "      <th>266</th>\n",
       "      <td>59320</td>\n",
       "      <td>1</td>\n",
       "      <td>266</td>\n",
       "      <td>1</td>\n",
       "      <td>59566</td>\n",
       "      <td>SEQUEDIN</td>\n",
       "      <td>NaN</td>\n",
       "      <td>SEQUEDIN</td>\n",
       "      <td>SEQUEDIN</td>\n",
       "      <td>50.624819</td>\n",
       "      <td>2.982543</td>\n",
       "    </tr>\n",
       "    <tr>\n",
       "      <th>267</th>\n",
       "      <td>59320</td>\n",
       "      <td>1</td>\n",
       "      <td>267</td>\n",
       "      <td>1</td>\n",
       "      <td>59196</td>\n",
       "      <td>ENNETIERES EN WEPPES</td>\n",
       "      <td>NaN</td>\n",
       "      <td>ENNETIERES EN WEPPES</td>\n",
       "      <td>ENNETIERES EN WEPPES</td>\n",
       "      <td>50.640485</td>\n",
       "      <td>2.933122</td>\n",
       "    </tr>\n",
       "    <tr>\n",
       "      <th>268</th>\n",
       "      <td>59260</td>\n",
       "      <td>1</td>\n",
       "      <td>268</td>\n",
       "      <td>1</td>\n",
       "      <td>59350</td>\n",
       "      <td>LILLE</td>\n",
       "      <td>HELLEMMES LILLE</td>\n",
       "      <td>LILLE</td>\n",
       "      <td>LILLE</td>\n",
       "      <td>50.631718</td>\n",
       "      <td>3.047833</td>\n",
       "    </tr>\n",
       "    <tr>\n",
       "      <th>269</th>\n",
       "      <td>59260</td>\n",
       "      <td>1</td>\n",
       "      <td>269</td>\n",
       "      <td>1</td>\n",
       "      <td>59346</td>\n",
       "      <td>LEZENNES</td>\n",
       "      <td>NaN</td>\n",
       "      <td>LEZENNES</td>\n",
       "      <td>LEZENNES</td>\n",
       "      <td>50.611169</td>\n",
       "      <td>3.118242</td>\n",
       "    </tr>\n",
       "    <tr>\n",
       "      <th>270</th>\n",
       "      <td>59200</td>\n",
       "      <td>1</td>\n",
       "      <td>270</td>\n",
       "      <td>1</td>\n",
       "      <td>59599</td>\n",
       "      <td>TOURCOING</td>\n",
       "      <td>NaN</td>\n",
       "      <td>TOURCOING</td>\n",
       "      <td>TOURCOING</td>\n",
       "      <td>50.725442</td>\n",
       "      <td>3.158828</td>\n",
       "    </tr>\n",
       "  </tbody>\n",
       "</table>\n",
       "<p>271 rows × 11 columns</p>\n",
       "</div>"
      ],
      "text/plain": [
       "     Code Postal  Count_x  Unnamed: 0  Count_y  Code_commune_INSEE  \\\n",
       "0          75017       13           0       13               75117   \n",
       "1          75014        9           1        9               75114   \n",
       "2          78370        8           2        8               78490   \n",
       "3          75011        6           3        6               75111   \n",
       "4          75019        6           4        6               75119   \n",
       "..           ...      ...         ...      ...                 ...   \n",
       "266        59320        1         266        1               59566   \n",
       "267        59320        1         267        1               59196   \n",
       "268        59260        1         268        1               59350   \n",
       "269        59260        1         269        1               59346   \n",
       "270        59200        1         270        1               59599   \n",
       "\n",
       "              Nom_commune          Ligne_5 Libellé_d_acheminement  \\\n",
       "0                PARIS 17              NaN                  PARIS   \n",
       "1                PARIS 14              NaN                  PARIS   \n",
       "2                 PLAISIR              NaN                PLAISIR   \n",
       "3                PARIS 11              NaN                  PARIS   \n",
       "4                PARIS 19              NaN                  PARIS   \n",
       "..                    ...              ...                    ...   \n",
       "266              SEQUEDIN              NaN               SEQUEDIN   \n",
       "267  ENNETIERES EN WEPPES              NaN   ENNETIERES EN WEPPES   \n",
       "268                 LILLE  HELLEMMES LILLE                  LILLE   \n",
       "269              LEZENNES              NaN               LEZENNES   \n",
       "270             TOURCOING              NaN              TOURCOING   \n",
       "\n",
       "    Libell_d_acheminement  coordonnees_gps  Unnamed: 7  \n",
       "0                   PARIS        48.887337    2.307486  \n",
       "1                   PARIS        48.828993    2.327101  \n",
       "2                 PLAISIR        48.812608    1.946985  \n",
       "3                   PARIS        48.859415    2.378741  \n",
       "4                   PARIS        48.886869    2.384694  \n",
       "..                    ...              ...         ...  \n",
       "266              SEQUEDIN        50.624819    2.982543  \n",
       "267  ENNETIERES EN WEPPES        50.640485    2.933122  \n",
       "268                 LILLE        50.631718    3.047833  \n",
       "269              LEZENNES        50.611169    3.118242  \n",
       "270             TOURCOING        50.725442    3.158828  \n",
       "\n",
       "[271 rows x 11 columns]"
      ]
     },
     "execution_count": 52,
     "metadata": {},
     "output_type": "execute_result"
    }
   ],
   "source": [
    "df_merge_Insee_Postal"
   ]
  },
  {
   "cell_type": "code",
   "execution_count": 144,
   "metadata": {},
   "outputs": [],
   "source": [
    "# Call the necessary files\n",
    "#df_Postal_Postal = pd.read_csv('df_merge_Insee_Postal.csv')\n",
    "\n",
    "#format the call Code_Insee in a Integer Value\n",
    "#df_Postal_Postal.CodeInsee.astype(int)\n",
    "\n",
    "# Call the necessary files\n",
    "df_Postal_Insee = pd.read_csv('CorrespondanceInseeetPostal.csv')\n",
    "\n",
    "# create new dataframe with pure numeric entries \n",
    "df_Postal_Insee = df_Postal_Insee[~df_Postal_Insee['CodeInsee'].str.contains(\"[a-zA-Z]\").fillna(False)]\n",
    "\n",
    "#format the call Code_Insee in a Integer Value\n",
    "df_Postal_Insee['CodeInsee']=df_Postal_Insee.CodeInsee.astype(int)"
   ]
  },
  {
   "cell_type": "code",
   "execution_count": 76,
   "metadata": {},
   "outputs": [],
   "source": [
    "#df_Postal_Postal.dtypes"
   ]
  },
  {
   "cell_type": "code",
   "execution_count": 145,
   "metadata": {},
   "outputs": [
    {
     "data": {
      "text/html": [
       "<div>\n",
       "<style scoped>\n",
       "    .dataframe tbody tr th:only-of-type {\n",
       "        vertical-align: middle;\n",
       "    }\n",
       "\n",
       "    .dataframe tbody tr th {\n",
       "        vertical-align: top;\n",
       "    }\n",
       "\n",
       "    .dataframe thead th {\n",
       "        text-align: right;\n",
       "    }\n",
       "</style>\n",
       "<table border=\"1\" class=\"dataframe\">\n",
       "  <thead>\n",
       "    <tr style=\"text-align: right;\">\n",
       "      <th></th>\n",
       "      <th>CodeInsee</th>\n",
       "      <th>CodePostal_x</th>\n",
       "      <th>Commune_x</th>\n",
       "      <th>Département</th>\n",
       "      <th>Région</th>\n",
       "      <th>Statut</th>\n",
       "      <th>Altitude Moyenne</th>\n",
       "      <th>Superficie</th>\n",
       "      <th>Population</th>\n",
       "      <th>Code Commune</th>\n",
       "      <th>...</th>\n",
       "      <th>Code Région</th>\n",
       "      <th>Postalcode</th>\n",
       "      <th>Commune_y</th>\n",
       "      <th>CodePostal_y</th>\n",
       "      <th>Codeinsee</th>\n",
       "      <th>Venue</th>\n",
       "      <th>Venue Category</th>\n",
       "      <th>Venue Latitude</th>\n",
       "      <th>Venue Longitude</th>\n",
       "      <th>HomeboxYesandNo</th>\n",
       "    </tr>\n",
       "  </thead>\n",
       "  <tbody>\n",
       "    <tr>\n",
       "      <th>0</th>\n",
       "      <td>33119</td>\n",
       "      <td>33150</td>\n",
       "      <td>CENON</td>\n",
       "      <td>GIRONDE</td>\n",
       "      <td>AQUITAINE</td>\n",
       "      <td>Chef-lieu canton</td>\n",
       "      <td>46</td>\n",
       "      <td>571</td>\n",
       "      <td>22.2</td>\n",
       "      <td>36350</td>\n",
       "      <td>...</td>\n",
       "      <td>33</td>\n",
       "      <td>Impasse Queyries - 33150 Cenon</td>\n",
       "      <td>CENON</td>\n",
       "      <td>33150</td>\n",
       "      <td>33119</td>\n",
       "      <td>Gare SNCF de Cenon</td>\n",
       "      <td>Train Station</td>\n",
       "      <td>44.85640</td>\n",
       "      <td>-0.533513</td>\n",
       "      <td>Privat</td>\n",
       "    </tr>\n",
       "    <tr>\n",
       "      <th>1</th>\n",
       "      <td>33119</td>\n",
       "      <td>33150</td>\n",
       "      <td>CENON</td>\n",
       "      <td>GIRONDE</td>\n",
       "      <td>AQUITAINE</td>\n",
       "      <td>Chef-lieu canton</td>\n",
       "      <td>46</td>\n",
       "      <td>571</td>\n",
       "      <td>22.2</td>\n",
       "      <td>36350</td>\n",
       "      <td>...</td>\n",
       "      <td>33</td>\n",
       "      <td>Impasse Queyries - 33150 Cenon</td>\n",
       "      <td>CENON</td>\n",
       "      <td>33150</td>\n",
       "      <td>33119</td>\n",
       "      <td>Carrefour City</td>\n",
       "      <td>Supermarket</td>\n",
       "      <td>44.85581</td>\n",
       "      <td>-0.535170</td>\n",
       "      <td>Privat</td>\n",
       "    </tr>\n",
       "  </tbody>\n",
       "</table>\n",
       "<p>2 rows × 23 columns</p>\n",
       "</div>"
      ],
      "text/plain": [
       "   CodeInsee CodePostal_x Commune_x Département     Région            Statut  \\\n",
       "0      33119        33150     CENON     GIRONDE  AQUITAINE  Chef-lieu canton   \n",
       "1      33119        33150     CENON     GIRONDE  AQUITAINE  Chef-lieu canton   \n",
       "\n",
       "   Altitude Moyenne  Superficie  Population  Code Commune  ...  Code Région  \\\n",
       "0                46         571        22.2         36350  ...           33   \n",
       "1                46         571        22.2         36350  ...           33   \n",
       "\n",
       "                       Postalcode  Commune_y CodePostal_y Codeinsee  \\\n",
       "0  Impasse Queyries - 33150 Cenon      CENON        33150     33119   \n",
       "1  Impasse Queyries - 33150 Cenon      CENON        33150     33119   \n",
       "\n",
       "                Venue  Venue Category  Venue Latitude Venue Longitude  \\\n",
       "0  Gare SNCF de Cenon   Train Station        44.85640       -0.533513   \n",
       "1      Carrefour City     Supermarket        44.85581       -0.535170   \n",
       "\n",
       "  HomeboxYesandNo  \n",
       "0         Privat   \n",
       "1         Privat   \n",
       "\n",
       "[2 rows x 23 columns]"
      ]
     },
     "execution_count": 145,
     "metadata": {},
     "output_type": "execute_result"
    }
   ],
   "source": [
    "# Merge df_Postal_Insee and df_Postal_Postal bais on CodeInsee\n",
    "df_merge=df_Postal_Insee.merge(df_merge_Insee_Postal, left_on='CodeInsee', right_on='Codeinsee')\n",
    "\n",
    "# Store the result in synthesis\n",
    "df_merge.to_csv('synthesis.csv')\n",
    "df_merge[0:2]"
   ]
  },
  {
   "cell_type": "code",
   "execution_count": 32,
   "metadata": {},
   "outputs": [
    {
     "data": {
      "text/plain": [
       "(638, 23)"
      ]
     },
     "execution_count": 32,
     "metadata": {},
     "output_type": "execute_result"
    }
   ],
   "source": [
    "df_merge.shape"
   ]
  },
  {
   "cell_type": "markdown",
   "metadata": {},
   "source": [
    "#### https://towardsdatascience.com/histograms-and-density-plots-in-python-f6bda88f5ac0"
   ]
  },
  {
   "cell_type": "markdown",
   "metadata": {},
   "source": [
    "#### Density Plot and Histogram of all superficie"
   ]
  },
  {
   "cell_type": "code",
   "execution_count": 27,
   "metadata": {
    "scrolled": true
   },
   "outputs": [],
   "source": [
    "df_merge = pd.read_csv('synthesis.csv')"
   ]
  },
  {
   "cell_type": "code",
   "execution_count": 51,
   "metadata": {},
   "outputs": [
    {
     "data": {
      "text/plain": [
       "<matplotlib.axes._subplots.AxesSubplot at 0x7f07d0593be0>"
      ]
     },
     "execution_count": 51,
     "metadata": {},
     "output_type": "execute_result"
    },
    {
     "data": {
      "image/png": "[encoded data removed]",
      "text/plain": [
       "<Figure size 432x288 with 1 Axes>"
      ]
     },
     "metadata": {
      "needs_background": "light"
     },
     "output_type": "display_data"
    }
   ],
   "source": [
    "# Density Plot and Histogram of all superficie\n",
    "sns.distplot(df_merge['Superficie'], hist=True, kde=True, \n",
    "             bins=int(16/1), color = 'darkblue', \n",
    "             hist_kws={'edgecolor':'black'},\n",
    "             kde_kws={'linewidth': 3})"
   ]
  },
  {
   "cell_type": "markdown",
   "metadata": {},
   "source": [
    "#### Density Plot and Histogram of all superficie"
   ]
  },
  {
   "cell_type": "code",
   "execution_count": 52,
   "metadata": {},
   "outputs": [
    {
     "data": {
      "text/plain": [
       "<matplotlib.axes._subplots.AxesSubplot at 0x7f07d051f9e8>"
      ]
     },
     "execution_count": 52,
     "metadata": {},
     "output_type": "execute_result"
    },
    {
     "data": {
      "image/png": "[encoded data removed]",
      "text/plain": [
       "<Figure size 432x288 with 1 Axes>"
      ]
     },
     "metadata": {
      "needs_background": "light"
     },
     "output_type": "display_data"
    }
   ],
   "source": [
    "sns.distplot(df_merge['Population'], hist=True, kde=True, \n",
    "             bins=int(16/1), color = 'red', \n",
    "             hist_kws={'edgecolor':'black'},\n",
    "             kde_kws={'linewidth': 3})"
   ]
  },
  {
   "cell_type": "markdown",
   "metadata": {},
   "source": [
    "# Create dataframe with binary value"
   ]
  },
  {
   "cell_type": "code",
   "execution_count": 61,
   "metadata": {},
   "outputs": [
    {
     "data": {
      "text/html": [
       "<div>\n",
       "<style scoped>\n",
       "    .dataframe tbody tr th:only-of-type {\n",
       "        vertical-align: middle;\n",
       "    }\n",
       "\n",
       "    .dataframe tbody tr th {\n",
       "        vertical-align: top;\n",
       "    }\n",
       "\n",
       "    .dataframe thead th {\n",
       "        text-align: right;\n",
       "    }\n",
       "</style>\n",
       "<table border=\"1\" class=\"dataframe\">\n",
       "  <thead>\n",
       "    <tr style=\"text-align: right;\">\n",
       "      <th></th>\n",
       "      <th>CodeInsee</th>\n",
       "      <th>Superficie</th>\n",
       "      <th>Population</th>\n",
       "      <th>Venue Category</th>\n",
       "      <th>Venue Latitude</th>\n",
       "      <th>Venue Longitude</th>\n",
       "    </tr>\n",
       "  </thead>\n",
       "  <tbody>\n",
       "    <tr>\n",
       "      <th>0</th>\n",
       "      <td>33119</td>\n",
       "      <td>571</td>\n",
       "      <td>22.2</td>\n",
       "      <td>Train Station</td>\n",
       "      <td>44.856400</td>\n",
       "      <td>-0.533513</td>\n",
       "    </tr>\n",
       "    <tr>\n",
       "      <th>1</th>\n",
       "      <td>33119</td>\n",
       "      <td>571</td>\n",
       "      <td>22.2</td>\n",
       "      <td>Supermarket</td>\n",
       "      <td>44.855810</td>\n",
       "      <td>-0.535170</td>\n",
       "    </tr>\n",
       "    <tr>\n",
       "      <th>2</th>\n",
       "      <td>33119</td>\n",
       "      <td>571</td>\n",
       "      <td>22.2</td>\n",
       "      <td>Tram Station</td>\n",
       "      <td>44.856002</td>\n",
       "      <td>-0.534191</td>\n",
       "    </tr>\n",
       "  </tbody>\n",
       "</table>\n",
       "</div>"
      ],
      "text/plain": [
       "   CodeInsee  Superficie  Population Venue Category  Venue Latitude  \\\n",
       "0      33119         571        22.2  Train Station       44.856400   \n",
       "1      33119         571        22.2    Supermarket       44.855810   \n",
       "2      33119         571        22.2   Tram Station       44.856002   \n",
       "\n",
       "   Venue Longitude  \n",
       "0        -0.533513  \n",
       "1        -0.535170  \n",
       "2        -0.534191  "
      ]
     },
     "execution_count": 61,
     "metadata": {},
     "output_type": "execute_result"
    }
   ],
   "source": [
    "# Call the data\n",
    "df_merge = pd.read_csv('synthesis.csv')\n",
    "\n",
    "# create dataframe with two parameters Superficie & density\n",
    "dfsupdens=df_merge[['CodeInsee','Superficie', 'Population', 'Venue Category','Venue Latitude','Venue Longitude']]\n",
    "dfsupdens[0:3]"
   ]
  },
  {
   "cell_type": "code",
   "execution_count": 68,
   "metadata": {},
   "outputs": [
    {
     "data": {
      "text/plain": [
       "(638, 6)"
      ]
     },
     "execution_count": 68,
     "metadata": {},
     "output_type": "execute_result"
    }
   ],
   "source": [
    "dfsupdens.shape"
   ]
  },
  {
   "cell_type": "code",
   "execution_count": 100,
   "metadata": {},
   "outputs": [],
   "source": [
    "df_merge2 = pd.read_csv('synthesis.csv')"
   ]
  },
  {
   "cell_type": "code",
   "execution_count": 101,
   "metadata": {},
   "outputs": [
    {
     "data": {
      "text/plain": [
       "(638, 24)"
      ]
     },
     "execution_count": 101,
     "metadata": {},
     "output_type": "execute_result"
    }
   ],
   "source": [
    "df_merge2.shape"
   ]
  },
  {
   "cell_type": "code",
   "execution_count": 102,
   "metadata": {},
   "outputs": [
    {
     "data": {
      "text/html": [
       "<div>\n",
       "<style scoped>\n",
       "    .dataframe tbody tr th:only-of-type {\n",
       "        vertical-align: middle;\n",
       "    }\n",
       "\n",
       "    .dataframe tbody tr th {\n",
       "        vertical-align: top;\n",
       "    }\n",
       "\n",
       "    .dataframe thead th {\n",
       "        text-align: right;\n",
       "    }\n",
       "</style>\n",
       "<table border=\"1\" class=\"dataframe\">\n",
       "  <thead>\n",
       "    <tr style=\"text-align: right;\">\n",
       "      <th></th>\n",
       "      <th>Unnamed: 0</th>\n",
       "      <th>CodeInsee</th>\n",
       "      <th>CodePostal_x</th>\n",
       "      <th>Commune_x</th>\n",
       "      <th>Département</th>\n",
       "      <th>Région</th>\n",
       "      <th>Statut</th>\n",
       "      <th>Altitude Moyenne</th>\n",
       "      <th>Superficie</th>\n",
       "      <th>Population</th>\n",
       "      <th>...</th>\n",
       "      <th>Code Région</th>\n",
       "      <th>Postalcode</th>\n",
       "      <th>Commune_y</th>\n",
       "      <th>CodePostal_y</th>\n",
       "      <th>Codeinsee</th>\n",
       "      <th>Venue</th>\n",
       "      <th>Venue Category</th>\n",
       "      <th>Venue Latitude</th>\n",
       "      <th>Venue Longitude</th>\n",
       "      <th>HomeboxYesandNo</th>\n",
       "    </tr>\n",
       "  </thead>\n",
       "  <tbody>\n",
       "    <tr>\n",
       "      <th>0</th>\n",
       "      <td>0</td>\n",
       "      <td>33119</td>\n",
       "      <td>33150</td>\n",
       "      <td>CENON</td>\n",
       "      <td>GIRONDE</td>\n",
       "      <td>AQUITAINE</td>\n",
       "      <td>Chef-lieu canton</td>\n",
       "      <td>46</td>\n",
       "      <td>571</td>\n",
       "      <td>22.2</td>\n",
       "      <td>...</td>\n",
       "      <td>33</td>\n",
       "      <td>Impasse Queyries - 33150 Cenon</td>\n",
       "      <td>CENON</td>\n",
       "      <td>33150</td>\n",
       "      <td>33119</td>\n",
       "      <td>Gare SNCF de Cenon</td>\n",
       "      <td>Train Station</td>\n",
       "      <td>44.8564</td>\n",
       "      <td>-0.533513</td>\n",
       "      <td>Privat</td>\n",
       "    </tr>\n",
       "  </tbody>\n",
       "</table>\n",
       "<p>1 rows × 24 columns</p>\n",
       "</div>"
      ],
      "text/plain": [
       "   Unnamed: 0  CodeInsee CodePostal_x Commune_x Département     Région  \\\n",
       "0           0      33119        33150     CENON     GIRONDE  AQUITAINE   \n",
       "\n",
       "             Statut  Altitude Moyenne  Superficie  Population  ...  \\\n",
       "0  Chef-lieu canton                46         571        22.2  ...   \n",
       "\n",
       "   Code Région                      Postalcode  Commune_y  CodePostal_y  \\\n",
       "0           33  Impasse Queyries - 33150 Cenon      CENON         33150   \n",
       "\n",
       "   Codeinsee               Venue Venue Category  Venue Latitude  \\\n",
       "0      33119  Gare SNCF de Cenon  Train Station         44.8564   \n",
       "\n",
       "   Venue Longitude HomeboxYesandNo  \n",
       "0        -0.533513         Privat   \n",
       "\n",
       "[1 rows x 24 columns]"
      ]
     },
     "execution_count": 102,
     "metadata": {},
     "output_type": "execute_result"
    }
   ],
   "source": [
    "df_merge2[:1]"
   ]
  },
  {
   "cell_type": "code",
   "execution_count": 103,
   "metadata": {},
   "outputs": [],
   "source": [
    "# Drop duplicate row based on column Venue\n",
    "df_merge_Insee_Postal = df_merge_Insee_Postal.drop_duplicates(subset='Venue', keep=\"first\")"
   ]
  },
  {
   "cell_type": "code",
   "execution_count": 161,
   "metadata": {},
   "outputs": [
    {
     "data": {
      "text/plain": [
       "(226, 5)"
      ]
     },
     "execution_count": 161,
     "metadata": {},
     "output_type": "execute_result"
    }
   ],
   "source": [
    "df2.shape"
   ]
  },
  {
   "cell_type": "code",
   "execution_count": 108,
   "metadata": {},
   "outputs": [
    {
     "data": {
      "text/html": [
       "<div>\n",
       "<style scoped>\n",
       "    .dataframe tbody tr th:only-of-type {\n",
       "        vertical-align: middle;\n",
       "    }\n",
       "\n",
       "    .dataframe tbody tr th {\n",
       "        vertical-align: top;\n",
       "    }\n",
       "\n",
       "    .dataframe thead th {\n",
       "        text-align: right;\n",
       "    }\n",
       "</style>\n",
       "<table border=\"1\" class=\"dataframe\">\n",
       "  <thead>\n",
       "    <tr style=\"text-align: right;\">\n",
       "      <th></th>\n",
       "      <th>Postalcode</th>\n",
       "      <th>Homeboxyes&amp;no</th>\n",
       "      <th>Code Postal</th>\n",
       "      <th>latitude</th>\n",
       "      <th>longitude</th>\n",
       "    </tr>\n",
       "  </thead>\n",
       "  <tbody>\n",
       "    <tr>\n",
       "      <th>0</th>\n",
       "      <td>11 rue Piccini 75016 Paris</td>\n",
       "      <td>Homebox</td>\n",
       "      <td>75016</td>\n",
       "      <td>48.874285</td>\n",
       "      <td>2.284862</td>\n",
       "    </tr>\n",
       "  </tbody>\n",
       "</table>\n",
       "</div>"
      ],
      "text/plain": [
       "                    Postalcode Homeboxyes&no  Code Postal   latitude  \\\n",
       "0   11 rue Piccini 75016 Paris      Homebox         75016  48.874285   \n",
       "\n",
       "   longitude  \n",
       "0   2.284862  "
      ]
     },
     "execution_count": 108,
     "metadata": {},
     "output_type": "execute_result"
    }
   ],
   "source": [
    "df2[:1]"
   ]
  },
  {
   "cell_type": "code",
   "execution_count": 107,
   "metadata": {},
   "outputs": [
    {
     "data": {
      "text/html": [
       "<div>\n",
       "<style scoped>\n",
       "    .dataframe tbody tr th:only-of-type {\n",
       "        vertical-align: middle;\n",
       "    }\n",
       "\n",
       "    .dataframe tbody tr th {\n",
       "        vertical-align: top;\n",
       "    }\n",
       "\n",
       "    .dataframe thead th {\n",
       "        text-align: right;\n",
       "    }\n",
       "</style>\n",
       "<table border=\"1\" class=\"dataframe\">\n",
       "  <thead>\n",
       "    <tr style=\"text-align: right;\">\n",
       "      <th></th>\n",
       "      <th>Unnamed: 0</th>\n",
       "      <th>CodePostal</th>\n",
       "      <th>Count_x</th>\n",
       "      <th>Unnamed: 0.1</th>\n",
       "      <th>Count_y</th>\n",
       "      <th>CodeInsee</th>\n",
       "      <th>Nom_commune</th>\n",
       "      <th>Ligne_5</th>\n",
       "      <th>Libellé_d_acheminement</th>\n",
       "      <th>Libell_d_acheminement</th>\n",
       "      <th>coordonnees_gps</th>\n",
       "      <th>Unnamed: 7</th>\n",
       "    </tr>\n",
       "  </thead>\n",
       "  <tbody>\n",
       "    <tr>\n",
       "      <th>0</th>\n",
       "      <td>0</td>\n",
       "      <td>75017</td>\n",
       "      <td>13</td>\n",
       "      <td>0</td>\n",
       "      <td>13</td>\n",
       "      <td>75117</td>\n",
       "      <td>PARIS 17</td>\n",
       "      <td>NaN</td>\n",
       "      <td>PARIS</td>\n",
       "      <td>PARIS</td>\n",
       "      <td>48.887337</td>\n",
       "      <td>2.307486</td>\n",
       "    </tr>\n",
       "    <tr>\n",
       "      <th>1</th>\n",
       "      <td>1</td>\n",
       "      <td>75014</td>\n",
       "      <td>9</td>\n",
       "      <td>1</td>\n",
       "      <td>9</td>\n",
       "      <td>75114</td>\n",
       "      <td>PARIS 14</td>\n",
       "      <td>NaN</td>\n",
       "      <td>PARIS</td>\n",
       "      <td>PARIS</td>\n",
       "      <td>48.828993</td>\n",
       "      <td>2.327101</td>\n",
       "    </tr>\n",
       "  </tbody>\n",
       "</table>\n",
       "</div>"
      ],
      "text/plain": [
       "   Unnamed: 0  CodePostal  Count_x  Unnamed: 0.1  Count_y  CodeInsee  \\\n",
       "0           0       75017       13             0       13      75117   \n",
       "1           1       75014        9             1        9      75114   \n",
       "\n",
       "  Nom_commune Ligne_5 Libellé_d_acheminement Libell_d_acheminement  \\\n",
       "0    PARIS 17     NaN                  PARIS                 PARIS   \n",
       "1    PARIS 14     NaN                  PARIS                 PARIS   \n",
       "\n",
       "   coordonnees_gps  Unnamed: 7  \n",
       "0        48.887337    2.307486  \n",
       "1        48.828993    2.327101  "
      ]
     },
     "execution_count": 107,
     "metadata": {},
     "output_type": "execute_result"
    }
   ],
   "source": [
    "# Call the dataframe ode Postal_Insee.csv\n",
    "df_CorrespondanceInseeetPostal[:2]"
   ]
  },
  {
   "cell_type": "code",
   "execution_count": 163,
   "metadata": {},
   "outputs": [
    {
     "data": {
      "text/plain": [
       "(5392, 51)"
      ]
     },
     "execution_count": 163,
     "metadata": {},
     "output_type": "execute_result"
    }
   ],
   "source": [
    "df2.shape"
   ]
  },
  {
   "cell_type": "code",
   "execution_count": null,
   "metadata": {},
   "outputs": [],
   "source": [
    "dfSalaire['pricesMatch?'] = np.where(dfSalaire['CodeInsee'] == df2['CodeInsee'], 'True', 'False')  #create new column in df1 to check if prices match\n",
    "print (df1)"
   ]
  },
  {
   "cell_type": "markdown",
   "metadata": {},
   "source": [
    "# Start to farmat the Dataframe"
   ]
  },
  {
   "cell_type": "code",
   "execution_count": 69,
   "metadata": {
    "scrolled": true
   },
   "outputs": [
    {
     "data": {
      "text/html": [
       "<div>\n",
       "<style scoped>\n",
       "    .dataframe tbody tr th:only-of-type {\n",
       "        vertical-align: middle;\n",
       "    }\n",
       "\n",
       "    .dataframe tbody tr th {\n",
       "        vertical-align: top;\n",
       "    }\n",
       "\n",
       "    .dataframe thead th {\n",
       "        text-align: right;\n",
       "    }\n",
       "</style>\n",
       "<table border=\"1\" class=\"dataframe\">\n",
       "  <thead>\n",
       "    <tr style=\"text-align: right;\">\n",
       "      <th></th>\n",
       "      <th>Unnamed: 0</th>\n",
       "      <th>CodeInsee</th>\n",
       "      <th>CodePostal_x</th>\n",
       "      <th>Commune_x</th>\n",
       "      <th>Département</th>\n",
       "      <th>Région</th>\n",
       "      <th>Statut</th>\n",
       "      <th>Altitude Moyenne</th>\n",
       "      <th>Superficie</th>\n",
       "      <th>Population</th>\n",
       "      <th>...</th>\n",
       "      <th>Code Région</th>\n",
       "      <th>Postalcode</th>\n",
       "      <th>Commune_y</th>\n",
       "      <th>CodePostal_y</th>\n",
       "      <th>Codeinsee</th>\n",
       "      <th>Venue</th>\n",
       "      <th>Venue Category</th>\n",
       "      <th>Venue Latitude</th>\n",
       "      <th>Venue Longitude</th>\n",
       "      <th>HomeboxYesandNo</th>\n",
       "    </tr>\n",
       "  </thead>\n",
       "  <tbody>\n",
       "    <tr>\n",
       "      <th>0</th>\n",
       "      <td>0</td>\n",
       "      <td>33119</td>\n",
       "      <td>33150</td>\n",
       "      <td>CENON</td>\n",
       "      <td>GIRONDE</td>\n",
       "      <td>AQUITAINE</td>\n",
       "      <td>Chef-lieu canton</td>\n",
       "      <td>46</td>\n",
       "      <td>571</td>\n",
       "      <td>22.2</td>\n",
       "      <td>...</td>\n",
       "      <td>33</td>\n",
       "      <td>Impasse Queyries - 33150 Cenon</td>\n",
       "      <td>CENON</td>\n",
       "      <td>33150</td>\n",
       "      <td>33119</td>\n",
       "      <td>Gare SNCF de Cenon</td>\n",
       "      <td>Train Station</td>\n",
       "      <td>44.85640</td>\n",
       "      <td>-0.533513</td>\n",
       "      <td>Privat</td>\n",
       "    </tr>\n",
       "    <tr>\n",
       "      <th>1</th>\n",
       "      <td>1</td>\n",
       "      <td>33119</td>\n",
       "      <td>33150</td>\n",
       "      <td>CENON</td>\n",
       "      <td>GIRONDE</td>\n",
       "      <td>AQUITAINE</td>\n",
       "      <td>Chef-lieu canton</td>\n",
       "      <td>46</td>\n",
       "      <td>571</td>\n",
       "      <td>22.2</td>\n",
       "      <td>...</td>\n",
       "      <td>33</td>\n",
       "      <td>Impasse Queyries - 33150 Cenon</td>\n",
       "      <td>CENON</td>\n",
       "      <td>33150</td>\n",
       "      <td>33119</td>\n",
       "      <td>Carrefour City</td>\n",
       "      <td>Supermarket</td>\n",
       "      <td>44.85581</td>\n",
       "      <td>-0.535170</td>\n",
       "      <td>Privat</td>\n",
       "    </tr>\n",
       "  </tbody>\n",
       "</table>\n",
       "<p>2 rows × 24 columns</p>\n",
       "</div>"
      ],
      "text/plain": [
       "   Unnamed: 0  CodeInsee CodePostal_x Commune_x Département     Région  \\\n",
       "0           0      33119        33150     CENON     GIRONDE  AQUITAINE   \n",
       "1           1      33119        33150     CENON     GIRONDE  AQUITAINE   \n",
       "\n",
       "             Statut  Altitude Moyenne  Superficie  Population  ...  \\\n",
       "0  Chef-lieu canton                46         571        22.2  ...   \n",
       "1  Chef-lieu canton                46         571        22.2  ...   \n",
       "\n",
       "   Code Région                      Postalcode  Commune_y  CodePostal_y  \\\n",
       "0           33  Impasse Queyries - 33150 Cenon      CENON         33150   \n",
       "1           33  Impasse Queyries - 33150 Cenon      CENON         33150   \n",
       "\n",
       "   Codeinsee               Venue Venue Category  Venue Latitude  \\\n",
       "0      33119  Gare SNCF de Cenon  Train Station        44.85640   \n",
       "1      33119      Carrefour City    Supermarket        44.85581   \n",
       "\n",
       "   Venue Longitude HomeboxYesandNo  \n",
       "0        -0.533513         Privat   \n",
       "1        -0.535170         Privat   \n",
       "\n",
       "[2 rows x 24 columns]"
      ]
     },
     "execution_count": 69,
     "metadata": {},
     "output_type": "execute_result"
    }
   ],
   "source": [
    "df_merge[:2]"
   ]
  },
  {
   "cell_type": "code",
   "execution_count": 26,
   "metadata": {},
   "outputs": [
    {
     "data": {
      "text/html": [
       "<div>\n",
       "<style scoped>\n",
       "    .dataframe tbody tr th:only-of-type {\n",
       "        vertical-align: middle;\n",
       "    }\n",
       "\n",
       "    .dataframe tbody tr th {\n",
       "        vertical-align: top;\n",
       "    }\n",
       "\n",
       "    .dataframe thead th {\n",
       "        text-align: right;\n",
       "    }\n",
       "</style>\n",
       "<table border=\"1\" class=\"dataframe\">\n",
       "  <thead>\n",
       "    <tr style=\"text-align: right;\">\n",
       "      <th></th>\n",
       "      <th>Postalcode</th>\n",
       "      <th>CodeInsee</th>\n",
       "      <th>Venue</th>\n",
       "      <th>Venue Category</th>\n",
       "      <th>Superficie</th>\n",
       "      <th>Population</th>\n",
       "      <th>HomeboxYesandNo</th>\n",
       "      <th>Venue Latitude</th>\n",
       "      <th>Venue Longitude</th>\n",
       "    </tr>\n",
       "  </thead>\n",
       "  <tbody>\n",
       "    <tr>\n",
       "      <th>18</th>\n",
       "      <td>Rue Alberti - 34970 Lattes</td>\n",
       "      <td>34129</td>\n",
       "      <td>Melrose</td>\n",
       "      <td>Restaurant</td>\n",
       "      <td>3230</td>\n",
       "      <td>15.8</td>\n",
       "      <td>Privat</td>\n",
       "      <td>43.573256</td>\n",
       "      <td>3.899740</td>\n",
       "    </tr>\n",
       "    <tr>\n",
       "      <th>22</th>\n",
       "      <td>48 rue de Seine 92700 Colombes</td>\n",
       "      <td>92025</td>\n",
       "      <td>Le K.re</td>\n",
       "      <td>Restaurant</td>\n",
       "      <td>778</td>\n",
       "      <td>84.6</td>\n",
       "      <td>Homebox</td>\n",
       "      <td>48.923294</td>\n",
       "      <td>2.222994</td>\n",
       "    </tr>\n",
       "  </tbody>\n",
       "</table>\n",
       "</div>"
      ],
      "text/plain": [
       "                         Postalcode  CodeInsee    Venue Venue Category  \\\n",
       "18       Rue Alberti - 34970 Lattes      34129  Melrose     Restaurant   \n",
       "22   48 rue de Seine 92700 Colombes      92025  Le K.re     Restaurant   \n",
       "\n",
       "    Superficie  Population HomeboxYesandNo  Venue Latitude  Venue Longitude  \n",
       "18        3230        15.8         Privat        43.573256         3.899740  \n",
       "22         778        84.6        Homebox        48.923294         2.222994  "
      ]
     },
     "execution_count": 26,
     "metadata": {},
     "output_type": "execute_result"
    }
   ],
   "source": [
    "# Select Rows based on any of the multiple values in column\n",
    "subsetdfmerge=[]\n",
    "subsetdfmerge= df_merge[df_merge['Venue Category'].isin(['French Restaurant', 'Hotel', 'Fast Food Restaurant', 'Restaurant', 'Italian Restaurant', 'Cafeteria', 'Pizza Place', 'Seafood Restaurant', 'onvenience Store','Garden' ])]\n",
    "\n",
    "# Create a new Dataframe\n",
    "subsetdfmerge = subsetdfmerge[['Postalcode','CodeInsee','Venue','Venue Category','Superficie','Population','HomeboxYesandNo','Venue Latitude','Venue Longitude']]\n",
    "\n",
    "#Store the data in Dataframe\n",
    "subsetdfmerge.to_csv('subsetdfmerge')\n",
    "subsetdfmerge[:2]"
   ]
  },
  {
   "cell_type": "code",
   "execution_count": 71,
   "metadata": {},
   "outputs": [
    {
     "data": {
      "text/plain": [
       "(182, 7)"
      ]
     },
     "execution_count": 71,
     "metadata": {},
     "output_type": "execute_result"
    }
   ],
   "source": [
    "subsetdfmerge.shape"
   ]
  },
  {
   "cell_type": "markdown",
   "metadata": {},
   "source": [
    "# Selection necesseray parameters"
   ]
  },
  {
   "cell_type": "code",
   "execution_count": 67,
   "metadata": {
    "scrolled": true
   },
   "outputs": [],
   "source": [
    "# Create a new dataframe with binary value for Superficie\n",
    "subsetdfmerge['newsuperficie'] = np.where(subsetdfmerge['Superficie']<=750, '1', '0')\n",
    "\n",
    "#Create a new dataframe with binary for value population\n",
    "subsetdfmerge['newspopulation'] = np.where(subsetdfmerge['Population']<=50, '1', '0')"
   ]
  },
  {
   "cell_type": "code",
   "execution_count": 54,
   "metadata": {},
   "outputs": [
    {
     "data": {
      "text/plain": [
       "(182, 11)"
      ]
     },
     "execution_count": 54,
     "metadata": {},
     "output_type": "execute_result"
    }
   ],
   "source": [
    "subsetdfmerge.shape"
   ]
  },
  {
   "cell_type": "code",
   "execution_count": 74,
   "metadata": {},
   "outputs": [],
   "source": [
    "# Create a function, wich transform string into dummy\n",
    "def score_to_numeric(x):\n",
    "    if x=='Hotel':\n",
    "        return 1\n",
    "    if x=='French Restaurant':\n",
    "        return 1\n",
    "    if x=='Fast Food Restaurant':\n",
    "        return 1\n",
    "    if x=='Hotel':\n",
    "        return 1\n",
    "    if x=='Bakery':\n",
    "        return 1\n",
    "    if x=='Restaurant':\n",
    "        return 0\n",
    "    if x=='Pizza Place':\n",
    "        return 0\n",
    "    if x=='Seafood Restaurant':\n",
    "        return 0\n",
    "    if x=='Convenience Store':\n",
    "        return 0\n",
    "    if x=='Garden':\n",
    "        return 0"
   ]
  },
  {
   "cell_type": "code",
   "execution_count": 76,
   "metadata": {
    "scrolled": false
   },
   "outputs": [
    {
     "data": {
      "text/html": [
       "<div>\n",
       "<style scoped>\n",
       "    .dataframe tbody tr th:only-of-type {\n",
       "        vertical-align: middle;\n",
       "    }\n",
       "\n",
       "    .dataframe tbody tr th {\n",
       "        vertical-align: top;\n",
       "    }\n",
       "\n",
       "    .dataframe thead th {\n",
       "        text-align: right;\n",
       "    }\n",
       "</style>\n",
       "<table border=\"1\" class=\"dataframe\">\n",
       "  <thead>\n",
       "    <tr style=\"text-align: right;\">\n",
       "      <th></th>\n",
       "      <th>Postalcode</th>\n",
       "      <th>CodeInsee</th>\n",
       "      <th>Venue Category</th>\n",
       "      <th>newsuperficie</th>\n",
       "      <th>newspopulation</th>\n",
       "      <th>scorevenue</th>\n",
       "      <th>Venue Latitude</th>\n",
       "      <th>Venue Longitude</th>\n",
       "    </tr>\n",
       "  </thead>\n",
       "  <tbody>\n",
       "    <tr>\n",
       "      <th>18</th>\n",
       "      <td>Rue Alberti - 34970 Lattes</td>\n",
       "      <td>34129</td>\n",
       "      <td>Restaurant</td>\n",
       "      <td>0</td>\n",
       "      <td>1</td>\n",
       "      <td>0.0</td>\n",
       "      <td>43.573256</td>\n",
       "      <td>3.899740</td>\n",
       "    </tr>\n",
       "    <tr>\n",
       "      <th>22</th>\n",
       "      <td>48 rue de Seine 92700 Colombes</td>\n",
       "      <td>92025</td>\n",
       "      <td>Restaurant</td>\n",
       "      <td>0</td>\n",
       "      <td>0</td>\n",
       "      <td>0.0</td>\n",
       "      <td>48.923294</td>\n",
       "      <td>2.222994</td>\n",
       "    </tr>\n",
       "  </tbody>\n",
       "</table>\n",
       "</div>"
      ],
      "text/plain": [
       "                         Postalcode  CodeInsee Venue Category newsuperficie  \\\n",
       "18       Rue Alberti - 34970 Lattes      34129     Restaurant             0   \n",
       "22   48 rue de Seine 92700 Colombes      92025     Restaurant             0   \n",
       "\n",
       "   newspopulation  scorevenue  Venue Latitude  Venue Longitude  \n",
       "18              1         0.0       43.573256         3.899740  \n",
       "22              0         0.0       48.923294         2.222994  "
      ]
     },
     "execution_count": 76,
     "metadata": {},
     "output_type": "execute_result"
    }
   ],
   "source": [
    "subsetbinair =[]\n",
    "subsetdfmerge['scorevenue'] = subsetdfmerge['Venue Category'].apply(score_to_numeric)\n",
    "\n",
    "# Create a new Dataframe with only binair value\n",
    "subsetbinair=subsetdfmerge[['Postalcode','CodeInsee','Venue Category','newsuperficie','newspopulation','scorevenue','Venue Latitude','Venue Longitude']]\n",
    "\n",
    "# Store the new dataframe\n",
    "subsetbinair.to_csv('subsetbinair')\n",
    "subsetbinair[:2]"
   ]
  },
  {
   "cell_type": "code",
   "execution_count": 8,
   "metadata": {},
   "outputs": [],
   "source": [
    "subsetbinair=pd.read_csv('subsetbinair')"
   ]
  },
  {
   "cell_type": "code",
   "execution_count": 88,
   "metadata": {},
   "outputs": [],
   "source": [
    "# Create function for decision\n",
    "def score_to_numeric(x):\n",
    "    if x== '1':\n",
    "        return 0\n",
    "    if x=='2':\n",
    "        return 1\n",
    "    if x=='3':\n",
    "        return 1"
   ]
  },
  {
   "cell_type": "code",
   "execution_count": 46,
   "metadata": {},
   "outputs": [],
   "source": [
    "# Store the dataframe in the new name\n",
    "dfsupdens.to_csv('dfsupdens')"
   ]
  },
  {
   "cell_type": "code",
   "execution_count": 47,
   "metadata": {},
   "outputs": [
    {
     "data": {
      "text/html": [
       "<div>\n",
       "<style scoped>\n",
       "    .dataframe tbody tr th:only-of-type {\n",
       "        vertical-align: middle;\n",
       "    }\n",
       "\n",
       "    .dataframe tbody tr th {\n",
       "        vertical-align: top;\n",
       "    }\n",
       "\n",
       "    .dataframe thead th {\n",
       "        text-align: right;\n",
       "    }\n",
       "</style>\n",
       "<table border=\"1\" class=\"dataframe\">\n",
       "  <thead>\n",
       "    <tr style=\"text-align: right;\">\n",
       "      <th></th>\n",
       "      <th>CodeInsee</th>\n",
       "      <th>newsuperficie</th>\n",
       "      <th>newspopulation</th>\n",
       "    </tr>\n",
       "  </thead>\n",
       "  <tbody>\n",
       "    <tr>\n",
       "      <th>0</th>\n",
       "      <td>33119</td>\n",
       "      <td>1</td>\n",
       "      <td>1</td>\n",
       "    </tr>\n",
       "    <tr>\n",
       "      <th>1</th>\n",
       "      <td>33119</td>\n",
       "      <td>1</td>\n",
       "      <td>1</td>\n",
       "    </tr>\n",
       "  </tbody>\n",
       "</table>\n",
       "</div>"
      ],
      "text/plain": [
       "   CodeInsee  newsuperficie  newspopulation\n",
       "0      33119              1               1\n",
       "1      33119              1               1"
      ]
     },
     "execution_count": 47,
     "metadata": {},
     "output_type": "execute_result"
    }
   ],
   "source": [
    "#Call de dataframe dfsupends\n",
    "dfsupends =pd.read_csv('dfsupdens')\n",
    "\n",
    "#Drop the Coll Unnamed: 0, Superficie, Population\n",
    "dfsupends=dfsupends.drop(['Unnamed: 0', 'Superficie','Population'], axis=1 )\n",
    "\n",
    "dfsupends[:2]"
   ]
  }
 ],
 "metadata": {
  "kernelspec": {
   "display_name": "Python 3",
   "language": "python",
   "name": "python3"
  },
  "language_info": {
   "codemirror_mode": {
    "name": "ipython",
    "version": 3
   },
   "file_extension": ".py",
   "mimetype": "text/x-python",
   "name": "python",
   "nbconvert_exporter": "python",
   "pygments_lexer": "ipython3",
   "version": "3.7.3"
  }
 },
 "nbformat": 4,
 "nbformat_minor": 2
}
