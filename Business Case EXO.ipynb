{
 "cells": [
  {
   "cell_type": "markdown",
   "metadata": {},
   "source": [
    "# Business case\n",
    "\n",
    "### Find the best place to\n",
    " make a business Investmantin france  \n",
    " (PARIS)"
   ]
  },
  {
   "cell_type": "markdown",
   "metadata": {},
   "source": [
    "## EXECUTIVE SUMMARY"
   ]
  },
  {
   "attachments": {},
   "cell_type": "markdown",
   "metadata": {},
   "source": [
    "### Problem\n",
    "#### Decision to make an investment is always difficult. \n",
    "▪  **Paris is a very competitve market** place and take a decision to lounch a new business in paris should be take with data.  \n",
    "▪  There is also a lot a data present for the only city of paris and those datas need to be clean to provide better   understanding of PARIS  \n",
    "\n",
    "### Strategy\n",
    "### Analyse Paris area and Make a recommendation for a business  \n",
    "▪  **Propose a model**, which can analyse Paris Business and tell you what kind of business you can make  \n",
    "▪  Analyse Paris data, make a clean up and Make a recommendation for the kind a business that can be lauch in paris"
   ]
  },
  {
   "cell_type": "code",
   "execution_count": null,
   "metadata": {},
   "outputs": [],
   "source": []
  }
 ],
 "metadata": {
  "kernelspec": {
   "display_name": "Python 3",
   "language": "python",
   "name": "python3"
  },
  "language_info": {
   "codemirror_mode": {
    "name": "ipython",
    "version": 3
   },
   "file_extension": ".py",
   "mimetype": "text/x-python",
   "name": "python",
   "nbconvert_exporter": "python",
   "pygments_lexer": "ipython3",
   "version": "3.5.2"
  }
 },
 "nbformat": 4,
 "nbformat_minor": 2
}
