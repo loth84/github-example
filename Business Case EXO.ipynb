{
 "cells": [
  {
   "cell_type": "markdown",
   "metadata": {},
   "source": [
    "# Business case\n",
    "\n",
    "### Find the best place to\n",
    " make a business Investmantin france  \n",
    " (PARIS)"
   ]
  },
  {
   "cell_type": "markdown",
   "metadata": {},
   "source": [
    "## EXECUTIVE SUMMARY"
   ]
  },
  {
   "attachments": {},
   "cell_type": "markdown",
   "metadata": {},
   "source": [
    "### Problem\n",
    "#### Decision to make an investment is always difficult. \n",
    "▪  **Paris is a very competitve market** place and take a decision to lounch a new business in paris should be take with data.  \n",
    "▪  There is also a lot a data present for the only city of paris and those datas need to be clean to provide better   understanding of PARIS  \n",
    "\n",
    "### Strategy\n",
    "### Analyse Paris area and Make a recommendation for a business  \n",
    "▪  **Propose a model**, which can analyse Paris Business and tell you what kind of business you can make  \n",
    "▪  Analyse Paris data, make a clean up and Make a recommendation for the kind a business that can be lauch in paris"
   ]
  },
  {
   "cell_type": "markdown",
   "metadata": {},
   "source": [
    "# The Battle of Neighborhoods | Business Proposal | Introduction\n",
    "Introduction:\n",
    "\n",
    "The purpose of this Project is to help people in exploring better facilities around their neighborhood. It will help people making smart and efficient decision on selecting great neighborhood out of numbers of other neighborhoods in Scarborough, Toranto.\n",
    "\n",
    "Lots of people are migrating to various states of Canada and needed lots of research for good housing prices and reputated schools for their children. This project is for those people who are looking for better neighborhoods. For ease of accessing to Cafe, School, Super market, medical shops, grocery shops, mall, theatre, hospital, like minded people, etc.\n",
    "\n",
    "This Project aim to create an analysis of features for a people migrating to Scarborough to search a best neighborhood as a comparative analysis between neighborhoods. The features include median housing price and better school according to ratings, crime rates of that particular area, road connectivity, weather conditions, good management for emergency, water resources both freash and waste water and excrement conveyed in sewers and recreational facilities.\n",
    "\n",
    "It will help people to get awareness of the area and neighborhood before moving to a new city, state, country or place for their work or to start a new fresh life.\n",
    "Problem Which Tried to Solve:\n",
    "\n",
    "The major purpose of this project, is to suggest a better neighborhood in a new city for the person who are shiffting there. Social presence in society in terms of like minded people. Connectivity to the airport, bus stand, city center, markets and other daily needs things nearby.\n",
    "\n",
    "    Sorted list of house in terms of housing prices in a ascending or descending order\n",
    "    Sorted list of schools in terms of location, fees, rating and reviews\n",
    "\n",
    "The Location:\n",
    "\n",
    "Scarborough is a popular destination for new immigrants in Canada to reside. As a result, it is one of the most diverse and multicultural areas in the Greater Toronto Area, being home to various religious groups and places of worship. Although immigration has become a hot topic over the past few years with more governments seeking more restrictions on immigrants and refugees, the general trend of immigration into Canada has been one of on the rise.\n",
    "Foursquare API:\n",
    "\n",
    "This project would use Four-square API as its prime data gathering source as it has a database of millions of places, especially their places API which provides the ability to perform location search, location sharing and details about a business.\n",
    "Work Flow:\n",
    "\n",
    "Using credentials of Foursquare API features of near-by places of the neighborhoods would be mined. Due to http request limitations the number of places per neighborhood parameter would reasonably be set to 100 and the radius parameter would be set to 500.\n",
    "Clustering Approach:\n",
    "\n",
    "To compare the similarities of two cities, we decided to explore neighborhoods, segment them, and group them into clusters to find similar neighborhoods in a big city like New York and Toronto. To be able to do that, we need to cluster data which is a form of unsupervised machine learning: k-means clustering algorithm\n",
    "Libraries Which are Used to Develope the Project:\n",
    "\n",
    "Pandas: For creating and manipulating dataframes.\n",
    "\n",
    "Folium: Python visualization library would be used to visualize the neighborhoods cluster distribution of using interactive leaflet map.\n",
    "\n",
    "Scikit Learn: For importing k-means clustering.\n",
    "\n",
    "JSON: Library to handle JSON files.\n",
    "\n",
    "XML: To separate data from presentation and XML stores data in plain text format.\n",
    "\n",
    "Geocoder: To retrieve Location Data.\n",
    "\n",
    "Beautiful Soup and Requests: To scrap and library to handle http requests.\n",
    "\n",
    "Matplotlib: Python Plotting Module.\n"
   ]
  },
  {
   "cell_type": "code",
   "execution_count": 1,
   "metadata": {},
   "outputs": [
    {
     "ename": "SyntaxError",
     "evalue": "invalid syntax (<ipython-input-1-0a7cbc088bb6>, line 1)",
     "output_type": "error",
     "traceback": [
      "\u001b[0;36m  File \u001b[0;32m\"<ipython-input-1-0a7cbc088bb6>\"\u001b[0;36m, line \u001b[0;32m1\u001b[0m\n\u001b[0;31m    The Battle of Neighborhoods | Data Description\u001b[0m\n\u001b[0m             ^\u001b[0m\n\u001b[0;31mSyntaxError\u001b[0m\u001b[0;31m:\u001b[0m invalid syntax\n"
     ]
    }
   ],
   "source": [
    "\n",
    "The Battle of Neighborhoods | Data Description\n",
    "Data Description:\n",
    "\n",
    "Data Link: https://en.wikipedia.org/wiki/List_of_postal_codes_of_Canada:_M\n",
    "\n",
    "Will use Scarborough dataset which we scrapped from wikipedia on Week 3. Dataset consisting of latitude and longitude, zip codes.\n",
    "Foursquare API Data:\n",
    "\n",
    "We will need data about different venues in different neighborhoods of that specific borough. In order to gain that information we will use \"Foursquare\" locational information. Foursquare is a location data provider with information about all manner of venues and events within an area of interest. Such information includes venue names, locations, menus and even photos. As such, the foursquare location platform will be used as the sole data source since all the stated required information can be obtained through the API.\n",
    "\n",
    "After finding the list of neighborhoods, we then connect to the Foursquare API to gather information about venues inside each and every neighborhood. For each neighborhood, we have chosen the radius to be 100 meter.\n",
    "\n",
    "The data retrieved from Foursquare contained information of venues within a specified distance of the longitude and latitude of the postcodes. The information obtained per venue as follows:\n",
    "\n",
    "1. Neighborhood\n",
    "2. Neighborhood Latitude\n",
    "3. Neighborhood Longitude\n",
    "4. Venue\n",
    "5. Name of the venue e.g. the name of a store or restaurant\n",
    "6. Venue Latitude\n",
    "7. Venue Longitude\n",
    "8. Venue Category\n"
   ]
  }
 ],
 "metadata": {
  "kernelspec": {
   "display_name": "Python 3",
   "language": "python",
   "name": "python3"
  },
  "language_info": {
   "codemirror_mode": {
    "name": "ipython",
    "version": 3
   },
   "file_extension": ".py",
   "mimetype": "text/x-python",
   "name": "python",
   "nbconvert_exporter": "python",
   "pygments_lexer": "ipython3",
   "version": "3.5.2"
  }
 },
 "nbformat": 4,
 "nbformat_minor": 2
}
