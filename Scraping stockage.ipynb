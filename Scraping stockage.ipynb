{
 "cells": [
  {
   "cell_type": "code",
   "execution_count": 1,
   "metadata": {},
   "outputs": [],
   "source": [
    "################# \n",
    "#Import necessary package for pandas library \n",
    "###################### \n",
    "\n",
    "import pandas as pd\n",
    "import numpy as mp\n",
    "\n",
    "################# \n",
    "#Import necessary package for scraping \n",
    "######################\n",
    "\n",
    "from bs4 import BeautifulSoup\n",
    "import requests\n",
    "from requests import get \n",
    "import re"
   ]
  },
  {
   "cell_type": "markdown",
   "metadata": {},
   "source": [
    "### Get and format the url form the page"
   ]
  },
  {
   "cell_type": "code",
   "execution_count": 2,
   "metadata": {},
   "outputs": [],
   "source": [
    "url_home_box='https://www.homebox.fr/tous-nos-centres'# url from homebox\n",
    "result=requests.get(url_home_box) # Storr the url in the variable result\n",
    "#result.text[:500] # Show the first 1000 charactère for the link "
   ]
  },
  {
   "cell_type": "code",
   "execution_count": 3,
   "metadata": {},
   "outputs": [],
   "source": [
    "soup=BeautifulSoup(result.text, 'html.parser')\n",
    "#print(soup.prettify()[:500])"
   ]
  },
  {
   "cell_type": "code",
   "execution_count": 4,
   "metadata": {},
   "outputs": [],
   "source": [
    "home_box_contains=soup.find_all('div', class_='required-fields row')\n",
    "#hom_box_contains"
   ]
  },
  {
   "cell_type": "markdown",
   "metadata": {},
   "source": [
    "### Scraping the page"
   ]
  },
  {
   "cell_type": "code",
   "execution_count": 5,
   "metadata": {},
   "outputs": [],
   "source": [
    "#lieu de Stockage dans les grandes villes\n",
    "stockage_homebox=['Garde-meuble Paris','Garde-meuble Lyon','Garde-meuble Marseille','Garde-meuble Toulouse',\n",
    "'Garde-meuble Bordeaux','Garde-meuble Nice','Garde-meuble Lille','Garde-meuble Nantes','Garde-meuble Montpellier']"
   ]
  },
  {
   "cell_type": "code",
   "execution_count": null,
   "metadata": {},
   "outputs": [],
   "source": []
  },
  {
   "cell_type": "code",
   "execution_count": 8,
   "metadata": {},
   "outputs": [
    {
     "ename": "AttributeError",
     "evalue": "'NoneType' object has no attribute 'text'",
     "output_type": "error",
     "traceback": [
      "\u001b[0;31m---------------------------------------------------------------------------\u001b[0m",
      "\u001b[0;31mAttributeError\u001b[0m                            Traceback (most recent call last)",
      "\u001b[0;32m<ipython-input-8-e6be204f8b4c>\u001b[0m in \u001b[0;36m<module>\u001b[0;34m\u001b[0m\n\u001b[1;32m     15\u001b[0m     \u001b[0;31m# Obtain the complete adresse\u001b[0m\u001b[0;34m\u001b[0m\u001b[0;34m\u001b[0m\u001b[0m\n\u001b[1;32m     16\u001b[0m     \u001b[0madresse\u001b[0m\u001b[0;34m=\u001b[0m\u001b[0mcontain\u001b[0m\u001b[0;34m.\u001b[0m\u001b[0mfind\u001b[0m\u001b[0;34m(\u001b[0m\u001b[0;34m'div'\u001b[0m\u001b[0;34m,\u001b[0m \u001b[0mclass_\u001b[0m\u001b[0;34m=\u001b[0m\u001b[0;34m'thoroughfare'\u001b[0m\u001b[0;34m)\u001b[0m\u001b[0;34m.\u001b[0m\u001b[0mtext\u001b[0m\u001b[0;34m\u001b[0m\u001b[0m\n\u001b[0;32m---> 17\u001b[0;31m     \u001b[0madresse1\u001b[0m\u001b[0;34m=\u001b[0m\u001b[0mcontain\u001b[0m\u001b[0;34m.\u001b[0m\u001b[0mfind\u001b[0m\u001b[0;34m(\u001b[0m\u001b[0;34m'div'\u001b[0m\u001b[0;34m,\u001b[0m \u001b[0mclass_\u001b[0m\u001b[0;34m=\u001b[0m\u001b[0;34m'adress'\u001b[0m\u001b[0;34m)\u001b[0m\u001b[0;34m.\u001b[0m\u001b[0mtext\u001b[0m\u001b[0;34m\u001b[0m\u001b[0m\n\u001b[0m\u001b[1;32m     18\u001b[0m     \u001b[0madresses\u001b[0m\u001b[0;34m.\u001b[0m\u001b[0mappend\u001b[0m\u001b[0;34m(\u001b[0m\u001b[0madresse\u001b[0m\u001b[0;34m)\u001b[0m\u001b[0;34m\u001b[0m\u001b[0m\n\u001b[1;32m     19\u001b[0m     \u001b[0madresses1\u001b[0m\u001b[0;34m.\u001b[0m\u001b[0mappend\u001b[0m\u001b[0;34m(\u001b[0m\u001b[0madresse\u001b[0m\u001b[0;34m)\u001b[0m\u001b[0;34m\u001b[0m\u001b[0m\n",
      "\u001b[0;31mAttributeError\u001b[0m: 'NoneType' object has no attribute 'text'"
     ]
    }
   ],
   "source": [
    "postals=[]\n",
    "locatites=[]\n",
    "adresses=[]\n",
    "votes=[]\n",
    "ratings=[]\n",
    "\n",
    "for contain in home_box_contains:\n",
    "# Obtains the postal code of the ome box\n",
    "    postal= contain.find('span', class_ = 'postal-code').text\n",
    "    \n",
    "# Obtain the locality of the product\n",
    "#    localite= contain.find('span', class_ = 'locality').text\n",
    "#   locatites.append(localite)\n",
    "    \n",
    "    # Obtain the complete adresse\n",
    "    adresse=contain.find('div', class_='thoroughfare').text\n",
    "    adresse1=contain.find('div', class_='adress').text\n",
    "    adresses.append(adresse)\n",
    "    adresses1.append(adresse)\n",
    "    \n",
    "    # Scraping the votes\n",
    "#    vote_count=contain.find('span', class_='count-vote')\n",
    "#    ratings.append(vote_count)\n",
    "        \n",
    "       # votes.append(votemew)\n",
    "    \n",
    "    \n",
    "df_home_box = pd.DataFrame({'Postal-code': postals,\n",
    "                            'Adresse': adresses,\n",
    "                            'Ville': locatites,\n",
    "                            'Nombre-votant': ratings\n",
    "                            })\n",
    "#print(test_df.info())\n",
    "df_home_box[0:5]"
   ]
  },
  {
   "cell_type": "code",
   "execution_count": null,
   "metadata": {},
   "outputs": [],
   "source": []
  }
 ],
 "metadata": {
  "kernelspec": {
   "display_name": "Python 3",
   "language": "python",
   "name": "python3"
  },
  "language_info": {
   "codemirror_mode": {
    "name": "ipython",
    "version": 3
   },
   "file_extension": ".py",
   "mimetype": "text/x-python",
   "name": "python",
   "nbconvert_exporter": "python",
   "pygments_lexer": "ipython3",
   "version": "3.5.2"
  }
 },
 "nbformat": 4,
 "nbformat_minor": 2
}
