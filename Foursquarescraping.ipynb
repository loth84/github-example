{
 "cells": [
  {
   "cell_type": "code",
   "execution_count": 1,
   "metadata": {},
   "outputs": [],
   "source": [
    "# import pandas and numpy\n",
    "import pandas as pd\n",
    "import numpy as np\n",
    "\n",
    "       ################# \n",
    "         #Import necessary package for Scrapping web pag\n",
    "       ###################### \n",
    "\n",
    "#After installing beautifulsoup wip \n",
    "#pip install beautifulsoup4\n",
    "from bs4 import BeautifulSoup\n",
    "# Install lxml with:  pip install lxml qfter installinng import the package\n",
    "from IPython.display import HTML, display\n",
    "import requests\n",
    "\n",
    "        #######################################\n",
    "        #Import the necessary dependancy for the geolocalise\n",
    "        #######################################\n",
    "\n",
    "#install geopy with :pip3 install geopy   \n",
    "from geopy.geocoders import Nominatim # convert an address into latitude and longitude values\n",
    "#install geopy with :pip3 install folium\n",
    "import folium # map rendering library\n",
    "#install json_normalize\n",
    "from pandas.io.json import json_normalize\n",
    "\n",
    "        ################# \n",
    "         #Scrapping web page\n",
    "        #####################\n",
    "\n",
    "from geopy.geocoders import Nominatim  # convert an address into latitude and longitude values\n",
    "\n",
    "        ###############################################################\n",
    "        ###### Import necessary  library to make instogramme\n",
    "        #############################################################\n",
    "\n",
    "import matplotlib.pyplot as plt\n",
    "%matplotlib inline \n",
    "#print('Matplotlib version'+plt.__version__ )"
   ]
  },
  {
   "cell_type": "code",
   "execution_count": 2,
   "metadata": {},
   "outputs": [],
   "source": [
    " # Code for import the data frame and the table contant in the page\n",
    "res = requests.get(\"https://en.wikipedia.org/wiki/List_of_postal_codes_of_Canada:_M\")\n",
    "soup = BeautifulSoup(res.content,'lxml')\n",
    "table = soup.find_all('table')[0]\n",
    "df = pd.read_html(str(table))[0]\n",
    "df.columns = ['Postcode', 'Borough', 'Neighbourhood'] # Give colums Na\n",
    "#df[0:3]"
   ]
  },
  {
   "cell_type": "code",
   "execution_count": 3,
   "metadata": {},
   "outputs": [],
   "source": [
    "#Drop row with not assigmed\n",
    "df = df[df.Borough != 'Not assigned'] \n",
    "df=df.drop(df.index[0]) # Drop first row\n",
    "#df[0:3]"
   ]
  },
  {
   "cell_type": "code",
   "execution_count": 12,
   "metadata": {},
   "outputs": [
    {
     "data": {
      "text/html": [
       "<div>\n",
       "<table border=\"1\" class=\"dataframe\">\n",
       "  <thead>\n",
       "    <tr style=\"text-align: right;\">\n",
       "      <th></th>\n",
       "      <th>Postcode</th>\n",
       "      <th>Borough</th>\n",
       "      <th>Neighbourhood</th>\n",
       "    </tr>\n",
       "  </thead>\n",
       "  <tbody>\n",
       "    <tr>\n",
       "      <th>0</th>\n",
       "      <td>M1B</td>\n",
       "      <td>Scarborough</td>\n",
       "      <td>Rouge,Malvern</td>\n",
       "    </tr>\n",
       "    <tr>\n",
       "      <th>1</th>\n",
       "      <td>M1C</td>\n",
       "      <td>Scarborough</td>\n",
       "      <td>Highland Creek,Rouge Hill,Port Union</td>\n",
       "    </tr>\n",
       "    <tr>\n",
       "      <th>2</th>\n",
       "      <td>M1E</td>\n",
       "      <td>Scarborough</td>\n",
       "      <td>Guildwood,Morningside,West Hill</td>\n",
       "    </tr>\n",
       "  </tbody>\n",
       "</table>\n",
       "</div>"
      ],
      "text/plain": [
       "  Postcode      Borough                         Neighbourhood\n",
       "0      M1B  Scarborough                         Rouge,Malvern\n",
       "1      M1C  Scarborough  Highland Creek,Rouge Hill,Port Union\n",
       "2      M1E  Scarborough       Guildwood,Morningside,West Hill"
      ]
     },
     "execution_count": 12,
     "metadata": {},
     "output_type": "execute_result"
    }
   ],
   "source": [
    "df = df.groupby(['Postcode','Borough'])['Neighbourhood'].agg(','.join).reset_index() # marge only the Neighbourhod coll in dependancy of Postcode ans Borough\n",
    "df[0:3]"
   ]
  },
  {
   "cell_type": "code",
   "execution_count": 13,
   "metadata": {},
   "outputs": [],
   "source": [
    "# Select the row where the in Neighbourhood there is the value Not assigned and declare a new dataframe to show how the change is done \n",
    "#df= df.loc[df['Neighbourhood'] == 'Not assigned']\n",
    "#df[0:86]\n",
    "df.loc[df.Neighbourhood =='Not assigned', 'Neighbourhood']=df.Borough# replacement of pandas cell values with cell values of another row and print the result\n",
    "#df[0:86]"
   ]
  },
  {
   "cell_type": "code",
   "execution_count": 14,
   "metadata": {},
   "outputs": [
    {
     "data": {
      "text/html": [
       "<div>\n",
       "<table border=\"1\" class=\"dataframe\">\n",
       "  <thead>\n",
       "    <tr style=\"text-align: right;\">\n",
       "      <th></th>\n",
       "      <th>Postcode</th>\n",
       "      <th>Latitude</th>\n",
       "      <th>Longitude</th>\n",
       "    </tr>\n",
       "  </thead>\n",
       "  <tbody>\n",
       "    <tr>\n",
       "      <th>0</th>\n",
       "      <td>M1B</td>\n",
       "      <td>43.806686</td>\n",
       "      <td>-79.194353</td>\n",
       "    </tr>\n",
       "    <tr>\n",
       "      <th>1</th>\n",
       "      <td>M1C</td>\n",
       "      <td>43.784535</td>\n",
       "      <td>-79.160497</td>\n",
       "    </tr>\n",
       "    <tr>\n",
       "      <th>2</th>\n",
       "      <td>M1E</td>\n",
       "      <td>43.763573</td>\n",
       "      <td>-79.188711</td>\n",
       "    </tr>\n",
       "  </tbody>\n",
       "</table>\n",
       "</div>"
      ],
      "text/plain": [
       "  Postcode   Latitude  Longitude\n",
       "0      M1B  43.806686 -79.194353\n",
       "1      M1C  43.784535 -79.160497\n",
       "2      M1E  43.763573 -79.188711"
      ]
     },
     "execution_count": 14,
     "metadata": {},
     "output_type": "execute_result"
    }
   ],
   "source": [
    "df_geo = pd.read_csv('http://cocl.us/Geospatial_data') #Import Data necessary for the geolocatisation\n",
    "df_geo.columns = ['Postcode', 'Latitude', 'Longitude'] #Give a name to the all the coll present in the dataframe df_ge0\n",
    "df_geo[0:3]"
   ]
  },
  {
   "cell_type": "code",
   "execution_count": 15,
   "metadata": {},
   "outputs": [],
   "source": [
    "# make a fusion from the basic doccumentation and the latitude, longitude, Postcode, basis on Postcode\n",
    "df_pos = pd.merge(df, df_geo, on=['Postcode'], how='inner')\n",
    "#df_pos[0:3]"
   ]
  },
  {
   "cell_type": "code",
   "execution_count": 37,
   "metadata": {},
   "outputs": [
    {
     "data": {
      "text/html": [
       "<div>\n",
       "<table border=\"1\" class=\"dataframe\">\n",
       "  <thead>\n",
       "    <tr style=\"text-align: right;\">\n",
       "      <th></th>\n",
       "      <th>Borough</th>\n",
       "      <th>Neighbourhood</th>\n",
       "      <th>Postcode</th>\n",
       "      <th>Latitude</th>\n",
       "      <th>Longitude</th>\n",
       "    </tr>\n",
       "  </thead>\n",
       "  <tbody>\n",
       "    <tr>\n",
       "      <th>0</th>\n",
       "      <td>Scarborough</td>\n",
       "      <td>Rouge,Malvern</td>\n",
       "      <td>M1B</td>\n",
       "      <td>43.806686</td>\n",
       "      <td>-79.194353</td>\n",
       "    </tr>\n",
       "    <tr>\n",
       "      <th>1</th>\n",
       "      <td>Scarborough</td>\n",
       "      <td>Highland Creek,Rouge Hill,Port Union</td>\n",
       "      <td>M1C</td>\n",
       "      <td>43.784535</td>\n",
       "      <td>-79.160497</td>\n",
       "    </tr>\n",
       "    <tr>\n",
       "      <th>2</th>\n",
       "      <td>Scarborough</td>\n",
       "      <td>Guildwood,Morningside,West Hill</td>\n",
       "      <td>M1E</td>\n",
       "      <td>43.763573</td>\n",
       "      <td>-79.188711</td>\n",
       "    </tr>\n",
       "  </tbody>\n",
       "</table>\n",
       "</div>"
      ],
      "text/plain": [
       "       Borough                         Neighbourhood Postcode   Latitude  \\\n",
       "0  Scarborough                         Rouge,Malvern      M1B  43.806686   \n",
       "1  Scarborough  Highland Creek,Rouge Hill,Port Union      M1C  43.784535   \n",
       "2  Scarborough       Guildwood,Morningside,West Hill      M1E  43.763573   \n",
       "\n",
       "   Longitude  \n",
       "0 -79.194353  \n",
       "1 -79.160497  \n",
       "2 -79.188711  "
      ]
     },
     "execution_count": 37,
     "metadata": {},
     "output_type": "execute_result"
    }
   ],
   "source": [
    "#Make a reorganisation from all the colls present in the dataframe\n",
    "df_reorganisation = df_pos[['Borough', 'Neighbourhood', 'Postcode', 'Latitude', 'Longitude']].copy()\n",
    "tnew=df_reorganisation[0:3]\n",
    "tnew\n",
    "#df_reorganisation['Latitude']"
   ]
  },
  {
   "cell_type": "markdown",
   "metadata": {},
   "source": [
    "### Print coordonate from Toronto Canada"
   ]
  },
  {
   "cell_type": "code",
   "execution_count": 25,
   "metadata": {},
   "outputs": [
    {
     "name": "stdout",
     "output_type": "stream",
     "text": [
      "The l coordinate of the City of Toronto are 43.653963, -79.387207.\n"
     ]
    },
    {
     "name": "stderr",
     "output_type": "stream",
     "text": [
      "/home/loth/.local/lib/python3.5/site-packages/ipykernel_launcher.py:3: DeprecationWarning: Using Nominatim with the default \"geopy/1.20.0\" `user_agent` is strongly discouraged, as it violates Nominatim's ToS https://operations.osmfoundation.org/policies/nominatim/ and may possibly cause 403 and 429 HTTP errors. Please specify a custom `user_agent` with `Nominatim(user_agent=\"my-application\")` or by overriding the default `user_agent`: `geopy.geocoders.options.default_user_agent = \"my-application\"`. In geopy 2.0 this will become an exception.\n",
      "  This is separate from the ipykernel package so we can avoid doing imports until\n"
     ]
    }
   ],
   "source": [
    "address = 'Toronto, Canada' #Make a declaration from the adress Toronto Canada\n",
    "# Code to find the coordinator from toronto and canada\n",
    "geolocator = Nominatim()\n",
    "location = geolocator.geocode(address)\n",
    "latitude = location.latitude\n",
    "longitude = location.longitude\n",
    "print('The l coordinate of the City of Toronto are {}, {}.'.format(latitude, longitude))"
   ]
  },
  {
   "cell_type": "code",
   "execution_count": 27,
   "metadata": {},
   "outputs": [],
   "source": [
    "map_toronto = folium.Map(location=[latitude, longitude], zoom_start=10)\n",
    "# add markers to map\n",
    "for lat, lng, borough, neighborhood in zip(df_reorganisation['Latitude'], df_reorganisation['Longitude'], df_reorganisation['Borough'], df_reorganisation['Neighbourhood']):\n",
    "    label = '{}, {}'.format(neighborhood, borough)\n",
    "    label = folium.Popup(label, parse_html=True)\n",
    "    folium.CircleMarker(\n",
    "        [lat, lng],\n",
    "        radius=3,\n",
    "        popup=label,\n",
    "        color='green',\n",
    "        fill=True,\n",
    "        fill_color='#3199cc',\n",
    "        fill_opacity=0.3,\n",
    "        parse_html=False).add_to(map_toronto)    \n",
    "#map_toronto"
   ]
  },
  {
   "cell_type": "code",
   "execution_count": 28,
   "metadata": {},
   "outputs": [
    {
     "data": {
      "text/html": [
       "<div>\n",
       "<table border=\"1\" class=\"dataframe\">\n",
       "  <thead>\n",
       "    <tr style=\"text-align: right;\">\n",
       "      <th></th>\n",
       "      <th>Borough</th>\n",
       "      <th>Neighbourhood</th>\n",
       "      <th>Postcode</th>\n",
       "      <th>Latitude</th>\n",
       "      <th>Longitude</th>\n",
       "    </tr>\n",
       "  </thead>\n",
       "  <tbody>\n",
       "    <tr>\n",
       "      <th>0</th>\n",
       "      <td>East Toronto</td>\n",
       "      <td>The Beaches</td>\n",
       "      <td>M4E</td>\n",
       "      <td>43.676357</td>\n",
       "      <td>-79.293031</td>\n",
       "    </tr>\n",
       "    <tr>\n",
       "      <th>1</th>\n",
       "      <td>East Toronto</td>\n",
       "      <td>The Danforth West,Riverdale</td>\n",
       "      <td>M4K</td>\n",
       "      <td>43.679557</td>\n",
       "      <td>-79.352188</td>\n",
       "    </tr>\n",
       "    <tr>\n",
       "      <th>2</th>\n",
       "      <td>East Toronto</td>\n",
       "      <td>The Beaches West,India Bazaar</td>\n",
       "      <td>M4L</td>\n",
       "      <td>43.668999</td>\n",
       "      <td>-79.315572</td>\n",
       "    </tr>\n",
       "    <tr>\n",
       "      <th>3</th>\n",
       "      <td>East Toronto</td>\n",
       "      <td>Studio District</td>\n",
       "      <td>M4M</td>\n",
       "      <td>43.659526</td>\n",
       "      <td>-79.340923</td>\n",
       "    </tr>\n",
       "    <tr>\n",
       "      <th>4</th>\n",
       "      <td>Central Toronto</td>\n",
       "      <td>Lawrence Park</td>\n",
       "      <td>M4N</td>\n",
       "      <td>43.728020</td>\n",
       "      <td>-79.388790</td>\n",
       "    </tr>\n",
       "  </tbody>\n",
       "</table>\n",
       "</div>"
      ],
      "text/plain": [
       "           Borough                  Neighbourhood Postcode   Latitude  \\\n",
       "0     East Toronto                    The Beaches      M4E  43.676357   \n",
       "1     East Toronto    The Danforth West,Riverdale      M4K  43.679557   \n",
       "2     East Toronto  The Beaches West,India Bazaar      M4L  43.668999   \n",
       "3     East Toronto                Studio District      M4M  43.659526   \n",
       "4  Central Toronto                  Lawrence Park      M4N  43.728020   \n",
       "\n",
       "   Longitude  \n",
       "0 -79.293031  \n",
       "1 -79.352188  \n",
       "2 -79.315572  \n",
       "3 -79.340923  \n",
       "4 -79.388790  "
      ]
     },
     "execution_count": 28,
     "metadata": {},
     "output_type": "execute_result"
    }
   ],
   "source": [
    "df_t1 = df_reorganisation[df_reorganisation['Borough'].str.contains('Toronto')] # Define a new dataframe with only Toronto as Borough\n",
    "to_data = df_t1.reset_index(drop=True) # Help to put the index declaration in the right order 0,1,2,3,4\n",
    "to_data [0:5]\n",
    "#df_t4"
   ]
  },
  {
   "cell_type": "markdown",
   "metadata": {},
   "source": [
    "### Explore the first neighbourhood"
   ]
  },
  {
   "cell_type": "code",
   "execution_count": 29,
   "metadata": {},
   "outputs": [
    {
     "data": {
      "text/plain": [
       "'Rosedale'"
      ]
     },
     "execution_count": 29,
     "metadata": {},
     "output_type": "execute_result"
    }
   ],
   "source": [
    "to_data.loc[10, 'Neighbourhood']"
   ]
  },
  {
   "cell_type": "code",
   "execution_count": 30,
   "metadata": {},
   "outputs": [
    {
     "name": "stdout",
     "output_type": "stream",
     "text": [
      "Latitude and longitude values of Rosedale are 43.6795626, -79.37752940000001.\n"
     ]
    }
   ],
   "source": [
    "neighbourhood_latitude = to_data.loc[10, 'Latitude']   # value of the neighbourhood latitude \n",
    "neighbourhood_longitude = to_data.loc[10, 'Longitude'] # value of the neighbourhood longitude \n",
    "\n",
    "neighbourhood_name = to_data.loc[10, 'Neighbourhood'] # giver a name to the neighbourhood \n",
    "\n",
    "print('Latitude and longitude values of {} are {}, {}.'.format(neighbourhood_name, \n",
    "                                                               neighbourhood_latitude, \n",
    "                                                               neighbourhood_longitude))"
   ]
  },
  {
   "cell_type": "markdown",
   "metadata": {},
   "source": [
    "# Scraping the different Foursquare parameters"
   ]
  },
  {
   "cell_type": "code",
   "execution_count": 41,
   "metadata": {},
   "outputs": [],
   "source": [
    "# https://stackoverflow.com/questions/57381511/extracting-specific-venue-categories-from-foursquare-api-using-python-code\n",
    "name\n",
    "LIMIT = 10\n",
    "radius = 500\n",
    "CLIENT_ID = '3WGIGW2JP1DAQABSATJENRP25A3THDBEC303QEHM0KPKGKMT'     # your Foursquare ID\n",
    "CLIENT_SECRET = 'RCOBC0XDX30OHNM402UL5AXMRGHCXZML042LJ2EEERQSRIFW' # your Foursquare Secret\n",
    "VERSION = '20180605' # Version declaration \n",
    "latitudes =  tnew['Latitude']\n",
    "longitudes = tnew['Longitude']\n",
    "nearby_venues=[]\n",
    "venues_list = []\n",
    "def getNearbyVenues(names, latitudes, longitudes, radius=2000, LIMIT=50, categoryId='52f2ab2ebcbc57f1066b8b46'):\n",
    "\n",
    "# Make a request from Foursquare to get the\n",
    "for lat, lng in zip(latitudes,longitudes):\n",
    "    url = 'https://api.foursquare.com/v2/venues/explore?&client_id={}&client_secret={}&v={}&ll={},{}&radius={}&limit={}'.format(\n",
    "        CLIENT_ID, \n",
    "        CLIENT_SECRET, \n",
    "        VERSION, \n",
    "        lat, \n",
    "        lng, \n",
    "        radius, \n",
    "        LIMIT)\n",
    "    url\n",
    "    results = requests.get(url).json()[\"response\"]['groups'][0]['items']\n",
    "    for v in results:\n",
    "        # return only relevant information for each nearby venue\n",
    "        venues_list.append([(\n",
    "            name, \n",
    "            lat, \n",
    "            lng, \n",
    "            v['venue']['name'], \n",
    "            v['venue']['location']['lat'], \n",
    "            v['venue']['location']['lng'],  \n",
    "            v['venue']['categories'][0]['name'])]) \n",
    "\n",
    "        nearby_venues = pd.DataFrame([item for venue_list in venues_list for item in venue_list])\n",
    "        nearby_venues.columns = ['Neighborhood',\n",
    "                                 'Neighborhood Latitude',\n",
    "                                 'Neighborhood Longitude',\n",
    "                                 'Venue', \n",
    "                                 'Venue Latitude',\n",
    "                                 'Venue Longitude', \n",
    "                                 'Venue Category']"
   ]
  },
  {
   "cell_type": "code",
   "execution_count": 42,
   "metadata": {
    "scrolled": true
   },
   "outputs": [
    {
     "data": {
      "text/html": [
       "<div>\n",
       "<table border=\"1\" class=\"dataframe\">\n",
       "  <thead>\n",
       "    <tr style=\"text-align: right;\">\n",
       "      <th></th>\n",
       "      <th>Neighborhood</th>\n",
       "      <th>Neighborhood Latitude</th>\n",
       "      <th>Neighborhood Longitude</th>\n",
       "      <th>Venue</th>\n",
       "      <th>Venue Latitude</th>\n",
       "      <th>Venue Longitude</th>\n",
       "      <th>Venue Category</th>\n",
       "    </tr>\n",
       "  </thead>\n",
       "  <tbody>\n",
       "    <tr>\n",
       "      <th>0</th>\n",
       "      <td>[]</td>\n",
       "      <td>43.806686</td>\n",
       "      <td>-79.194353</td>\n",
       "      <td>Wendy's</td>\n",
       "      <td>43.807448</td>\n",
       "      <td>-79.199056</td>\n",
       "      <td>Fast Food Restaurant</td>\n",
       "    </tr>\n",
       "    <tr>\n",
       "      <th>1</th>\n",
       "      <td>[]</td>\n",
       "      <td>43.784535</td>\n",
       "      <td>-79.160497</td>\n",
       "      <td>Royal Canadian Legion</td>\n",
       "      <td>43.782533</td>\n",
       "      <td>-79.163085</td>\n",
       "      <td>Bar</td>\n",
       "    </tr>\n",
       "    <tr>\n",
       "      <th>2</th>\n",
       "      <td>[]</td>\n",
       "      <td>43.784535</td>\n",
       "      <td>-79.160497</td>\n",
       "      <td>Scarborough Historical Society</td>\n",
       "      <td>43.788755</td>\n",
       "      <td>-79.162438</td>\n",
       "      <td>History Museum</td>\n",
       "    </tr>\n",
       "    <tr>\n",
       "      <th>3</th>\n",
       "      <td>[]</td>\n",
       "      <td>43.763573</td>\n",
       "      <td>-79.188711</td>\n",
       "      <td>Swiss Chalet Rotisserie &amp; Grill</td>\n",
       "      <td>43.767697</td>\n",
       "      <td>-79.189914</td>\n",
       "      <td>Pizza Place</td>\n",
       "    </tr>\n",
       "    <tr>\n",
       "      <th>4</th>\n",
       "      <td>[]</td>\n",
       "      <td>43.763573</td>\n",
       "      <td>-79.188711</td>\n",
       "      <td>G &amp; G Electronics</td>\n",
       "      <td>43.765309</td>\n",
       "      <td>-79.191537</td>\n",
       "      <td>Electronics Store</td>\n",
       "    </tr>\n",
       "    <tr>\n",
       "      <th>5</th>\n",
       "      <td>[]</td>\n",
       "      <td>43.763573</td>\n",
       "      <td>-79.188711</td>\n",
       "      <td>Big Bite Burrito</td>\n",
       "      <td>43.766299</td>\n",
       "      <td>-79.190720</td>\n",
       "      <td>Mexican Restaurant</td>\n",
       "    </tr>\n",
       "    <tr>\n",
       "      <th>6</th>\n",
       "      <td>[]</td>\n",
       "      <td>43.763573</td>\n",
       "      <td>-79.188711</td>\n",
       "      <td>Enterprise Rent-A-Car</td>\n",
       "      <td>43.764076</td>\n",
       "      <td>-79.193406</td>\n",
       "      <td>Rental Car Location</td>\n",
       "    </tr>\n",
       "    <tr>\n",
       "      <th>7</th>\n",
       "      <td>[]</td>\n",
       "      <td>43.763573</td>\n",
       "      <td>-79.188711</td>\n",
       "      <td>Woburn Medical Centre</td>\n",
       "      <td>43.766631</td>\n",
       "      <td>-79.192286</td>\n",
       "      <td>Medical Center</td>\n",
       "    </tr>\n",
       "    <tr>\n",
       "      <th>8</th>\n",
       "      <td>[]</td>\n",
       "      <td>43.763573</td>\n",
       "      <td>-79.188711</td>\n",
       "      <td>Lawrence Ave E &amp; Kingston Rd</td>\n",
       "      <td>43.767704</td>\n",
       "      <td>-79.189490</td>\n",
       "      <td>Intersection</td>\n",
       "    </tr>\n",
       "    <tr>\n",
       "      <th>9</th>\n",
       "      <td>[]</td>\n",
       "      <td>43.763573</td>\n",
       "      <td>-79.188711</td>\n",
       "      <td>Eggsmart</td>\n",
       "      <td>43.767800</td>\n",
       "      <td>-79.190466</td>\n",
       "      <td>Breakfast Spot</td>\n",
       "    </tr>\n",
       "  </tbody>\n",
       "</table>\n",
       "</div>"
      ],
      "text/plain": [
       "  Neighborhood  Neighborhood Latitude  Neighborhood Longitude  \\\n",
       "0           []              43.806686              -79.194353   \n",
       "1           []              43.784535              -79.160497   \n",
       "2           []              43.784535              -79.160497   \n",
       "3           []              43.763573              -79.188711   \n",
       "4           []              43.763573              -79.188711   \n",
       "5           []              43.763573              -79.188711   \n",
       "6           []              43.763573              -79.188711   \n",
       "7           []              43.763573              -79.188711   \n",
       "8           []              43.763573              -79.188711   \n",
       "9           []              43.763573              -79.188711   \n",
       "\n",
       "                             Venue  Venue Latitude  Venue Longitude  \\\n",
       "0                          Wendy's       43.807448       -79.199056   \n",
       "1            Royal Canadian Legion       43.782533       -79.163085   \n",
       "2   Scarborough Historical Society       43.788755       -79.162438   \n",
       "3  Swiss Chalet Rotisserie & Grill       43.767697       -79.189914   \n",
       "4                G & G Electronics       43.765309       -79.191537   \n",
       "5                 Big Bite Burrito       43.766299       -79.190720   \n",
       "6            Enterprise Rent-A-Car       43.764076       -79.193406   \n",
       "7            Woburn Medical Centre       43.766631       -79.192286   \n",
       "8     Lawrence Ave E & Kingston Rd       43.767704       -79.189490   \n",
       "9                         Eggsmart       43.767800       -79.190466   \n",
       "\n",
       "         Venue Category  \n",
       "0  Fast Food Restaurant  \n",
       "1                   Bar  \n",
       "2        History Museum  \n",
       "3           Pizza Place  \n",
       "4     Electronics Store  \n",
       "5    Mexican Restaurant  \n",
       "6   Rental Car Location  \n",
       "7        Medical Center  \n",
       "8          Intersection  \n",
       "9        Breakfast Spot  "
      ]
     },
     "execution_count": 42,
     "metadata": {},
     "output_type": "execute_result"
    }
   ],
   "source": [
    "#nearby_venues for \n",
    "nearby_venues"
   ]
  },
  {
   "cell_type": "markdown",
   "metadata": {},
   "source": [
    "# Necessary for testing the different parameters"
   ]
  },
  {
   "cell_type": "code",
   "execution_count": 32,
   "metadata": {},
   "outputs": [
    {
     "data": {
      "text/html": [
       "<div>\n",
       "<table border=\"1\" class=\"dataframe\">\n",
       "  <thead>\n",
       "    <tr style=\"text-align: right;\">\n",
       "      <th></th>\n",
       "      <th>reasons.count</th>\n",
       "      <th>reasons.items</th>\n",
       "      <th>referralId</th>\n",
       "      <th>venue.categories</th>\n",
       "      <th>venue.id</th>\n",
       "      <th>venue.location.cc</th>\n",
       "      <th>venue.location.city</th>\n",
       "      <th>venue.location.country</th>\n",
       "      <th>venue.location.crossStreet</th>\n",
       "      <th>venue.location.distance</th>\n",
       "      <th>venue.location.formattedAddress</th>\n",
       "      <th>venue.location.labeledLatLngs</th>\n",
       "      <th>venue.location.lat</th>\n",
       "      <th>venue.location.lng</th>\n",
       "      <th>venue.location.state</th>\n",
       "      <th>venue.name</th>\n",
       "      <th>venue.photos.count</th>\n",
       "      <th>venue.photos.groups</th>\n",
       "    </tr>\n",
       "  </thead>\n",
       "  <tbody>\n",
       "    <tr>\n",
       "      <th>0</th>\n",
       "      <td>0</td>\n",
       "      <td>[{'reasonName': 'globalInteractionReason', 'ty...</td>\n",
       "      <td>e-0-4bb6b9446edc76b0d771311c-0</td>\n",
       "      <td>[{'primary': True, 'name': 'Fast Food Restaura...</td>\n",
       "      <td>4bb6b9446edc76b0d771311c</td>\n",
       "      <td>CA</td>\n",
       "      <td>Toronto</td>\n",
       "      <td>Canada</td>\n",
       "      <td>Morningside &amp; Sheppard</td>\n",
       "      <td>387</td>\n",
       "      <td>[Toronto ON, Canada]</td>\n",
       "      <td>[{'lng': -79.19905558052072, 'label': 'display...</td>\n",
       "      <td>43.807448</td>\n",
       "      <td>-79.199056</td>\n",
       "      <td>ON</td>\n",
       "      <td>Wendy's</td>\n",
       "      <td>0</td>\n",
       "      <td>[]</td>\n",
       "    </tr>\n",
       "  </tbody>\n",
       "</table>\n",
       "</div>"
      ],
      "text/plain": [
       "   reasons.count                                      reasons.items  \\\n",
       "0              0  [{'reasonName': 'globalInteractionReason', 'ty...   \n",
       "\n",
       "                       referralId  \\\n",
       "0  e-0-4bb6b9446edc76b0d771311c-0   \n",
       "\n",
       "                                    venue.categories  \\\n",
       "0  [{'primary': True, 'name': 'Fast Food Restaura...   \n",
       "\n",
       "                   venue.id venue.location.cc venue.location.city  \\\n",
       "0  4bb6b9446edc76b0d771311c                CA             Toronto   \n",
       "\n",
       "  venue.location.country venue.location.crossStreet  venue.location.distance  \\\n",
       "0                 Canada     Morningside & Sheppard                      387   \n",
       "\n",
       "  venue.location.formattedAddress  \\\n",
       "0            [Toronto ON, Canada]   \n",
       "\n",
       "                       venue.location.labeledLatLngs  venue.location.lat  \\\n",
       "0  [{'lng': -79.19905558052072, 'label': 'display...           43.807448   \n",
       "\n",
       "   venue.location.lng venue.location.state venue.name  venue.photos.count  \\\n",
       "0          -79.199056                   ON    Wendy's                   0   \n",
       "\n",
       "  venue.photos.groups  \n",
       "0                  []  "
      ]
     },
     "execution_count": 32,
     "metadata": {},
     "output_type": "execute_result"
    }
   ],
   "source": [
    "LIMIT = 10\n",
    "radius = 500\n",
    "CLIENT_ID = '3WGIGW2JP1DAQABSATJENRP25A3THDBEC303QEHM0KPKGKMT' # your Foursquare ID\n",
    "CLIENT_SECRET = 'RCOBC0XDX30OHNM402UL5AXMRGHCXZML042LJ2EEERQSRIFW' # your Foursquare Secret\n",
    "VERSION = '20180605' # Version declaration \n",
    "neighbourhood_latitude = 43.806686\n",
    "neighbourhood_longitude = -79.194353\n",
    "\n",
    "# Make a request from Foursquare to get the\n",
    "url3 = 'https://api.foursquare.com/v2/venues/explore?&client_id={}&client_secret={}&v={}&ll={},{}&radius={}&limit={}'.format(\n",
    "    CLIENT_ID, \n",
    "    CLIENT_SECRET, \n",
    "    VERSION, \n",
    "    neighbourhood_latitude, \n",
    "    neighbourhood_longitude, \n",
    "    radius, \n",
    "    LIMIT)\n",
    "url3\n",
    "results4 = requests.get(url3).json()\n",
    "results4\n",
    "# assign relevant part of JSON to venues\n",
    "venues4 = results4['response']['groups'][0]['items']\n",
    "# tranform venues into a dataframe\n",
    "dataframe3 = json_normalize(venues4)\n",
    "dataframe3"
   ]
  }
 ],
 "metadata": {
  "kernelspec": {
   "display_name": "Python 3",
   "language": "python",
   "name": "python3"
  },
  "language_info": {
   "codemirror_mode": {
    "name": "ipython",
    "version": 3
   },
   "file_extension": ".py",
   "mimetype": "text/x-python",
   "name": "python",
   "nbconvert_exporter": "python",
   "pygments_lexer": "ipython3",
   "version": "3.5.2"
  }
 },
 "nbformat": 4,
 "nbformat_minor": 2
}
