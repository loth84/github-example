{
 "cells": [
  {
   "cell_type": "markdown",
   "metadata": {},
   "source": [
    "# Choosing positions for Homebox Storage | Business Proposal | Introduction \n",
    "\n",
    "## Introduction:\n",
    "\n",
    "The purpose of this project is to help businessman for choosing position for Box storage business taking in account their environment. We are going to  achieve it by study how one major (HOMEBOX) is taking decision. It will help businessman making smart and efficient decision on selecting great place in France.\n",
    "Lots of people are searching new business position in the immovable industries specially on box storage in France. This is the complete study of how big industrial are taking decision in the sector.  We show which parameters are relevant when it’s come to choose place for new box storage. This project is for those people who are looking for better way to decision before \n",
    "\n",
    "## launching new business. \n",
    "This Project aim to create an analysis of features for a young businessman to search a best place for business home box.  The features include venues, professional and non professional  business,  area and demographic.  \n",
    "It will help people to get basics answers of the area and neighborhood before launching a new storage box business. Choosing a new city, state,  place for new business or to start one. \n",
    "\n",
    "\n",
    "## Problem Which Tried to Solve:\n",
    "The major purpose of this project, is to suggest a better business position in a France  for  businessman. \n",
    "\n"
   ]
  }
 ],
 "metadata": {
  "kernelspec": {
   "display_name": "Python 3",
   "language": "python",
   "name": "python3"
  },
  "language_info": {
   "codemirror_mode": {
    "name": "ipython",
    "version": 3
   },
   "file_extension": ".py",
   "mimetype": "text/x-python",
   "name": "python",
   "nbconvert_exporter": "python",
   "pygments_lexer": "ipython3",
   "version": "3.7.3"
  }
 },
 "nbformat": 4,
 "nbformat_minor": 4
}
