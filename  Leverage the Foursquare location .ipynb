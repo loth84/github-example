{
 "cells": [
  {
   "cell_type": "markdown",
   "metadata": {},
   "source": [
    "# Choosing positions for Homebox Storage | Business Proposal | Introduction \n",
    "\n",
    "## Introduction:\n",
    "\n",
    "The purpose of this project is to help businessman for choosing position for Box storage business taking in account their environment. We are going to  achieve it by study how one major (HOMEBOX) is taking decision. It will help businessman making smart and efficient decision on selecting great place in France.\n",
    "Lots of people are searching new business position in the immovable industries specially on box storage in France. This is the complete study of how big industrial are taking decision in the sector.  We show which parameters are relevant when it’s come to choose place for new box storage. This project is for those people who are looking for better way to decision before \n",
    "\n",
    "## launching new business. \n",
    "This Project aim to create an analysis of features for a young businessman to search a best place for business home box.  The features include venues, professional and non professional  business,  area and demographic.  \n",
    "It will help people to get basics answers of the area and neighborhood before launching a new storage box business. Choosing a new city, state,  place for new business or to start one. \n",
    "\n",
    "\n",
    "## Problem Which Tried to Solve:\n",
    "The major purpose of this project, is to suggest a better business position in a France  for  businessman. \n",
    "\n",
    "## The Location:\n",
    "France is a popular destination for new business. As a result, it is one of the most diverse and multicultural areas in the word, being home to various religious groups and places of worship. Although business has become a hot topic over the past few years specially with Emmanuel Macron as president.\n",
    "\n",
    "Foursquare API:\n",
    "This project would use Four-square API and scraping data from https://www.homebox.fr/ as its prime data gathering source. Four-square API is a database of millions of places, especially their places API which provides the ability to perform location search, location sharing and details about a business. Work ## \n",
    "\n",
    "## Flow:\n",
    "Using credentials of Foursquare API features of near-by places of the neighborhoods would be mined. Due to http request limitations the number of places per neighborhood parameter would reasonably be set to 50 and the radius parameter would be set to 1500. Clustering Approach:\n",
    "We decided to explore neighborhoods, segment them, and group them into clusters to find similar neighborhoods in a big city like New York and Toronto. To be able to do that, we need to cluster data which is a form of unsupervised machine learning: k-means clustering algorithm Libraries Which are Used to Develope the Project:\n",
    "Pandas: For creating and manipulating dataframes.\n",
    "Folium: Python visualization library would be used to visualize the neighborhoods cluster distribution of using interactive leaflet map.\n",
    "Scikit Learn: For importing k-means clustering.\n",
    "JSON: Library to handle JSON files.\n",
    "XML: To separate data from presentation and XML stores data in plain text format.\n",
    "Geocoder: To retrieve Location Data.\n",
    "Beautiful Soup and Requests: To scrap and library to handle http requests.\n",
    "Matplotlib: Python Plotting Module"
   ]
  }
 ],
 "metadata": {
  "kernelspec": {
   "display_name": "Python 3",
   "language": "python",
   "name": "python3"
  },
  "language_info": {
   "codemirror_mode": {
    "name": "ipython",
    "version": 3
   },
   "file_extension": ".py",
   "mimetype": "text/x-python",
   "name": "python",
   "nbconvert_exporter": "python",
   "pygments_lexer": "ipython3",
   "version": "3.7.3"
  }
 },
 "nbformat": 4,
 "nbformat_minor": 4
}
